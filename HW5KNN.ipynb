{
  "nbformat": 4,
  "nbformat_minor": 0,
  "metadata": {
    "colab": {
      "name": "CAP5610HW5KNN.ipynb",
      "provenance": [],
      "authorship_tag": "ABX9TyNq1d1cpOfZMEI4UYHQQ41g",
      "include_colab_link": true
    },
    "kernelspec": {
      "name": "python3",
      "display_name": "Python 3"
    }
  },
  "cells": [
    {
      "cell_type": "markdown",
      "metadata": {
        "id": "view-in-github",
        "colab_type": "text"
      },
      "source": [
        "<a href=\"https://colab.research.google.com/github/Jacob-Bendele/Python-Coursework/blob/master/HW5KNN.ipynb\" target=\"_parent\"><img src=\"https://colab.research.google.com/assets/colab-badge.svg\" alt=\"Open In Colab\"/></a>"
      ]
    },
    {
      "cell_type": "markdown",
      "metadata": {
        "id": "BwcmQXUMTC1H",
        "colab_type": "text"
      },
      "source": [
        "Jacob Bendele<br>\n",
        "• Practice with K Nearest Neighbors and the Iris dataset.\n",
        "\n",
        "\n"
      ]
    },
    {
      "cell_type": "markdown",
      "metadata": {
        "id": "UbYMHt_KXpiy",
        "colab_type": "text"
      },
      "source": [
        "##Imports"
      ]
    },
    {
      "cell_type": "code",
      "metadata": {
        "id": "ZgD3jqFtS-n3",
        "colab_type": "code",
        "colab": {}
      },
      "source": [
        "import os\n",
        "import pandas as pd\n",
        "import numpy as np\n",
        "from sklearn import tree \n",
        "from sklearn.neighbors import KNeighborsClassifier\n",
        "from sklearn.datasets import load_iris\n",
        "from sklearn.model_selection import train_test_split\n",
        "from sklearn.model_selection import cross_val_score\n",
        "import matplotlib.pyplot as plt"
      ],
      "execution_count": null,
      "outputs": []
    },
    {
      "cell_type": "markdown",
      "metadata": {
        "id": "lJEM1XhJXmdY",
        "colab_type": "text"
      },
      "source": [
        "##Data Setup"
      ]
    },
    {
      "cell_type": "markdown",
      "metadata": {
        "id": "b7G9gKP6jygO",
        "colab_type": "text"
      },
      "source": [
        "###Using Google Drive"
      ]
    },
    {
      "cell_type": "code",
      "metadata": {
        "id": "z1rbdoHFTz1x",
        "colab_type": "code",
        "colab": {
          "base_uri": "https://localhost:8080/",
          "height": 121
        },
        "outputId": "e3d4df38-8492-4731-caa9-cef4ca694157"
      },
      "source": [
        "# Allowing Colab to access my google drive first way\n",
        "from google.colab import drive\n",
        "drive.mount('/content/drive')\n",
        "\n",
        "os.chdir('drive/My Drive/Machine Learning/Iris')  #change dircetory"
      ],
      "execution_count": null,
      "outputs": [
        {
          "output_type": "stream",
          "text": [
            "Go to this URL in a browser: https://accounts.google.com/o/oauth2/auth?client_id=947318989803-6bn6qk8qdgf4n4g3pfee6491hc0brc4i.apps.googleusercontent.com&redirect_uri=urn%3aietf%3awg%3aoauth%3a2.0%3aoob&response_type=code&scope=email%20https%3a%2f%2fwww.googleapis.com%2fauth%2fdocs.test%20https%3a%2f%2fwww.googleapis.com%2fauth%2fdrive%20https%3a%2f%2fwww.googleapis.com%2fauth%2fdrive.photos.readonly%20https%3a%2f%2fwww.googleapis.com%2fauth%2fpeopleapi.readonly\n",
            "\n",
            "Enter your authorization code:\n",
            "··········\n",
            "Mounted at /content/drive\n"
          ],
          "name": "stdout"
        }
      ]
    },
    {
      "cell_type": "code",
      "metadata": {
        "id": "9y6JyL0KLgHc",
        "colab_type": "code",
        "colab": {}
      },
      "source": [
        "columns = ['sepal_length', 'sepal_width', 'petal_length', 'petal_width', 'type']\n",
        "df = pd.read_csv(\"iris.data\", names=columns)\n"
      ],
      "execution_count": null,
      "outputs": []
    },
    {
      "cell_type": "code",
      "metadata": {
        "id": "IIPNoqTvMRQw",
        "colab_type": "code",
        "colab": {}
      },
      "source": [
        "train, test = train_test_split(df, test_size=0.2)"
      ],
      "execution_count": null,
      "outputs": []
    },
    {
      "cell_type": "markdown",
      "metadata": {
        "id": "b0w2IyvAj3Ha",
        "colab_type": "text"
      },
      "source": [
        "###Using Sklearn Iris Dataset\n"
      ]
    },
    {
      "cell_type": "code",
      "metadata": {
        "colab_type": "code",
        "id": "wU99M964obpT",
        "colab": {
          "base_uri": "https://localhost:8080/",
          "height": 50
        },
        "outputId": "4e5c817c-83ac-4b67-f37d-d782a8f8097b"
      },
      "source": [
        "iris = load_iris()\n",
        "print(iris.feature_names)\n",
        "print(iris.target_names)"
      ],
      "execution_count": null,
      "outputs": [
        {
          "output_type": "stream",
          "text": [
            "['sepal length (cm)', 'sepal width (cm)', 'petal length (cm)', 'petal width (cm)']\n",
            "['setosa' 'versicolor' 'virginica']\n"
          ],
          "name": "stdout"
        }
      ]
    },
    {
      "cell_type": "code",
      "metadata": {
        "id": "a2CXf4idpcqW",
        "colab_type": "code",
        "colab": {
          "base_uri": "https://localhost:8080/",
          "height": 1000
        },
        "outputId": "441b5cb4-0957-412f-efb1-09cba0a57bc7"
      },
      "source": [
        "print(iris.target)\n",
        "print(iris.data)"
      ],
      "execution_count": null,
      "outputs": [
        {
          "output_type": "stream",
          "text": [
            "[0 0 0 0 0 0 0 0 0 0 0 0 0 0 0 0 0 0 0 0 0 0 0 0 0 0 0 0 0 0 0 0 0 0 0 0 0\n",
            " 0 0 0 0 0 0 0 0 0 0 0 0 0 1 1 1 1 1 1 1 1 1 1 1 1 1 1 1 1 1 1 1 1 1 1 1 1\n",
            " 1 1 1 1 1 1 1 1 1 1 1 1 1 1 1 1 1 1 1 1 1 1 1 1 1 1 2 2 2 2 2 2 2 2 2 2 2\n",
            " 2 2 2 2 2 2 2 2 2 2 2 2 2 2 2 2 2 2 2 2 2 2 2 2 2 2 2 2 2 2 2 2 2 2 2 2 2\n",
            " 2 2]\n",
            "[[5.1 3.5 1.4 0.2]\n",
            " [4.9 3.  1.4 0.2]\n",
            " [4.7 3.2 1.3 0.2]\n",
            " [4.6 3.1 1.5 0.2]\n",
            " [5.  3.6 1.4 0.2]\n",
            " [5.4 3.9 1.7 0.4]\n",
            " [4.6 3.4 1.4 0.3]\n",
            " [5.  3.4 1.5 0.2]\n",
            " [4.4 2.9 1.4 0.2]\n",
            " [4.9 3.1 1.5 0.1]\n",
            " [5.4 3.7 1.5 0.2]\n",
            " [4.8 3.4 1.6 0.2]\n",
            " [4.8 3.  1.4 0.1]\n",
            " [4.3 3.  1.1 0.1]\n",
            " [5.8 4.  1.2 0.2]\n",
            " [5.7 4.4 1.5 0.4]\n",
            " [5.4 3.9 1.3 0.4]\n",
            " [5.1 3.5 1.4 0.3]\n",
            " [5.7 3.8 1.7 0.3]\n",
            " [5.1 3.8 1.5 0.3]\n",
            " [5.4 3.4 1.7 0.2]\n",
            " [5.1 3.7 1.5 0.4]\n",
            " [4.6 3.6 1.  0.2]\n",
            " [5.1 3.3 1.7 0.5]\n",
            " [4.8 3.4 1.9 0.2]\n",
            " [5.  3.  1.6 0.2]\n",
            " [5.  3.4 1.6 0.4]\n",
            " [5.2 3.5 1.5 0.2]\n",
            " [5.2 3.4 1.4 0.2]\n",
            " [4.7 3.2 1.6 0.2]\n",
            " [4.8 3.1 1.6 0.2]\n",
            " [5.4 3.4 1.5 0.4]\n",
            " [5.2 4.1 1.5 0.1]\n",
            " [5.5 4.2 1.4 0.2]\n",
            " [4.9 3.1 1.5 0.2]\n",
            " [5.  3.2 1.2 0.2]\n",
            " [5.5 3.5 1.3 0.2]\n",
            " [4.9 3.6 1.4 0.1]\n",
            " [4.4 3.  1.3 0.2]\n",
            " [5.1 3.4 1.5 0.2]\n",
            " [5.  3.5 1.3 0.3]\n",
            " [4.5 2.3 1.3 0.3]\n",
            " [4.4 3.2 1.3 0.2]\n",
            " [5.  3.5 1.6 0.6]\n",
            " [5.1 3.8 1.9 0.4]\n",
            " [4.8 3.  1.4 0.3]\n",
            " [5.1 3.8 1.6 0.2]\n",
            " [4.6 3.2 1.4 0.2]\n",
            " [5.3 3.7 1.5 0.2]\n",
            " [5.  3.3 1.4 0.2]\n",
            " [7.  3.2 4.7 1.4]\n",
            " [6.4 3.2 4.5 1.5]\n",
            " [6.9 3.1 4.9 1.5]\n",
            " [5.5 2.3 4.  1.3]\n",
            " [6.5 2.8 4.6 1.5]\n",
            " [5.7 2.8 4.5 1.3]\n",
            " [6.3 3.3 4.7 1.6]\n",
            " [4.9 2.4 3.3 1. ]\n",
            " [6.6 2.9 4.6 1.3]\n",
            " [5.2 2.7 3.9 1.4]\n",
            " [5.  2.  3.5 1. ]\n",
            " [5.9 3.  4.2 1.5]\n",
            " [6.  2.2 4.  1. ]\n",
            " [6.1 2.9 4.7 1.4]\n",
            " [5.6 2.9 3.6 1.3]\n",
            " [6.7 3.1 4.4 1.4]\n",
            " [5.6 3.  4.5 1.5]\n",
            " [5.8 2.7 4.1 1. ]\n",
            " [6.2 2.2 4.5 1.5]\n",
            " [5.6 2.5 3.9 1.1]\n",
            " [5.9 3.2 4.8 1.8]\n",
            " [6.1 2.8 4.  1.3]\n",
            " [6.3 2.5 4.9 1.5]\n",
            " [6.1 2.8 4.7 1.2]\n",
            " [6.4 2.9 4.3 1.3]\n",
            " [6.6 3.  4.4 1.4]\n",
            " [6.8 2.8 4.8 1.4]\n",
            " [6.7 3.  5.  1.7]\n",
            " [6.  2.9 4.5 1.5]\n",
            " [5.7 2.6 3.5 1. ]\n",
            " [5.5 2.4 3.8 1.1]\n",
            " [5.5 2.4 3.7 1. ]\n",
            " [5.8 2.7 3.9 1.2]\n",
            " [6.  2.7 5.1 1.6]\n",
            " [5.4 3.  4.5 1.5]\n",
            " [6.  3.4 4.5 1.6]\n",
            " [6.7 3.1 4.7 1.5]\n",
            " [6.3 2.3 4.4 1.3]\n",
            " [5.6 3.  4.1 1.3]\n",
            " [5.5 2.5 4.  1.3]\n",
            " [5.5 2.6 4.4 1.2]\n",
            " [6.1 3.  4.6 1.4]\n",
            " [5.8 2.6 4.  1.2]\n",
            " [5.  2.3 3.3 1. ]\n",
            " [5.6 2.7 4.2 1.3]\n",
            " [5.7 3.  4.2 1.2]\n",
            " [5.7 2.9 4.2 1.3]\n",
            " [6.2 2.9 4.3 1.3]\n",
            " [5.1 2.5 3.  1.1]\n",
            " [5.7 2.8 4.1 1.3]\n",
            " [6.3 3.3 6.  2.5]\n",
            " [5.8 2.7 5.1 1.9]\n",
            " [7.1 3.  5.9 2.1]\n",
            " [6.3 2.9 5.6 1.8]\n",
            " [6.5 3.  5.8 2.2]\n",
            " [7.6 3.  6.6 2.1]\n",
            " [4.9 2.5 4.5 1.7]\n",
            " [7.3 2.9 6.3 1.8]\n",
            " [6.7 2.5 5.8 1.8]\n",
            " [7.2 3.6 6.1 2.5]\n",
            " [6.5 3.2 5.1 2. ]\n",
            " [6.4 2.7 5.3 1.9]\n",
            " [6.8 3.  5.5 2.1]\n",
            " [5.7 2.5 5.  2. ]\n",
            " [5.8 2.8 5.1 2.4]\n",
            " [6.4 3.2 5.3 2.3]\n",
            " [6.5 3.  5.5 1.8]\n",
            " [7.7 3.8 6.7 2.2]\n",
            " [7.7 2.6 6.9 2.3]\n",
            " [6.  2.2 5.  1.5]\n",
            " [6.9 3.2 5.7 2.3]\n",
            " [5.6 2.8 4.9 2. ]\n",
            " [7.7 2.8 6.7 2. ]\n",
            " [6.3 2.7 4.9 1.8]\n",
            " [6.7 3.3 5.7 2.1]\n",
            " [7.2 3.2 6.  1.8]\n",
            " [6.2 2.8 4.8 1.8]\n",
            " [6.1 3.  4.9 1.8]\n",
            " [6.4 2.8 5.6 2.1]\n",
            " [7.2 3.  5.8 1.6]\n",
            " [7.4 2.8 6.1 1.9]\n",
            " [7.9 3.8 6.4 2. ]\n",
            " [6.4 2.8 5.6 2.2]\n",
            " [6.3 2.8 5.1 1.5]\n",
            " [6.1 2.6 5.6 1.4]\n",
            " [7.7 3.  6.1 2.3]\n",
            " [6.3 3.4 5.6 2.4]\n",
            " [6.4 3.1 5.5 1.8]\n",
            " [6.  3.  4.8 1.8]\n",
            " [6.9 3.1 5.4 2.1]\n",
            " [6.7 3.1 5.6 2.4]\n",
            " [6.9 3.1 5.1 2.3]\n",
            " [5.8 2.7 5.1 1.9]\n",
            " [6.8 3.2 5.9 2.3]\n",
            " [6.7 3.3 5.7 2.5]\n",
            " [6.7 3.  5.2 2.3]\n",
            " [6.3 2.5 5.  1.9]\n",
            " [6.5 3.  5.2 2. ]\n",
            " [6.2 3.4 5.4 2.3]\n",
            " [5.9 3.  5.1 1.8]]\n"
          ],
          "name": "stdout"
        }
      ]
    },
    {
      "cell_type": "code",
      "metadata": {
        "id": "gnElG0Nyo2sF",
        "colab_type": "code",
        "colab": {}
      },
      "source": [
        "train, test, trainLabels, testLabels = train_test_split(iris.data, iris.target, test_size=0.2, random_state=1, stratify=iris.target)"
      ],
      "execution_count": null,
      "outputs": []
    },
    {
      "cell_type": "code",
      "metadata": {
        "id": "AFUB-RZu2_xy",
        "colab_type": "code",
        "colab": {
          "base_uri": "https://localhost:8080/",
          "height": 50
        },
        "outputId": "4a4c2b4a-d804-44c7-e386-12b4d3c47def"
      },
      "source": [
        "print(train.shape + test.shape)\n",
        "print(iris.data.shape)"
      ],
      "execution_count": null,
      "outputs": [
        {
          "output_type": "stream",
          "text": [
            "(120, 4, 30, 4)\n",
            "(150, 4)\n"
          ],
          "name": "stdout"
        }
      ]
    },
    {
      "cell_type": "markdown",
      "metadata": {
        "id": "jm34aCvHXhrs",
        "colab_type": "text"
      },
      "source": [
        "##KNN Classifier"
      ]
    },
    {
      "cell_type": "markdown",
      "metadata": {
        "id": "-qhlSxRHrr2N",
        "colab_type": "text"
      },
      "source": [
        "###Train\n"
      ]
    },
    {
      "cell_type": "code",
      "metadata": {
        "id": "A_7MdqsYOIiW",
        "colab_type": "code",
        "colab": {
          "base_uri": "https://localhost:8080/",
          "height": 67
        },
        "outputId": "5fa7e4d6-3925-42ce-e736-49a9694b5c08"
      },
      "source": [
        "knn = neighbors.KNeighborsClassifier(n_neighbors=5)\n",
        "knn.fit(train, trainLabels)"
      ],
      "execution_count": null,
      "outputs": [
        {
          "output_type": "execute_result",
          "data": {
            "text/plain": [
              "KNeighborsClassifier(algorithm='auto', leaf_size=30, metric='minkowski',\n",
              "                     metric_params=None, n_jobs=None, n_neighbors=5, p=2,\n",
              "                     weights='uniform')"
            ]
          },
          "metadata": {
            "tags": []
          },
          "execution_count": 110
        }
      ]
    },
    {
      "cell_type": "markdown",
      "metadata": {
        "id": "b6pgkHjYrmrj",
        "colab_type": "text"
      },
      "source": [
        "###Test & Score"
      ]
    },
    {
      "cell_type": "code",
      "metadata": {
        "id": "9RyrVZBZruKx",
        "colab_type": "code",
        "colab": {
          "base_uri": "https://localhost:8080/",
          "height": 50
        },
        "outputId": "902e7b0a-1c80-4ccd-fd38-71c4be56b9d0"
      },
      "source": [
        "knn.predict(test)\n"
      ],
      "execution_count": null,
      "outputs": [
        {
          "output_type": "execute_result",
          "data": {
            "text/plain": [
              "array([2, 0, 1, 0, 0, 0, 2, 2, 2, 1, 0, 1, 2, 1, 2, 0, 2, 1, 1, 2, 1, 1,\n",
              "       0, 0, 2, 1, 0, 0, 1, 1])"
            ]
          },
          "metadata": {
            "tags": []
          },
          "execution_count": 111
        }
      ]
    },
    {
      "cell_type": "code",
      "metadata": {
        "id": "zZG4WiEjvYOz",
        "colab_type": "code",
        "colab": {
          "base_uri": "https://localhost:8080/",
          "height": 34
        },
        "outputId": "81568a3f-fcc4-468d-c6f2-722eee107f24"
      },
      "source": [
        "knn.score(test, testLabels)"
      ],
      "execution_count": null,
      "outputs": [
        {
          "output_type": "execute_result",
          "data": {
            "text/plain": [
              "0.9666666666666667"
            ]
          },
          "metadata": {
            "tags": []
          },
          "execution_count": 112
        }
      ]
    },
    {
      "cell_type": "markdown",
      "metadata": {
        "id": "j6XNskYGXhg2",
        "colab_type": "text"
      },
      "source": [
        "##Tree Classifier\n"
      ]
    },
    {
      "cell_type": "code",
      "metadata": {
        "id": "lhbN0RurOYzq",
        "colab_type": "code",
        "colab": {
          "base_uri": "https://localhost:8080/",
          "height": 554
        },
        "outputId": "52107779-89eb-4ad7-d7fb-eddb3d828477"
      },
      "source": [
        "# Builds tree using SKLearn tree classifier which is based on CART\n",
        "clf = tree.DecisionTreeClassifier()\n",
        "clf = clf.fit(train, trainLabels)\n",
        "tree.plot_tree(clf)"
      ],
      "execution_count": null,
      "outputs": [
        {
          "output_type": "execute_result",
          "data": {
            "text/plain": [
              "[Text(100.44000000000001, 201.90857142857143, 'X[3] <= 0.75\\ngini = 0.667\\nsamples = 120\\nvalue = [40, 40, 40]'),\n",
              " Text(66.96000000000001, 170.84571428571428, 'gini = 0.0\\nsamples = 40\\nvalue = [40, 0, 0]'),\n",
              " Text(133.92000000000002, 170.84571428571428, 'X[2] <= 4.75\\ngini = 0.5\\nsamples = 80\\nvalue = [0, 40, 40]'),\n",
              " Text(100.44000000000001, 139.78285714285715, 'gini = 0.0\\nsamples = 35\\nvalue = [0, 35, 0]'),\n",
              " Text(167.40000000000003, 139.78285714285715, 'X[3] <= 1.75\\ngini = 0.198\\nsamples = 45\\nvalue = [0, 5, 40]'),\n",
              " Text(66.96000000000001, 108.72, 'X[2] <= 4.95\\ngini = 0.5\\nsamples = 8\\nvalue = [0, 4, 4]'),\n",
              " Text(33.480000000000004, 77.65714285714284, 'gini = 0.0\\nsamples = 2\\nvalue = [0, 2, 0]'),\n",
              " Text(100.44000000000001, 77.65714285714284, 'X[3] <= 1.55\\ngini = 0.444\\nsamples = 6\\nvalue = [0, 2, 4]'),\n",
              " Text(66.96000000000001, 46.59428571428572, 'gini = 0.0\\nsamples = 3\\nvalue = [0, 0, 3]'),\n",
              " Text(133.92000000000002, 46.59428571428572, 'X[2] <= 5.45\\ngini = 0.444\\nsamples = 3\\nvalue = [0, 2, 1]'),\n",
              " Text(100.44000000000001, 15.531428571428563, 'gini = 0.0\\nsamples = 2\\nvalue = [0, 2, 0]'),\n",
              " Text(167.40000000000003, 15.531428571428563, 'gini = 0.0\\nsamples = 1\\nvalue = [0, 0, 1]'),\n",
              " Text(267.84000000000003, 108.72, 'X[2] <= 4.85\\ngini = 0.053\\nsamples = 37\\nvalue = [0, 1, 36]'),\n",
              " Text(234.36, 77.65714285714284, 'X[0] <= 5.95\\ngini = 0.444\\nsamples = 3\\nvalue = [0, 1, 2]'),\n",
              " Text(200.88000000000002, 46.59428571428572, 'gini = 0.0\\nsamples = 1\\nvalue = [0, 1, 0]'),\n",
              " Text(267.84000000000003, 46.59428571428572, 'gini = 0.0\\nsamples = 2\\nvalue = [0, 0, 2]'),\n",
              " Text(301.32000000000005, 77.65714285714284, 'gini = 0.0\\nsamples = 34\\nvalue = [0, 0, 34]')]"
            ]
          },
          "metadata": {
            "tags": []
          },
          "execution_count": 95
        },
        {
          "output_type": "display_data",
          "data": {
            "image/png": "[encoded data removed]",
            "text/plain": [
              "<Figure size 432x288 with 1 Axes>"
            ]
          },
          "metadata": {
            "tags": []
          }
        }
      ]
    },
    {
      "cell_type": "markdown",
      "metadata": {
        "id": "1dvHoNG77Kxn",
        "colab_type": "text"
      },
      "source": [
        "###Test & Score"
      ]
    },
    {
      "cell_type": "code",
      "metadata": {
        "id": "CXrqzG_J4hLm",
        "colab_type": "code",
        "colab": {
          "base_uri": "https://localhost:8080/",
          "height": 50
        },
        "outputId": "4c27c135-5e89-4039-9342-608fbee04b99"
      },
      "source": [
        "clf.predict(test)"
      ],
      "execution_count": null,
      "outputs": [
        {
          "output_type": "execute_result",
          "data": {
            "text/plain": [
              "array([2, 0, 1, 0, 0, 0, 2, 2, 2, 1, 0, 1, 2, 1, 2, 0, 2, 1, 1, 2, 1, 1,\n",
              "       0, 0, 2, 1, 0, 0, 1, 1])"
            ]
          },
          "metadata": {
            "tags": []
          },
          "execution_count": 96
        }
      ]
    },
    {
      "cell_type": "code",
      "metadata": {
        "id": "CeDyK7HU7AIT",
        "colab_type": "code",
        "colab": {
          "base_uri": "https://localhost:8080/",
          "height": 34
        },
        "outputId": "72437ede-5790-4036-d81e-2a7d56cdc124"
      },
      "source": [
        "clf.score(test, testLabels)"
      ],
      "execution_count": null,
      "outputs": [
        {
          "output_type": "execute_result",
          "data": {
            "text/plain": [
              "0.9666666666666667"
            ]
          },
          "metadata": {
            "tags": []
          },
          "execution_count": 97
        }
      ]
    },
    {
      "cell_type": "markdown",
      "metadata": {
        "id": "rFwY0bxy7sA8",
        "colab_type": "text"
      },
      "source": [
        "##Models w/ N-Fold Cross Validation"
      ]
    },
    {
      "cell_type": "markdown",
      "metadata": {
        "id": "3CM3pp9971Iq",
        "colab_type": "text"
      },
      "source": [
        "###KNN w/ 5-Fold"
      ]
    },
    {
      "cell_type": "markdown",
      "metadata": {
        "id": "nARFDwvy_X26",
        "colab_type": "text"
      },
      "source": [
        "####1st Run"
      ]
    },
    {
      "cell_type": "code",
      "metadata": {
        "id": "_0YRzAA670qF",
        "colab_type": "code",
        "colab": {}
      },
      "source": [
        "knnCrossVal1 = KNeighborsClassifier(n_neighbors=1)"
      ],
      "execution_count": null,
      "outputs": []
    },
    {
      "cell_type": "code",
      "metadata": {
        "id": "s0xsZjcV9SC1",
        "colab_type": "code",
        "colab": {
          "base_uri": "https://localhost:8080/",
          "height": 50
        },
        "outputId": "83097e94-0000-4d37-a2e5-508932694d15"
      },
      "source": [
        "crossValScores = cross_val_score(knnCrossVal1, iris.data, iris.target, cv=5)\n",
        "cv = np.mean(crossValScores)\n",
        "\n",
        "print(crossValScores)\n",
        "print(\"Cross Validation Mean: \", cv)"
      ],
      "execution_count": null,
      "outputs": [
        {
          "output_type": "stream",
          "text": [
            "[0.96666667 0.96666667 0.93333333 0.93333333 1.        ]\n",
            "Cross Validation Mean:  0.96\n"
          ],
          "name": "stdout"
        }
      ]
    },
    {
      "cell_type": "markdown",
      "metadata": {
        "id": "Yig6Gn_hAUuM",
        "colab_type": "text"
      },
      "source": [
        "####2nd Run"
      ]
    },
    {
      "cell_type": "code",
      "metadata": {
        "id": "MV8q-Rz8AaIQ",
        "colab_type": "code",
        "colab": {}
      },
      "source": [
        "knnCrossVal2 = KNeighborsClassifier(n_neighbors=5)"
      ],
      "execution_count": null,
      "outputs": []
    },
    {
      "cell_type": "code",
      "metadata": {
        "id": "gX7Mfa93Ab5F",
        "colab_type": "code",
        "colab": {
          "base_uri": "https://localhost:8080/",
          "height": 50
        },
        "outputId": "568f9e4b-fe60-404a-b424-30376117b747"
      },
      "source": [
        "crossValScores = cross_val_score(knnCrossVal2, iris.data, iris.target, cv=5)\n",
        "cv2 = np.mean(crossValScores)\n",
        "\n",
        "print(crossValScores)\n",
        "print(\"Cross Validation Mean: \", cv2)"
      ],
      "execution_count": null,
      "outputs": [
        {
          "output_type": "stream",
          "text": [
            "[0.96666667 1.         0.93333333 0.96666667 1.        ]\n",
            "Cross Validation Mean:  0.9733333333333334\n"
          ],
          "name": "stdout"
        }
      ]
    },
    {
      "cell_type": "markdown",
      "metadata": {
        "id": "wwwJd2NcAYDM",
        "colab_type": "text"
      },
      "source": [
        "####3rd Run"
      ]
    },
    {
      "cell_type": "code",
      "metadata": {
        "id": "CAdfy_GVAps-",
        "colab_type": "code",
        "colab": {}
      },
      "source": [
        "knnCrossVal3 = KNeighborsClassifier(n_neighbors=10)"
      ],
      "execution_count": null,
      "outputs": []
    },
    {
      "cell_type": "code",
      "metadata": {
        "id": "drGYm9DnAqBg",
        "colab_type": "code",
        "colab": {
          "base_uri": "https://localhost:8080/",
          "height": 50
        },
        "outputId": "00da0dc3-a92d-4057-e7f3-a54e7aee8c2c"
      },
      "source": [
        "crossValScores = cross_val_score(knnCrossVal3, iris.data, iris.target, cv=5)\n",
        "cv3 = np.mean(crossValScores)\n",
        "\n",
        "print(crossValScores)\n",
        "print(\"Cross Validation Mean: \", cv3)"
      ],
      "execution_count": null,
      "outputs": [
        {
          "output_type": "stream",
          "text": [
            "[0.96666667 1.         1.         0.93333333 1.        ]\n",
            "Cross Validation Mean:  0.9800000000000001\n"
          ],
          "name": "stdout"
        }
      ]
    },
    {
      "cell_type": "markdown",
      "metadata": {
        "id": "6JF4CPqyAqmS",
        "colab_type": "text"
      },
      "source": [
        "####4th Run"
      ]
    },
    {
      "cell_type": "code",
      "metadata": {
        "id": "-cbIbC0gAsnz",
        "colab_type": "code",
        "colab": {}
      },
      "source": [
        "knnCrossVal4 = KNeighborsClassifier(n_neighbors=50)"
      ],
      "execution_count": null,
      "outputs": []
    },
    {
      "cell_type": "code",
      "metadata": {
        "id": "K4NuND1PAs0x",
        "colab_type": "code",
        "colab": {
          "base_uri": "https://localhost:8080/",
          "height": 50
        },
        "outputId": "676de69c-6986-4556-c44e-9b15adde5ac0"
      },
      "source": [
        "crossValScores = cross_val_score(knnCrossVal4, iris.data, iris.target, cv=5)\n",
        "cv4 = np.mean(crossValScores)\n",
        "print(crossValScores)\n",
        "print(\"Cross Validation Mean: \", cv4)"
      ],
      "execution_count": null,
      "outputs": [
        {
          "output_type": "stream",
          "text": [
            "[0.9        0.93333333 0.86666667 0.93333333 0.93333333]\n",
            "Cross Validation Mean:  0.9133333333333334\n"
          ],
          "name": "stdout"
        }
      ]
    },
    {
      "cell_type": "markdown",
      "metadata": {
        "id": "0j7vSrjnBCbT",
        "colab_type": "text"
      },
      "source": [
        "####Evaluation"
      ]
    },
    {
      "cell_type": "code",
      "metadata": {
        "id": "51ET7zBnBZq2",
        "colab_type": "code",
        "colab": {
          "base_uri": "https://localhost:8080/",
          "height": 295
        },
        "outputId": "f970b3f4-5490-420c-b26c-86be6b0dad6a"
      },
      "source": [
        "i = (1, 5, 10, 50)\n",
        "n = np.arange(len(i))\n",
        "v = [cv, cv2, cv3, cv4]\n",
        "\n",
        "plt.bar(n, v)\n",
        "plt.xticks(n, i)\n",
        "plt.xlabel(\"K Number\")\n",
        "plt.ylabel(\"Accuracy\")\n",
        "plt.ylim([0.9, 1.0])\n",
        "plt.title(\"Cross Val Accuracy vs K Number\", loc=\"center\")\n",
        "plt.show()"
      ],
      "execution_count": null,
      "outputs": [
        {
          "output_type": "display_data",
          "data": {
            "image/png": "[encoded data removed]",
            "text/plain": [
              "<Figure size 432x288 with 1 Axes>"
            ]
          },
          "metadata": {
            "tags": []
          }
        }
      ]
    },
    {
      "cell_type": "markdown",
      "metadata": {
        "id": "vKqMSP6eKkeH",
        "colab_type": "text"
      },
      "source": [
        "###DT w/ 5-Fold"
      ]
    },
    {
      "cell_type": "markdown",
      "metadata": {
        "id": "f3Zbu82WKyWn",
        "colab_type": "text"
      },
      "source": [
        "####Decision Tree Model\n"
      ]
    },
    {
      "cell_type": "code",
      "metadata": {
        "id": "FhmFKIqOLADl",
        "colab_type": "code",
        "colab": {}
      },
      "source": [
        "clf = tree.DecisionTreeClassifier()\n",
        "crossValScores = cross_val_score(clf, iris.data, iris.target, cv=5)"
      ],
      "execution_count": null,
      "outputs": []
    },
    {
      "cell_type": "code",
      "metadata": {
        "id": "gX1Z0t7SQph_",
        "colab_type": "code",
        "colab": {
          "base_uri": "https://localhost:8080/",
          "height": 50
        },
        "outputId": "83b046f6-7ff6-4cc2-f1cb-57966251465c"
      },
      "source": [
        "cvdt = np.mean(crossValScores)\n",
        "print(crossValScores)\n",
        "print(\"Cross Validation Mean: \", cvdt)"
      ],
      "execution_count": null,
      "outputs": [
        {
          "output_type": "stream",
          "text": [
            "[0.96666667 0.96666667 0.9        1.         1.        ]\n",
            "Cross Validation Mean:  0.9666666666666668\n"
          ],
          "name": "stdout"
        }
      ]
    },
    {
      "cell_type": "markdown",
      "metadata": {
        "id": "fAL3iF5lK-HJ",
        "colab_type": "text"
      },
      "source": [
        "####Evaluation"
      ]
    },
    {
      "cell_type": "code",
      "metadata": {
        "id": "_tGKRN9XLCSZ",
        "colab_type": "code",
        "colab": {
          "base_uri": "https://localhost:8080/",
          "height": 295
        },
        "outputId": "04f03361-7e0b-4ee3-fbd7-f8062398dfee"
      },
      "source": [
        "i = (1, 2, 3, 4, 5)\n",
        "n = np.arange(len(i))\n",
        "v = [crossValScores[0], crossValScores[1], crossValScores[2], crossValScores[3], crossValScores[4]]\n",
        "\n",
        "plt.bar(n, v)\n",
        "plt.xticks(n, i)\n",
        "plt.xlabel(\"Fold\")\n",
        "plt.ylabel(\"Accuracy\")\n",
        "plt.ylim([0.8, 1.0])\n",
        "plt.title(\"Cross Val Accuracy vs Fold\", loc=\"center\")\n",
        "plt.show()"
      ],
      "execution_count": null,
      "outputs": [
        {
          "output_type": "display_data",
          "data": {
            "image/png": "[encoded data removed]",
            "text/plain": [
              "<Figure size 432x288 with 1 Axes>"
            ]
          },
          "metadata": {
            "tags": []
          }
        }
      ]
    },
    {
      "cell_type": "markdown",
      "metadata": {
        "id": "MTSuvCS9RicJ",
        "colab_type": "text"
      },
      "source": [
        "##KNN vs Decision Tree"
      ]
    },
    {
      "cell_type": "code",
      "metadata": {
        "id": "EQVABGy4RnH_",
        "colab_type": "code",
        "colab": {
          "base_uri": "https://localhost:8080/",
          "height": 295
        },
        "outputId": "1cdaa2c5-71e4-4e88-d905-944e26180076"
      },
      "source": [
        "i = (\"KNN\", \"DT\")\n",
        "n = np.arange(len(i))\n",
        "v = [cv3, cvdt]\n",
        "\n",
        "plt.bar(n, v)\n",
        "plt.xticks(n, i)\n",
        "plt.xlabel(\"Model\")\n",
        "plt.ylabel(\"Best Avg Accuracy\")\n",
        "plt.ylim([0.8, 1.0])\n",
        "plt.title(\"KNN vs DT\", loc=\"center\")\n",
        "plt.show()"
      ],
      "execution_count": null,
      "outputs": [
        {
          "output_type": "display_data",
          "data": {
            "image/png": "[encoded data removed]",
            "text/plain": [
              "<Figure size 432x288 with 1 Axes>"
            ]
          },
          "metadata": {
            "tags": []
          }
        }
      ]
    }
  ]
}