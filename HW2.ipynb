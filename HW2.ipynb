{
  "nbformat": 4,
  "nbformat_minor": 0,
  "metadata": {
    "colab": {
      "name": "CAP5610HW2.ipynb",
      "provenance": [],
      "authorship_tag": "ABX9TyO686G+vCepzyZISVaVpO1f",
      "include_colab_link": true
    },
    "kernelspec": {
      "name": "python3",
      "display_name": "Python 3"
    }
  },
  "cells": [
    {
      "cell_type": "markdown",
      "metadata": {
        "id": "view-in-github",
        "colab_type": "text"
      },
      "source": [
        "<a href=\"https://colab.research.google.com/github/Jacob-Bendele/Python-Coursework/blob/master/HW2.ipynb\" target=\"_parent\"><img src=\"https://colab.research.google.com/assets/colab-badge.svg\" alt=\"Open In Colab\"/></a>"
      ]
    },
    {
      "cell_type": "markdown",
      "metadata": {
        "id": "SkL0iTZK0S0x",
        "colab_type": "text"
      },
      "source": [
        "Jacob Bendele<br>\n",
        "• Analyzing feature from the Titanic Passenger dataset.\n"
      ]
    },
    {
      "cell_type": "markdown",
      "metadata": {
        "id": "_JCSNFPp0XZ3",
        "colab_type": "text"
      },
      "source": [
        "\n",
        "#Setup"
      ]
    },
    {
      "cell_type": "code",
      "metadata": {
        "id": "HwSWUzJF0LZ9",
        "colab_type": "code",
        "colab": {}
      },
      "source": [
        "import numpy as np\n",
        "import pandas as pd\n",
        "import matplotlib.pyplot as plt\n",
        "import os\n",
        "import math"
      ],
      "execution_count": null,
      "outputs": []
    },
    {
      "cell_type": "code",
      "metadata": {
        "id": "T-TbO4I10iZ_",
        "colab_type": "code",
        "colab": {
          "base_uri": "https://localhost:8080/",
          "height": 121
        },
        "outputId": "f5609812-5e3a-4ac1-cf4c-3a37deb1a778"
      },
      "source": [
        "from google.colab import drive\n",
        "drive.mount('/content/drive')"
      ],
      "execution_count": null,
      "outputs": [
        {
          "output_type": "stream",
          "text": [
            "Go to this URL in a browser: https://accounts.google.com/o/oauth2/auth?client_id=947318989803-6bn6qk8qdgf4n4g3pfee6491hc0brc4i.apps.googleusercontent.com&redirect_uri=urn%3aietf%3awg%3aoauth%3a2.0%3aoob&response_type=code&scope=email%20https%3a%2f%2fwww.googleapis.com%2fauth%2fdocs.test%20https%3a%2f%2fwww.googleapis.com%2fauth%2fdrive%20https%3a%2f%2fwww.googleapis.com%2fauth%2fdrive.photos.readonly%20https%3a%2f%2fwww.googleapis.com%2fauth%2fpeopleapi.readonly\n",
            "\n",
            "Enter your authorization code:\n",
            "··········\n",
            "Mounted at /content/drive\n"
          ],
          "name": "stdout"
        }
      ]
    },
    {
      "cell_type": "code",
      "metadata": {
        "id": "-G0wvn1b0rrr",
        "colab_type": "code",
        "colab": {}
      },
      "source": [
        "os.chdir('drive/My Drive/Machine Learning/')  #change dir"
      ],
      "execution_count": null,
      "outputs": []
    },
    {
      "cell_type": "code",
      "metadata": {
        "id": "rIkzBR690pDv",
        "colab_type": "code",
        "colab": {}
      },
      "source": [
        "\n",
        "!mkdir train  #create a directory named train/\n",
        "!mkdir test  #create a directory named test/\n",
        "!unzip -q titanic.zip\n",
        "!mv test.csv test\n",
        "!mv train.csv train"
      ],
      "execution_count": null,
      "outputs": []
    },
    {
      "cell_type": "code",
      "metadata": {
        "colab_type": "code",
        "id": "uKLBMf8rLc6P",
        "colab": {}
      },
      "source": [
        "train_df = pd.read_csv(\"train/train.csv\")\n",
        "test_df = pd.read_csv(\"test/test.csv\")\n",
        "combine = [train_df, test_df]"
      ],
      "execution_count": null,
      "outputs": []
    },
    {
      "cell_type": "markdown",
      "metadata": {
        "id": "7X5XBloI3EE2",
        "colab_type": "text"
      },
      "source": [
        "#Subtask 2"
      ]
    },
    {
      "cell_type": "markdown",
      "metadata": {
        "id": "wRDeygOF3JbI",
        "colab_type": "text"
      },
      "source": [
        "##Pclass to Survival Rate"
      ]
    },
    {
      "cell_type": "code",
      "metadata": {
        "id": "qSdzfJm68AZ1",
        "colab_type": "code",
        "colab": {
          "base_uri": "https://localhost:8080/",
          "height": 562
        },
        "outputId": "c8e37d93-d0e4-4b23-997c-c1e3c4e38dc4"
      },
      "source": [
        "Pclass = train_df.loc[:,\"Pclass\"]\n",
        "Survived = train_df.loc[:,\"Survived\"]\n",
        "f = {\"Pclass\" : Pclass, \"Survived\" : Survived}\n",
        "df = pd.DataFrame(f)\n",
        "\n",
        "countS = np.zeros(3)\n",
        "countD = np.zeros(3)\n",
        "\n",
        "for ind in df.index:\n",
        "  if df[\"Survived\"][ind] == 1:\n",
        "   countS[df[\"Pclass\"][ind] - 1] += 1\n",
        "\n",
        "  else:\n",
        "    countD[df[\"Pclass\"][ind] - 1] += 1\n",
        "\n",
        "plt.bar(np.arange(len(countS)), countS)\n",
        "plt.xticks(np.arange(len(countS)), (\"1\", \"2\", \"3\"))\n",
        "plt.title(\"Survived = 1\", loc=\"center\")\n",
        "plt.show()\n",
        "\n",
        "plt.bar(np.arange(len(countD)), countD)\n",
        "plt.xticks(np.arange(len(countD)), (\"1\", \"2\", \"3\"))\n",
        "plt.title(\"Survived = 0\", loc=\"center\")\n",
        "plt.show()\n",
        "\n",
        "print(\"Average Survived Ratio Class 1: \", countS[0] / (countS[0] + countD[0]))"
      ],
      "execution_count": null,
      "outputs": [
        {
          "output_type": "display_data",
          "data": {
            "image/png": "[encoded data removed]",
            "text/plain": [
              "<Figure size 432x288 with 1 Axes>"
            ]
          },
          "metadata": {
            "tags": []
          }
        },
        {
          "output_type": "display_data",
          "data": {
            "image/png": "[encoded data removed]",
            "text/plain": [
              "<Figure size 432x288 with 1 Axes>"
            ]
          },
          "metadata": {
            "tags": []
          }
        },
        {
          "output_type": "stream",
          "text": [
            "Average Survived Ratio Class 1:  0.6296296296296297\n"
          ],
          "name": "stdout"
        }
      ]
    },
    {
      "cell_type": "markdown",
      "metadata": {
        "id": "gK5DRyH7DJ-F",
        "colab_type": "text"
      },
      "source": [
        "##Women More Likely to Survive"
      ]
    },
    {
      "cell_type": "code",
      "metadata": {
        "id": "OAFmP5w2DJpm",
        "colab_type": "code",
        "colab": {
          "base_uri": "https://localhost:8080/",
          "height": 578
        },
        "outputId": "17d7109d-40ce-4aa4-f137-cb56f4e4f970"
      },
      "source": [
        "Sex = train_df.loc[:,\"Sex\"]\n",
        "Survived = train_df.loc[:,\"Survived\"]\n",
        "f = {\"Sex\" : Sex, \"Survived\" : Survived}\n",
        "df = pd.DataFrame(f)\n",
        "\n",
        "countS = np.zeros(2)\n",
        "countD = np.zeros(2)\n",
        "\n",
        "for ind in df.index:\n",
        "  if df[\"Survived\"][ind] == 1:\n",
        "    if df[\"Sex\"][ind] == \"male\":\n",
        "      countS[0] += 1\n",
        "\n",
        "    else:\n",
        "      countS[1] += 1\n",
        "\n",
        "  else:\n",
        "    if df[\"Sex\"][ind] == \"male\":\n",
        "      countD[0] += 1\n",
        "\n",
        "    else:\n",
        "      countD[1] += 1\n",
        "\n",
        "plt.bar(np.arange(len(countS)), countS)\n",
        "plt.xticks(np.arange(len(countS)), (\"Male\", \"Female\"))\n",
        "plt.title(\"Survived = 1\", loc=\"center\")\n",
        "plt.show()\n",
        "\n",
        "plt.bar(np.arange(len(countD)), countD)\n",
        "plt.xticks(np.arange(len(countD)), (\"Male\", \"Female\"))\n",
        "plt.title(\"Survived = 0\", loc=\"center\")\n",
        "plt.show()\n",
        "\n",
        "print(\"Ratio of women who survived to total survivors \", countS[1] / (countS[0] + countS[1]))\n",
        "print(\"Ratio of women who survived to total women \", countS[1] / (countD[1] + countS[1]))"
      ],
      "execution_count": null,
      "outputs": [
        {
          "output_type": "display_data",
          "data": {
            "image/png": "[encoded data removed]",
            "text/plain": [
              "<Figure size 432x288 with 1 Axes>"
            ]
          },
          "metadata": {
            "tags": []
          }
        },
        {
          "output_type": "display_data",
          "data": {
            "image/png": "[encoded data removed]",
            "text/plain": [
              "<Figure size 432x288 with 1 Axes>"
            ]
          },
          "metadata": {
            "tags": []
          }
        },
        {
          "output_type": "stream",
          "text": [
            "Ratio of women who survived to total survivors  0.6812865497076024\n",
            "Ratio of women who survived to total women  0.7420382165605095\n"
          ],
          "name": "stdout"
        }
      ]
    },
    {
      "cell_type": "markdown",
      "metadata": {
        "id": "dQyDCa7kHeaG",
        "colab_type": "text"
      },
      "source": [
        "##Age and Survival"
      ]
    },
    {
      "cell_type": "code",
      "metadata": {
        "id": "ny3gEUseH403",
        "colab_type": "code",
        "colab": {
          "base_uri": "https://localhost:8080/",
          "height": 545
        },
        "outputId": "7aaa4793-2fbc-4df9-9d2e-af56da321e5d"
      },
      "source": [
        "Age = train_df.loc[:,\"Age\"]\n",
        "Survived = train_df.loc[:,\"Survived\"]\n",
        "f = {\"Age\" : Age, \"Survived\" : Survived}\n",
        "df = pd.DataFrame(f)\n",
        "\n",
        "countS = np.zeros(int(df.loc[:,\"Age\"].max()))\n",
        "countD = np.zeros(int(df.loc[:,\"Age\"].max()))\n",
        "\n",
        "for ind in df.index:\n",
        "  if math.isnan(df[\"Age\"][ind]):\n",
        "    continue\n",
        "\n",
        "  if df[\"Survived\"][ind] == 1:\n",
        "    countS[int(df[\"Age\"][ind]) - 1] += 1\n",
        "\n",
        "  else:\n",
        "    countD[int(df[\"Age\"][ind]) - 1] += 1\n",
        "\n",
        "plt.bar(np.arange(len(countS)), countS)\n",
        "plt.ylim([0,20])\n",
        "#plt.xticks(np.arange(len(countS)), (\"Male\", \"Female\"))\n",
        "plt.title(\"Survived = 1\", loc=\"center\")\n",
        "plt.show()\n",
        "\n",
        "plt.bar(np.arange(len(countD)), countD)\n",
        "plt.ylim([0,20])\n",
        "#plt.xticks(np.arange(len(countD)), (\"Male\", \"Female\"))\n",
        "plt.title(\"Survived = 0\", loc=\"center\")\n",
        "plt.show()\n"
      ],
      "execution_count": null,
      "outputs": [
        {
          "output_type": "display_data",
          "data": {
            "image/png": "[encoded data removed]",
            "text/plain": [
              "<Figure size 432x288 with 1 Axes>"
            ]
          },
          "metadata": {
            "tags": []
          }
        },
        {
          "output_type": "display_data",
          "data": {
            "image/png": "[encoded data removed]",
            "text/plain": [
              "<Figure size 432x288 with 1 Axes>"
            ]
          },
          "metadata": {
            "tags": []
          }
        }
      ]
    },
    {
      "cell_type": "markdown",
      "metadata": {
        "id": "YmfcIYzzOZih",
        "colab_type": "text"
      },
      "source": [
        "##Comine Features Age, Pclass, and Survived"
      ]
    },
    {
      "cell_type": "code",
      "metadata": {
        "id": "mOQrthgUO47W",
        "colab_type": "code",
        "colab": {
          "base_uri": "https://localhost:8080/",
          "height": 1000
        },
        "outputId": "abd49b46-d76a-4853-f5be-40c802c79a2f"
      },
      "source": [
        "Age = train_df.loc[:,\"Age\"]\n",
        "Survived = train_df.loc[:,\"Survived\"]\n",
        "Pclass = train_df.loc[:,\"Pclass\"]\n",
        "f = {\"Age\" : Age, \"Survived\" : Survived, \"Pclass\" : Pclass}\n",
        "df = pd.DataFrame(f)\n",
        "\n",
        "countS = np.zeros(int(df.loc[:,\"Age\"].max()))\n",
        "countD = np.zeros(int(df.loc[:,\"Age\"].max()))\n",
        "\n",
        "for Pcls in range(1,4):\n",
        "  for ind in df.index:\n",
        "    if math.isnan(df[\"Age\"][ind]):\n",
        "      continue\n",
        "\n",
        "    if df[\"Pclass\"][ind] != Pcls:\n",
        "      continue\n",
        "\n",
        "    if df[\"Survived\"][ind] == 1:\n",
        "      countS[int(df[\"Age\"][ind]) - 1] += 1\n",
        "\n",
        "    else:\n",
        "      countD[int(df[\"Age\"][ind]) - 1] += 1\n",
        "\n",
        "  \n",
        "  plt.bar(np.arange(len(countS)), countS)\n",
        "  plt.ylim([0,40])\n",
        "  #plt.xticks(np.arange(len(countS)), (\"Male\", \"Female\"))\n",
        "  plt.title(\"Pclass = %d | Survived = 1\" % Pcls, loc=\"center\")\n",
        "  plt.show()\n",
        "\n",
        "  plt.bar(np.arange(len(countD)), countD)\n",
        "  plt.ylim([0,40])\n",
        "  #plt.xticks(np.arange(len(countD)), (\"Male\", \"Female\"))\n",
        "  plt.title(\"Pclass = %d | Survived = 0\" % Pcls, loc=\"center\")\n",
        "  plt.show()\n",
        "\n",
        "  # Zero out the arrays\n",
        "  countS = np.zeros(int(df.loc[:,\"Age\"].max()))\n",
        "  countD = np.zeros(int(df.loc[:,\"Age\"].max()))\n",
        "\n",
        "\n"
      ],
      "execution_count": null,
      "outputs": [
        {
          "output_type": "display_data",
          "data": {
            "image/png": "[encoded data removed]",
            "text/plain": [
              "<Figure size 432x288 with 1 Axes>"
            ]
          },
          "metadata": {
            "tags": []
          }
        },
        {
          "output_type": "display_data",
          "data": {
            "image/png": "[encoded data removed]",
            "text/plain": [
              "<Figure size 432x288 with 1 Axes>"
            ]
          },
          "metadata": {
            "tags": []
          }
        },
        {
          "output_type": "display_data",
          "data": {
            "image/png": "[encoded data removed]",
            "text/plain": [
              "<Figure size 432x288 with 1 Axes>"
            ]
          },
          "metadata": {
            "tags": []
          }
        },
        {
          "output_type": "display_data",
          "data": {
            "image/png": "[encoded data removed]",
            "text/plain": [
              "<Figure size 432x288 with 1 Axes>"
            ]
          },
          "metadata": {
            "tags": []
          }
        },
        {
          "output_type": "display_data",
          "data": {
            "image/png": "[encoded data removed]",
            "text/plain": [
              "<Figure size 432x288 with 1 Axes>"
            ]
          },
          "metadata": {
            "tags": []
          }
        },
        {
          "output_type": "display_data",
          "data": {
            "image/png": "[encoded data removed]",
            "text/plain": [
              "<Figure size 432x288 with 1 Axes>"
            ]
          },
          "metadata": {
            "tags": []
          }
        }
      ]
    },
    {
      "cell_type": "markdown",
      "metadata": {
        "id": "KD9PweAGCTR5",
        "colab_type": "text"
      },
      "source": [
        "##Combine Features Embarked, Sex, Fare, and Survived\n"
      ]
    },
    {
      "cell_type": "code",
      "metadata": {
        "id": "JnpdyZ4oCeqz",
        "colab_type": "code",
        "colab": {
          "base_uri": "https://localhost:8080/",
          "height": 1000
        },
        "outputId": "e6185faa-8afb-4c30-e442-75fdb3f35c46"
      },
      "source": [
        "Sex = train_df.loc[:,\"Sex\"]\n",
        "Survived = train_df.loc[:,\"Survived\"]\n",
        "Embarked = train_df.loc[:,\"Embarked\"]\n",
        "Fare = train_df.loc[:,\"Fare\"]\n",
        "\n",
        "f = {\"Sex\" : Sex, \"Survived\" : Survived, \"Embarked\" : Embarked, \"Fare\" : Fare}\n",
        "df = pd.DataFrame(f)\n",
        "\n",
        "SMS = np.zeros(2)\n",
        "SFS = np.zeros(2)\n",
        "SMD = np.zeros(2)\n",
        "SFD = np.zeros(2)\n",
        "\n",
        "CMS = np.zeros(2)\n",
        "CFS = np.zeros(2)\n",
        "CMD = np.zeros(2)\n",
        "CFD = np.zeros(2)\n",
        "\n",
        "QMS = np.zeros(2)\n",
        "QFS = np.zeros(2)\n",
        "QFD = np.zeros(2)\n",
        "QMD = np.zeros(2)\n",
        "\n",
        "print(len(Embarked))\n",
        "\n",
        "print(Embarked.isnull().any())\n",
        "\n",
        "\n",
        "for ind in df.index:\n",
        "  if df[\"Embarked\"][ind] == \"S\":\n",
        "    if df[\"Sex\"][ind] == \"male\":\n",
        "      if df[\"Survived\"][ind] == 1:\n",
        "        SMS[0] += df[\"Fare\"][ind]\n",
        "        SMS[1] += 1\n",
        "\n",
        "      else:\n",
        "        SMD[0] += df[\"Fare\"][ind]\n",
        "        SMD[1] += 1\n",
        "    \n",
        "    else:\n",
        "      if df[\"Survived\"][ind] == 1:\n",
        "        SFS[0] += df[\"Fare\"][ind]\n",
        "        SFS[1] += 1\n",
        "\n",
        "      else:\n",
        "        SFD[0] += df[\"Fare\"][ind]\n",
        "        SFD[1] += 1        \n",
        "\n",
        "  if df[\"Embarked\"][ind] == \"C\":\n",
        "    if df[\"Sex\"][ind] == \"male\":\n",
        "      if df[\"Survived\"][ind] == 1:\n",
        "        CMS[0] += df[\"Fare\"][ind]\n",
        "        CMS[1] += 1\n",
        "\n",
        "      else:\n",
        "        CMD[0] += df[\"Fare\"][ind]\n",
        "        CMD[1] += 1\n",
        "    \n",
        "    else:\n",
        "      if df[\"Survived\"][ind] == 1:\n",
        "        CFS[0] += df[\"Fare\"][ind]\n",
        "        CFS[1] += 1\n",
        "        \n",
        "      else:\n",
        "        CFD[0] += df[\"Fare\"][ind]\n",
        "        CFD[1] += 1      \n",
        "\n",
        "  if df[\"Embarked\"][ind] == \"Q\":\n",
        "    if df[\"Sex\"][ind] == \"male\":\n",
        "      if df[\"Survived\"][ind] == 1:\n",
        "        QMS[0] += df[\"Fare\"][ind]\n",
        "        QMS[1] += 1\n",
        "\n",
        "      else:\n",
        "        QMD[0] += df[\"Fare\"][ind]\n",
        "        QMD[1] += 1\n",
        "    \n",
        "    else:\n",
        "      if df[\"Survived\"][ind] == 1:\n",
        "        QFS[0] += df[\"Fare\"][ind]\n",
        "        QFS[1] += 1\n",
        "        \n",
        "      else:\n",
        "        QFD[0] += df[\"Fare\"][ind]\n",
        "        QFD[1] += 1          \n",
        "\n",
        "plt.ylim([0,80])\n",
        "countS = np.zeros(2)\n",
        "countS[0] = SFS[0] / SFS[1]\n",
        "countS[1] = SMS[0] / SMS[1]\n",
        "plt.bar(np.arange(len(countS)), countS)\n",
        "plt.xticks(np.arange(len(countS)), (\"Female\", \"Male\"))\n",
        "plt.title(\"Embarked = S | Survived = 1\", loc=\"center\")\n",
        "plt.show()\n",
        "\n",
        "plt.ylim([0,80])\n",
        "countS[0] = SFD[0] / SFD[1]\n",
        "countS[1] = SMD[0] / SMD[1]\n",
        "plt.bar(np.arange(len(countS)), countS)\n",
        "plt.xticks(np.arange(len(countS)), (\"Female\", \"Male\"))\n",
        "plt.title(\"Embarked = S | Survived = 0\", loc=\"center\")\n",
        "plt.show()\n",
        "\n",
        "plt.ylim([0,80])\n",
        "countS[0] = CFS[0] / CFS[1]\n",
        "countS[1] = CMS[0] / CMS[1]\n",
        "plt.bar(np.arange(len(countS)), countS)\n",
        "plt.xticks(np.arange(len(countS)), (\"Female\", \"Male\"))\n",
        "plt.title(\"Embarked = C | Survived = 1\", loc=\"center\")\n",
        "plt.show()\n",
        "\n",
        "plt.ylim([0,80])\n",
        "countS[0] = CFD[0] / CFD[1]\n",
        "countS[1] = CMD[0] / CMD[1]\n",
        "plt.bar(np.arange(len(countS)), countS)\n",
        "plt.xticks(np.arange(len(countS)), (\"Female\", \"Male\"))\n",
        "plt.title(\"Embarked = C | Survived = 0\", loc=\"center\")\n",
        "plt.show()\n",
        "\n",
        "plt.ylim([0,80])\n",
        "countS[0] = QFS[0] / QFS[1]\n",
        "countS[1] = QMS[0] / QMS[1]\n",
        "plt.bar(np.arange(len(countS)), countS)\n",
        "plt.xticks(np.arange(len(countS)), (\"Female\", \"Male\"))\n",
        "plt.title(\"Embarked = Q | Survived = 1\", loc=\"center\")\n",
        "plt.show()\n",
        "\n",
        "plt.ylim([0,80])\n",
        "countS[0] = QFD[0] / QFD[1]\n",
        "countS[1] = QMD[0] / QMD[1]\n",
        "plt.bar(np.arange(len(countS)), countS)\n",
        "plt.xticks(np.arange(len(countS)), (\"Female\", \"Male\"))\n",
        "plt.title(\"Embarked = Q | Survived = 0\", loc=\"center\")\n",
        "plt.show()\n",
        "\n",
        "\n"
      ],
      "execution_count": null,
      "outputs": [
        {
          "output_type": "stream",
          "text": [
            "891\n",
            "True\n"
          ],
          "name": "stdout"
        },
        {
          "output_type": "display_data",
          "data": {
            "image/png": "[encoded data removed]",
            "text/plain": [
              "<Figure size 432x288 with 1 Axes>"
            ]
          },
          "metadata": {
            "tags": []
          }
        },
        {
          "output_type": "display_data",
          "data": {
            "image/png": "[encoded data removed]",
            "text/plain": [
              "<Figure size 432x288 with 1 Axes>"
            ]
          },
          "metadata": {
            "tags": []
          }
        },
        {
          "output_type": "display_data",
          "data": {
            "image/png": "[encoded data removed]",
            "text/plain": [
              "<Figure size 432x288 with 1 Axes>"
            ]
          },
          "metadata": {
            "tags": []
          }
        },
        {
          "output_type": "display_data",
          "data": {
            "image/png": "[encoded data removed]",
            "text/plain": [
              "<Figure size 432x288 with 1 Axes>"
            ]
          },
          "metadata": {
            "tags": []
          }
        },
        {
          "output_type": "display_data",
          "data": {
            "image/png": "[encoded data removed]",
            "text/plain": [
              "<Figure size 432x288 with 1 Axes>"
            ]
          },
          "metadata": {
            "tags": []
          }
        },
        {
          "output_type": "display_data",
          "data": {
            "image/png": "[encoded data removed]",
            "text/plain": [
              "<Figure size 432x288 with 1 Axes>"
            ]
          },
          "metadata": {
            "tags": []
          }
        }
      ]
    },
    {
      "cell_type": "markdown",
      "metadata": {
        "id": "IhhNbt7CSmZ-",
        "colab_type": "text"
      },
      "source": [
        "##Rate of Duplicate Ticket Features"
      ]
    },
    {
      "cell_type": "code",
      "metadata": {
        "id": "nOs1wD1fSs_C",
        "colab_type": "code",
        "colab": {
          "base_uri": "https://localhost:8080/",
          "height": 252
        },
        "outputId": "79a31ff0-2a91-4ff0-e05f-d18e2e82da68"
      },
      "source": [
        "dup_ticket = train_df.pivot_table(index=[\"Ticket\"], aggfunc=\"size\")\n",
        "\n",
        "count = 0\n",
        "\n",
        "for i in range(len(dup_ticket)):\n",
        "  if dup_ticket[i] > 1:\n",
        "    count += 1\n",
        "\n",
        "print(dup_ticket)\n",
        "print(\"Total number of tickets that have a duplicate: %d\" % count)\n",
        "\n"
      ],
      "execution_count": null,
      "outputs": [
        {
          "output_type": "stream",
          "text": [
            "Ticket\n",
            "110152         3\n",
            "110413         3\n",
            "110465         2\n",
            "110564         1\n",
            "110813         1\n",
            "              ..\n",
            "W./C. 6608     4\n",
            "W./C. 6609     1\n",
            "W.E.P. 5734    1\n",
            "W/C 14208      1\n",
            "WE/P 5735      2\n",
            "Length: 681, dtype: int64\n",
            "Total number of tickets that have a duplicate: 134\n"
          ],
          "name": "stdout"
        }
      ]
    },
    {
      "cell_type": "markdown",
      "metadata": {
        "id": "yMkx15jVUx4r",
        "colab_type": "text"
      },
      "source": [
        "## Count Null Cabin Features"
      ]
    },
    {
      "cell_type": "code",
      "metadata": {
        "id": "IwKbYqvRU2Wv",
        "colab_type": "code",
        "colab": {
          "base_uri": "https://localhost:8080/",
          "height": 571
        },
        "outputId": "5e13c720-4612-4f3b-ca23-d528ce6e6804"
      },
      "source": [
        "print(train_df.loc[:,\"Cabin\"].isnull())\n",
        "print(\"\\nThe number of missing cabins in train dataset \", train_df.loc[:,\"Cabin\"].isnull().sum())\n",
        "print()\n",
        "print(test_df.loc[:,\"Cabin\"].isnull())\n",
        "print(\"\\nThe number of missing cabins in test dataset \", test_df.loc[:,\"Cabin\"].isnull().sum())\n",
        "print(\"\\nTotal number of missing cabins %d\" % (train_df.loc[:,\"Cabin\"].isnull().sum() + test_df.loc[:,\"Cabin\"].isnull().sum()))\n",
        "print(\"\\nTotal number of cabins %d\" % ((train_df.loc[:,\"Cabin\"].size + (test_df.loc[:,\"Cabin\"].size))))"
      ],
      "execution_count": null,
      "outputs": [
        {
          "output_type": "stream",
          "text": [
            "0       True\n",
            "1      False\n",
            "2       True\n",
            "3      False\n",
            "4       True\n",
            "       ...  \n",
            "886     True\n",
            "887    False\n",
            "888     True\n",
            "889    False\n",
            "890     True\n",
            "Name: Cabin, Length: 891, dtype: bool\n",
            "\n",
            "The number of missing cabins in train dataset  687\n",
            "\n",
            "0       True\n",
            "1       True\n",
            "2       True\n",
            "3       True\n",
            "4       True\n",
            "       ...  \n",
            "413     True\n",
            "414    False\n",
            "415     True\n",
            "416     True\n",
            "417     True\n",
            "Name: Cabin, Length: 418, dtype: bool\n",
            "\n",
            "The number of missing cabins in test dataset  327\n",
            "\n",
            "Total number of missing cabins 1014\n",
            "\n",
            "Total number of cabins 1309\n"
          ],
          "name": "stdout"
        }
      ]
    },
    {
      "cell_type": "markdown",
      "metadata": {
        "id": "Jgg9ofa0Lv94",
        "colab_type": "text"
      },
      "source": [
        "##Converting String Features to Numerical Features\n"
      ]
    },
    {
      "cell_type": "code",
      "metadata": {
        "id": "A0GRFLmiMZMQ",
        "colab_type": "code",
        "colab": {
          "base_uri": "https://localhost:8080/",
          "height": 218
        },
        "outputId": "fa924540-4203-4006-bd22-e5a42cc1e6dd"
      },
      "source": [
        "train_df.rename(columns = {'Sex':'Gender'}, inplace = True)\n",
        "\n",
        "for i in range(len(train_df.loc[:,\"Gender\"])):\n",
        "  if train_df[\"Gender\"][i] == \"female\":\n",
        "    train_df[\"Gender\"][i] = 1\n",
        "\n",
        "  elif train_df[\"Gender\"][i] == \"male\":\n",
        "    train_df[\"Gender\"][i] = 0\n",
        "\n",
        "print(train_df.loc[:,\"Gender\"])"
      ],
      "execution_count": null,
      "outputs": [
        {
          "output_type": "stream",
          "text": [
            "0      0\n",
            "1      1\n",
            "2      1\n",
            "3      1\n",
            "4      0\n",
            "      ..\n",
            "886    0\n",
            "887    1\n",
            "888    1\n",
            "889    0\n",
            "890    0\n",
            "Name: Gender, Length: 891, dtype: object\n"
          ],
          "name": "stdout"
        }
      ]
    },
    {
      "cell_type": "markdown",
      "metadata": {
        "id": "o_ufRuN-RcrP",
        "colab_type": "text"
      },
      "source": [
        "##Completing Age Feature\n"
      ]
    },
    {
      "cell_type": "code",
      "metadata": {
        "id": "uP1F8p_ZRqOo",
        "colab_type": "code",
        "colab": {
          "base_uri": "https://localhost:8080/",
          "height": 118
        },
        "outputId": "2cdb1afb-c9a1-4549-cb5e-9bdb163189cf"
      },
      "source": [
        "print(train_df[\"Age\"].isnull().any())\n",
        "print(test_df[\"Age\"].isnull().any())\n",
        "\n",
        "#Simple Method Global Mean\n",
        "globalMean = (train_df[\"Age\"].mean() + test_df[\"Age\"].mean()) / 2\n",
        "print(globalMean)\n",
        "print(int(globalMean))\n",
        "\n",
        "train_df[\"Age\"].fillna((int(globalMean)), inplace = True)\n",
        "test_df[\"Age\"].fillna((int(globalMean)), inplace = True)\n",
        "\n",
        "print(train_df[\"Age\"].isnull().any())\n",
        "print(test_df[\"Age\"].isnull().any())"
      ],
      "execution_count": null,
      "outputs": [
        {
          "output_type": "stream",
          "text": [
            "True\n",
            "True\n",
            "29.985854004252303\n",
            "29\n",
            "False\n",
            "False\n"
          ],
          "name": "stdout"
        }
      ]
    },
    {
      "cell_type": "markdown",
      "metadata": {
        "id": "KK_jH_flS3By",
        "colab_type": "text"
      },
      "source": [
        "##Completing Embarked Feature"
      ]
    },
    {
      "cell_type": "code",
      "metadata": {
        "id": "vJ_Vjo_VS7T7",
        "colab_type": "code",
        "colab": {
          "base_uri": "https://localhost:8080/",
          "height": 454
        },
        "outputId": "745be488-f55a-48b8-ae0a-40469539b74d"
      },
      "source": [
        "print(train_df.isnull().any())\n",
        "\n",
        "mostfreq = train_df[\"Embarked\"].value_counts().idxmax()\n",
        "\n",
        "train_df[\"Embarked\"].fillna(mostfreq, inplace = True)\n",
        "\n",
        "print(train_df.isnull().any())"
      ],
      "execution_count": null,
      "outputs": [
        {
          "output_type": "stream",
          "text": [
            "PassengerId    False\n",
            "Survived       False\n",
            "Pclass         False\n",
            "Name           False\n",
            "Gender         False\n",
            "Age             True\n",
            "SibSp          False\n",
            "Parch          False\n",
            "Ticket         False\n",
            "Fare           False\n",
            "Cabin           True\n",
            "Embarked        True\n",
            "dtype: bool\n",
            "PassengerId    False\n",
            "Survived       False\n",
            "Pclass         False\n",
            "Name           False\n",
            "Gender         False\n",
            "Age             True\n",
            "SibSp          False\n",
            "Parch          False\n",
            "Ticket         False\n",
            "Fare           False\n",
            "Cabin           True\n",
            "Embarked       False\n",
            "dtype: bool\n"
          ],
          "name": "stdout"
        }
      ]
    },
    {
      "cell_type": "markdown",
      "metadata": {
        "id": "qIHBibBqS8eW",
        "colab_type": "text"
      },
      "source": [
        "##Completing Fare Feature\n"
      ]
    },
    {
      "cell_type": "code",
      "metadata": {
        "id": "vhtMj5XrTDDC",
        "colab_type": "code",
        "colab": {
          "base_uri": "https://localhost:8080/",
          "height": 420
        },
        "outputId": "39ee4fa2-ee41-4a03-a1c6-6d9b837bbbde"
      },
      "source": [
        "print(test_df.isnull().any())\n",
        "\n",
        "mode = train_df.loc[:,\"Fare\"].value_counts()\n",
        "mode2 = test_df.loc[:,\"Fare\"].value_counts()\n",
        "\n",
        "\n",
        "if mode.max() > mode2.max():\n",
        "  test_df[\"Fare\"].fillna(mode.idxmax(), inplace = True)\n",
        "\n",
        "elif mode2.max() > mode.max():\n",
        "  test_df[\"Fare\"].fillna(mode2.idxmax(), inplace = True)\n",
        "  \n",
        "\n",
        "print(test_df.isnull().any())\n"
      ],
      "execution_count": null,
      "outputs": [
        {
          "output_type": "stream",
          "text": [
            "PassengerId    False\n",
            "Pclass         False\n",
            "Name           False\n",
            "Sex            False\n",
            "Age             True\n",
            "SibSp          False\n",
            "Parch          False\n",
            "Ticket         False\n",
            "Fare            True\n",
            "Cabin           True\n",
            "Embarked       False\n",
            "dtype: bool\n",
            "PassengerId    False\n",
            "Pclass         False\n",
            "Name           False\n",
            "Sex            False\n",
            "Age             True\n",
            "SibSp          False\n",
            "Parch          False\n",
            "Ticket         False\n",
            "Fare           False\n",
            "Cabin           True\n",
            "Embarked       False\n",
            "dtype: bool\n"
          ],
          "name": "stdout"
        }
      ]
    },
    {
      "cell_type": "markdown",
      "metadata": {
        "id": "QD31-0KQbNFC",
        "colab_type": "text"
      },
      "source": [
        "##Converting Fare to Oridnal Fare based on FareBands"
      ]
    },
    {
      "cell_type": "code",
      "metadata": {
        "id": "K4GjAUCAbSgY",
        "colab_type": "code",
        "colab": {
          "base_uri": "https://localhost:8080/",
          "height": 1000
        },
        "outputId": "686b4cec-a302-4c04-d11e-da264092e60e"
      },
      "source": [
        "print(train_df[\"Fare\"])\n",
        "print()\n",
        "print(test_df[\"Fare\"])\n",
        "\n",
        "for i in train_df.index:\n",
        "  if train_df[\"Fare\"][i] > -0.001 and train_df[\"Fare\"][i] <= 7.91:\n",
        "    train_df[\"Fare\"][i] = 0\n",
        "\n",
        "  elif train_df[\"Fare\"][i] > 7.91 and train_df[\"Fare\"][i] <= 14.454:\n",
        "    train_df[\"Fare\"][i] = 1\n",
        "\n",
        "  elif train_df[\"Fare\"][i] > 14.454 and train_df[\"Fare\"][i] <= 31.0:\n",
        "    train_df[\"Fare\"][i] = 2\n",
        "\n",
        "  elif train_df[\"Fare\"][i] > 31.0 and train_df[\"Fare\"][i] <= 512.329:\n",
        "    train_df[\"Fare\"][i] = 3\n",
        "\n",
        "for i in test_df.index:\n",
        "  if test_df[\"Fare\"][i] > -0.001 and test_df[\"Fare\"][i] <= 7.91:\n",
        "    test_df[\"Fare\"][i] = 0\n",
        "\n",
        "  elif test_df[\"Fare\"][i] > 7.91 and test_df[\"Fare\"][i] <= 14.454:\n",
        "    test_df[\"Fare\"][i] = 1\n",
        "\n",
        "  elif test_df[\"Fare\"][i] > 14.454 and test_df[\"Fare\"][i] <= 31.0:\n",
        "    test_df[\"Fare\"][i] = 2\n",
        "\n",
        "  elif test_df[\"Fare\"][i] > 31.0 and test_df[\"Fare\"][i] <= 512.329:\n",
        "    test_df[\"Fare\"][i] = 3\n",
        "\n",
        "\n",
        "\n",
        "print(train_df[\"Fare\"])\n",
        "print()\n",
        "print(test_df[\"Fare\"])"
      ],
      "execution_count": null,
      "outputs": [
        {
          "output_type": "stream",
          "text": [
            "0       7.2500\n",
            "1      71.2833\n",
            "2       7.9250\n",
            "3      53.1000\n",
            "4       8.0500\n",
            "        ...   \n",
            "886    13.0000\n",
            "887    30.0000\n",
            "888    23.4500\n",
            "889    30.0000\n",
            "890     7.7500\n",
            "Name: Fare, Length: 891, dtype: float64\n",
            "\n",
            "0        7.8292\n",
            "1        7.0000\n",
            "2        9.6875\n",
            "3        8.6625\n",
            "4       20.0000\n",
            "         ...   \n",
            "413      8.0500\n",
            "414    108.9000\n",
            "415      7.2500\n",
            "416      8.0500\n",
            "417     22.3583\n",
            "Name: Fare, Length: 418, dtype: float64\n",
            "0      0.0\n",
            "1      3.0\n",
            "2      1.0\n",
            "3      3.0\n",
            "4      1.0\n",
            "      ... \n",
            "886    1.0\n",
            "887    2.0\n",
            "888    2.0\n",
            "889    2.0\n",
            "890    0.0\n",
            "Name: Fare, Length: 891, dtype: float64\n",
            "\n",
            "0      0.0\n",
            "1      0.0\n",
            "2      1.0\n",
            "3      1.0\n",
            "4      2.0\n",
            "      ... \n",
            "413    1.0\n",
            "414    3.0\n",
            "415    0.0\n",
            "416    1.0\n",
            "417    2.0\n",
            "Name: Fare, Length: 418, dtype: float64\n"
          ],
          "name": "stdout"
        },
        {
          "output_type": "stream",
          "text": [
            "/usr/local/lib/python3.6/dist-packages/ipykernel_launcher.py:7: SettingWithCopyWarning: \n",
            "A value is trying to be set on a copy of a slice from a DataFrame\n",
            "\n",
            "See the caveats in the documentation: http://pandas.pydata.org/pandas-docs/stable/user_guide/indexing.html#returning-a-view-versus-a-copy\n",
            "  import sys\n",
            "/usr/local/lib/python3.6/dist-packages/ipykernel_launcher.py:16: SettingWithCopyWarning: \n",
            "A value is trying to be set on a copy of a slice from a DataFrame\n",
            "\n",
            "See the caveats in the documentation: http://pandas.pydata.org/pandas-docs/stable/user_guide/indexing.html#returning-a-view-versus-a-copy\n",
            "  app.launch_new_instance()\n",
            "/usr/local/lib/python3.6/dist-packages/ipykernel_launcher.py:10: SettingWithCopyWarning: \n",
            "A value is trying to be set on a copy of a slice from a DataFrame\n",
            "\n",
            "See the caveats in the documentation: http://pandas.pydata.org/pandas-docs/stable/user_guide/indexing.html#returning-a-view-versus-a-copy\n",
            "  # Remove the CWD from sys.path while we load stuff.\n",
            "/usr/local/lib/python3.6/dist-packages/ipykernel_launcher.py:13: SettingWithCopyWarning: \n",
            "A value is trying to be set on a copy of a slice from a DataFrame\n",
            "\n",
            "See the caveats in the documentation: http://pandas.pydata.org/pandas-docs/stable/user_guide/indexing.html#returning-a-view-versus-a-copy\n",
            "  del sys.path[0]\n",
            "/usr/local/lib/python3.6/dist-packages/ipykernel_launcher.py:20: SettingWithCopyWarning: \n",
            "A value is trying to be set on a copy of a slice from a DataFrame\n",
            "\n",
            "See the caveats in the documentation: http://pandas.pydata.org/pandas-docs/stable/user_guide/indexing.html#returning-a-view-versus-a-copy\n",
            "/usr/local/lib/python3.6/dist-packages/ipykernel_launcher.py:23: SettingWithCopyWarning: \n",
            "A value is trying to be set on a copy of a slice from a DataFrame\n",
            "\n",
            "See the caveats in the documentation: http://pandas.pydata.org/pandas-docs/stable/user_guide/indexing.html#returning-a-view-versus-a-copy\n",
            "/usr/local/lib/python3.6/dist-packages/ipykernel_launcher.py:26: SettingWithCopyWarning: \n",
            "A value is trying to be set on a copy of a slice from a DataFrame\n",
            "\n",
            "See the caveats in the documentation: http://pandas.pydata.org/pandas-docs/stable/user_guide/indexing.html#returning-a-view-versus-a-copy\n",
            "/usr/local/lib/python3.6/dist-packages/ipykernel_launcher.py:29: SettingWithCopyWarning: \n",
            "A value is trying to be set on a copy of a slice from a DataFrame\n",
            "\n",
            "See the caveats in the documentation: http://pandas.pydata.org/pandas-docs/stable/user_guide/indexing.html#returning-a-view-versus-a-copy\n"
          ],
          "name": "stderr"
        }
      ]
    }
  ]
}