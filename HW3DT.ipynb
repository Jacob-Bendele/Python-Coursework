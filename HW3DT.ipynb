{
  "nbformat": 4,
  "nbformat_minor": 0,
  "metadata": {
    "colab": {
      "name": "CAP5610HW3DT.ipynb",
      "provenance": [],
      "authorship_tag": "ABX9TyNPJLjp7TAvp2yPf6UH4TW6",
      "include_colab_link": true
    },
    "kernelspec": {
      "name": "python3",
      "display_name": "Python 3"
    },
    "accelerator": "GPU"
  },
  "cells": [
    {
      "cell_type": "markdown",
      "metadata": {
        "id": "view-in-github",
        "colab_type": "text"
      },
      "source": [
        "<a href=\"https://colab.research.google.com/github/Jacob-Bendele/Python-Coursework/blob/master/HW3DT.ipynb\" target=\"_parent\"><img src=\"https://colab.research.google.com/assets/colab-badge.svg\" alt=\"Open In Colab\"/></a>"
      ]
    },
    {
      "cell_type": "markdown",
      "metadata": {
        "id": "ksZVMn1i5spv",
        "colab_type": "text"
      },
      "source": [
        "Jacob Bendele<br>\n",
        "• Decision tree practice\n"
      ]
    },
    {
      "cell_type": "markdown",
      "metadata": {
        "id": "-RCUB7F6sVV3",
        "colab_type": "text"
      },
      "source": [
        "##Setup"
      ]
    },
    {
      "cell_type": "code",
      "metadata": {
        "id": "5Hbg8nUMcvih",
        "colab_type": "code",
        "colab": {
          "base_uri": "https://localhost:8080/",
          "height": 34
        },
        "outputId": "44ee5f47-db33-4345-97df-08714fd6699c"
      },
      "source": [
        "# Allowing Colab to access my google drive\n",
        "from google.colab import drive\n",
        "drive.mount('/content/drive')"
      ],
      "execution_count": null,
      "outputs": [
        {
          "output_type": "stream",
          "text": [
            "Drive already mounted at /content/drive; to attempt to forcibly remount, call drive.mount(\"/content/drive\", force_remount=True).\n"
          ],
          "name": "stdout"
        }
      ]
    },
    {
      "cell_type": "code",
      "metadata": {
        "id": "e26WTBAtDraq",
        "colab_type": "code",
        "colab": {
          "base_uri": "https://localhost:8080/",
          "height": 118
        },
        "outputId": "0c7981e1-e01b-4d6f-cdad-17e8f6a43a55"
      },
      "source": [
        "# Installing package for creating ID3 and C4.5 Trees\n",
        "!pip install decision-tree-id3"
      ],
      "execution_count": null,
      "outputs": [
        {
          "output_type": "stream",
          "text": [
            "Requirement already satisfied: decision-tree-id3 in /usr/local/lib/python3.6/dist-packages (0.1.2)\n",
            "Requirement already satisfied: nose>=1.1.2 in /usr/local/lib/python3.6/dist-packages (from decision-tree-id3) (1.3.7)\n",
            "Requirement already satisfied: scikit-learn>=0.17 in /usr/local/lib/python3.6/dist-packages (from decision-tree-id3) (0.22.1)\n",
            "Requirement already satisfied: numpy>=1.6.1 in /usr/local/lib/python3.6/dist-packages (from decision-tree-id3) (1.17.5)\n",
            "Requirement already satisfied: scipy>=0.17.0 in /usr/local/lib/python3.6/dist-packages (from scikit-learn>=0.17->decision-tree-id3) (1.4.1)\n",
            "Requirement already satisfied: joblib>=0.11 in /usr/local/lib/python3.6/dist-packages (from scikit-learn>=0.17->decision-tree-id3) (0.14.1)\n"
          ],
          "name": "stdout"
        }
      ]
    },
    {
      "cell_type": "code",
      "metadata": {
        "id": "AiehTmzZ5iJN",
        "colab_type": "code",
        "colab": {}
      },
      "source": [
        "import pandas as pd\n",
        "from sklearn import tree\n",
        "import numpy as np\n",
        "from id3 import Id3Estimator\n",
        "from id3 import export_graphviz\n",
        "from id3 import export_text\n"
      ],
      "execution_count": null,
      "outputs": []
    },
    {
      "cell_type": "markdown",
      "metadata": {
        "id": "Sz5p6AWS53du",
        "colab_type": "text"
      },
      "source": [
        "##Task 4: Create and Plot Decision Trees\n"
      ]
    },
    {
      "cell_type": "markdown",
      "metadata": {
        "id": "fn7Z5ZEEsZqC",
        "colab_type": "text"
      },
      "source": [
        "###Different Implementations of the Football Data"
      ]
    },
    {
      "cell_type": "code",
      "metadata": {
        "id": "QpXWBUWi7uG3",
        "colab_type": "code",
        "colab": {
          "base_uri": "https://localhost:8080/",
          "height": 302
        },
        "outputId": "06085d19-5f37-4b5b-b06d-e71265f6fe52"
      },
      "source": [
        "# Experimenting with pandas representations using dataframes\n",
        "trainData = {\"Home/Away\": [1, 1, 0, 0, 1, 0], \n",
        "             \"Opponent Top 25\": [0, 1, 0, 0, 0, 0], \n",
        "             \"Media\": [1, 1, 2, 3, 1, 4], \n",
        "             \"Label\": [1, 0, 1, 1, 1, 1]}\n",
        "\n",
        "testData = {\"Home/Away\": [1, 1, 1, 0, 1, 0], \n",
        "             \"Opponent Top 25\": [1, 0, 0, 1, 0, 1], \n",
        "             \"Media\": [1, 1, 1, 4, 1, 4], \n",
        "             \"Label\": [0, 0, 0, 0, 0, 0]}\n",
        "\n",
        "labelData = {\"LabelNames\": [\"Win\", \"Lose\"]}\n",
        "\n",
        "traindf = pd.DataFrame(trainData, columns = [\"Home/Away\", \"Opponent Top 25\", \"Media\", \"Label\"])\n",
        "testdf = pd.DataFrame(testData, columns = [\"Home/Away\", \"Opponent Top 25\", \"Media\", \"Label\"])\n",
        "labelNames = pd.DataFrame(labelData, columns = [\"LabelNames\"])\n",
        "\n",
        "print(traindf)\n",
        "print(testdf)\n",
        "print(labelNames)"
      ],
      "execution_count": null,
      "outputs": [
        {
          "output_type": "stream",
          "text": [
            "   Home/Away  Opponent Top 25  Media  Label\n",
            "0          1                0      1      1\n",
            "1          1                1      1      0\n",
            "2          0                0      2      1\n",
            "3          0                0      3      1\n",
            "4          1                0      1      1\n",
            "5          0                0      4      1\n",
            "   Home/Away  Opponent Top 25  Media  Label\n",
            "0          1                1      1      0\n",
            "1          1                0      1      0\n",
            "2          1                0      1      0\n",
            "3          0                1      4      0\n",
            "4          1                0      1      0\n",
            "5          0                1      4      0\n",
            "  LabelNames\n",
            "0        Win\n",
            "1       Lose\n"
          ],
          "name": "stdout"
        }
      ]
    },
    {
      "cell_type": "code",
      "metadata": {
        "id": "5qo8c5Ubh6gs",
        "colab_type": "code",
        "colab": {}
      },
      "source": [
        "# Experimenting w/ unencoded data\n",
        "featureNames = [\"Home/Away\", \"Opponent Top 25\", \"Media\"]\n",
        "data = np.array([[\"Home\", \"No\", \"NBC\"],\n",
        "                 [\"Home\", \"Yes\", \"NBC\"],\n",
        "                 [\"Away\", \"No\", \"ESPN\"],\n",
        "                 [\"Away\", \"No\", \"FOX\"],\n",
        "                 [\"Home\", \"No\", \"NBC\"],\n",
        "                 [\"Away\", \"No\" , \"ABC\"]])\n",
        "\n",
        "label = np.array([[\"Win\"],\n",
        "                 [\"Lose\"],\n",
        "                 [\"Win\"],\n",
        "                 [\"Win\"],\n",
        "                 [\"Win\"],\n",
        "                 [\"Win\"]])"
      ],
      "execution_count": null,
      "outputs": []
    },
    {
      "cell_type": "code",
      "metadata": {
        "id": "CyluUuT4qxGq",
        "colab_type": "code",
        "colab": {}
      },
      "source": [
        "# Used this encoded format\n",
        "featureNames = [\"Home/Away\", \"Opponent Top 25\", \"Media\"]\n",
        "data = np.array([[1, 0, 1],\n",
        "                 [1, 1, 1],\n",
        "                 [0, 0, 2],\n",
        "                 [0, 0, 3],\n",
        "                 [1, 0, 1],\n",
        "                 [0, 0 , 4]])\n",
        "\n",
        "label = np.array([1, 0, 1, 1, 1, 1])"
      ],
      "execution_count": null,
      "outputs": []
    },
    {
      "cell_type": "markdown",
      "metadata": {
        "id": "I107dFWf9IWV",
        "colab_type": "text"
      },
      "source": [
        "###Question 1 ID3 Tree: Information Gain using Entropy"
      ]
    },
    {
      "cell_type": "code",
      "metadata": {
        "id": "UJNBtc3YIbcS",
        "colab_type": "code",
        "colab": {
          "base_uri": "https://localhost:8080/",
          "height": 138
        },
        "outputId": "7973a1a1-080b-402e-84f7-d32d5473f485"
      },
      "source": [
        "# Create and fit\n",
        "clf = Id3Estimator()\n",
        "clf.fit(data, label, check_input=True)\n",
        "export_graphviz(clf.tree_, \"tree.dot\", featureNames)\n",
        "print(export_text(clf.tree_, featureNames))"
      ],
      "execution_count": null,
      "outputs": [
        {
          "output_type": "stream",
          "text": [
            "\n",
            "Opponent Top 25 <=0.50: 1 (5) \n",
            "Opponent Top 25 >0.50: 0 (1) \n",
            "\n"
          ],
          "name": "stdout"
        },
        {
          "output_type": "stream",
          "text": [
            "/usr/local/lib/python3.6/dist-packages/sklearn/utils/validation.py:760: DataConversionWarning: A column-vector y was passed when a 1d array was expected. Please change the shape of y to (n_samples, ), for example using ravel().\n",
            "  y = column_or_1d(y, warn=True)\n"
          ],
          "name": "stderr"
        }
      ]
    },
    {
      "cell_type": "code",
      "metadata": {
        "id": "UIbcm4FocR8r",
        "colab_type": "code",
        "colab": {}
      },
      "source": [
        "!dot -Tpdf tree.dot -o tree.pdf\n",
        "!cp tree.pdf \"drive/My Drive/Machine Learning/\""
      ],
      "execution_count": null,
      "outputs": []
    },
    {
      "cell_type": "markdown",
      "metadata": {
        "id": "8Z54wJV7lrHr",
        "colab_type": "text"
      },
      "source": [
        "![alt text](https://drive.google.com/uc?id=1CxhD18sKAAa_uNisI2gxcbtsOrYDHrA3)"
      ]
    },
    {
      "cell_type": "markdown",
      "metadata": {
        "id": "AwjktwJom3QN",
        "colab_type": "text"
      },
      "source": [
        "###Question 1 C4.5 Tree: Information Gain Ratio using Entropy"
      ]
    },
    {
      "cell_type": "code",
      "metadata": {
        "id": "chNCGcB2mtaf",
        "colab_type": "code",
        "colab": {
          "base_uri": "https://localhost:8080/",
          "height": 138
        },
        "outputId": "25764c2a-fdd7-4c7d-e7d4-17beaf30ac9f"
      },
      "source": [
        "# Tells Id3 package to instead use gain ratio thus behaving like C4.5\n",
        "clf = Id3Estimator(gain_ratio=True)\n",
        "clf.fit(data, label, check_input=True)\n",
        "export_graphviz(clf.tree_, \"tree.dot\", featureNames)\n",
        "print(export_text(clf.tree_, featureNames))"
      ],
      "execution_count": null,
      "outputs": [
        {
          "output_type": "stream",
          "text": [
            "\n",
            "Opponent Top 25 <=0.50: 1 (5) \n",
            "Opponent Top 25 >0.50: 0 (1) \n",
            "\n"
          ],
          "name": "stdout"
        },
        {
          "output_type": "stream",
          "text": [
            "/usr/local/lib/python3.6/dist-packages/sklearn/utils/validation.py:760: DataConversionWarning: A column-vector y was passed when a 1d array was expected. Please change the shape of y to (n_samples, ), for example using ravel().\n",
            "  y = column_or_1d(y, warn=True)\n"
          ],
          "name": "stderr"
        }
      ]
    },
    {
      "cell_type": "code",
      "metadata": {
        "id": "FI0VvldQpb-R",
        "colab_type": "code",
        "colab": {}
      },
      "source": [
        "!dot -Tpdf tree.dot -o tree1.pdf\n",
        "!cp tree1.pdf \"drive/My Drive/Machine Learning/\""
      ],
      "execution_count": null,
      "outputs": []
    },
    {
      "cell_type": "markdown",
      "metadata": {
        "id": "pidJSTTBp0x_",
        "colab_type": "text"
      },
      "source": [
        "![alt text](https://drive.google.com/uc?id=1CxhD18sKAAa_uNisI2gxcbtsOrYDHrA3)"
      ]
    },
    {
      "cell_type": "markdown",
      "metadata": {
        "id": "TCt2R6Dqp2tR",
        "colab_type": "text"
      },
      "source": [
        "###Question 1 CART Tree: Gini Index\n"
      ]
    },
    {
      "cell_type": "code",
      "metadata": {
        "id": "dVW0aExlp17m",
        "colab_type": "code",
        "colab": {
          "base_uri": "https://localhost:8080/",
          "height": 298
        },
        "outputId": "e241b24c-eb30-49b2-dcda-2f01760df8b9"
      },
      "source": [
        "# Builds tree using SKLearn tree classifier which is based on CART\n",
        "clf = tree.DecisionTreeClassifier()\n",
        "clf = clf.fit(data, label)\n",
        "tree.plot_tree(clf)"
      ],
      "execution_count": null,
      "outputs": [
        {
          "output_type": "execute_result",
          "data": {
            "text/plain": [
              "[Text(167.4, 163.07999999999998, 'X[1] <= 0.5\\ngini = 0.278\\nsamples = 6\\nvalue = [1, 5]'),\n",
              " Text(83.7, 54.360000000000014, 'gini = 0.0\\nsamples = 5\\nvalue = [0, 5]'),\n",
              " Text(251.10000000000002, 54.360000000000014, 'gini = 0.0\\nsamples = 1\\nvalue = [1, 0]')]"
            ]
          },
          "metadata": {
            "tags": []
          },
          "execution_count": 44
        },
        {
          "output_type": "display_data",
          "data": {
            "image/png": "[encoded data removed]",
            "text/plain": [
              "<Figure size 432x288 with 1 Axes>"
            ]
          },
          "metadata": {
            "tags": []
          }
        }
      ]
    },
    {
      "cell_type": "markdown",
      "metadata": {
        "id": "fyr-zIbVsmmZ",
        "colab_type": "text"
      },
      "source": [
        "###Implementation of the Weather Data\n"
      ]
    },
    {
      "cell_type": "code",
      "metadata": {
        "id": "LGrT_CVWvtz8",
        "colab_type": "code",
        "colab": {}
      },
      "source": [
        "featureNames = [\"Outlook\", \"Temperature\", \"Humidity\", \"Windy\"]\n",
        "\n",
        "data = np.array([[0, 0, 0, 0],\n",
        "                 [0, 0, 0, 1],\n",
        "                 [1, 0, 0, 0],\n",
        "                 [2, 1, 0, 0],\n",
        "                 [2, 2, 1, 0],\n",
        "                 [2, 2, 1, 1],\n",
        "                 [1, 2, 1, 1],\n",
        "                 [0, 1, 0, 0],\n",
        "                 [0, 2, 1, 0],\n",
        "                 [2, 1, 1, 0],\n",
        "                 [0, 1, 1, 1],\n",
        "                 [1, 1, 0, 1],\n",
        "                 [1, 0, 1, 0],\n",
        "                 [2, 1, 0, 1]])\n",
        "\n",
        "label = np.array([0, 0, 1, 1, 1, 0, 1, 0, 1, 1, 1, 1, 1, 0])"
      ],
      "execution_count": null,
      "outputs": []
    },
    {
      "cell_type": "markdown",
      "metadata": {
        "id": "eGTfhO7CsDYo",
        "colab_type": "text"
      },
      "source": [
        "###Question 2 ID3 Tree: Information Gain using Entropy"
      ]
    },
    {
      "cell_type": "code",
      "metadata": {
        "id": "znze8vbXz9q1",
        "colab_type": "code",
        "colab": {
          "base_uri": "https://localhost:8080/",
          "height": 272
        },
        "outputId": "ab625922-a54a-43ae-d9ef-acd0452683f4"
      },
      "source": [
        "# Create and fit\n",
        "clf = Id3Estimator()\n",
        "clf.fit(data, label, check_input=True)\n",
        "export_graphviz(clf.tree_, \"tree.dot\", featureNames)\n",
        "print(export_text(clf.tree_, featureNames))"
      ],
      "execution_count": null,
      "outputs": [
        {
          "output_type": "stream",
          "text": [
            "\n",
            "Humidity <=0.50\n",
            "|   Outlook <=0.50: 0 (3) \n",
            "|   Outlook >0.50\n",
            "|   |   Windy <=0.50: 1 (2) \n",
            "|   |   Windy >0.50: 0 (1/1) \n",
            "Humidity >0.50\n",
            "|   Outlook <=1.50: 1 (4) \n",
            "|   Outlook >1.50\n",
            "|   |   Windy <=0.50: 1 (2) \n",
            "|   |   Windy >0.50: 0 (1) \n",
            "\n"
          ],
          "name": "stdout"
        },
        {
          "output_type": "stream",
          "text": [
            "/usr/local/lib/python3.6/dist-packages/sklearn/utils/validation.py:760: DataConversionWarning: A column-vector y was passed when a 1d array was expected. Please change the shape of y to (n_samples, ), for example using ravel().\n",
            "  y = column_or_1d(y, warn=True)\n"
          ],
          "name": "stderr"
        }
      ]
    },
    {
      "cell_type": "code",
      "metadata": {
        "id": "OAbisycTz-jh",
        "colab_type": "code",
        "colab": {}
      },
      "source": [
        "!dot -Tpdf tree.dot -o tree2.pdf\n",
        "!cp tree2.pdf \"drive/My Drive/Machine Learning/\""
      ],
      "execution_count": null,
      "outputs": []
    },
    {
      "cell_type": "markdown",
      "metadata": {
        "id": "orZiZvRP0GdV",
        "colab_type": "text"
      },
      "source": [
        "![alt text](https://drive.google.com/uc?id=1PFCC49kM6VqtCLUqXD9yeBmBJ8dtmAh3)"
      ]
    },
    {
      "cell_type": "markdown",
      "metadata": {
        "id": "6kodVb_B3lZC",
        "colab_type": "text"
      },
      "source": [
        "###Question 2 C4.5 Tree: Information Gain using Entropy"
      ]
    },
    {
      "cell_type": "code",
      "metadata": {
        "id": "juz13h764b27",
        "colab_type": "code",
        "colab": {
          "base_uri": "https://localhost:8080/",
          "height": 272
        },
        "outputId": "3c5b8ec7-a318-4e3a-e541-ada79b6c93d7"
      },
      "source": [
        "# Tells Id3 package to instead use gain ratio thus behaving like C4.5\n",
        "clf = Id3Estimator(gain_ratio=True)\n",
        "clf.fit(data, label, check_input=True)\n",
        "export_graphviz(clf.tree_, \"tree.dot\", featureNames)\n",
        "print(export_text(clf.tree_, featureNames))"
      ],
      "execution_count": null,
      "outputs": [
        {
          "output_type": "stream",
          "text": [
            "\n",
            "Humidity <=0.50\n",
            "|   Outlook <=0.50: 0 (3) \n",
            "|   Outlook >0.50\n",
            "|   |   Windy <=0.50: 1 (2) \n",
            "|   |   Windy >0.50: 0 (1/1) \n",
            "Humidity >0.50\n",
            "|   Outlook <=1.50: 1 (4) \n",
            "|   Outlook >1.50\n",
            "|   |   Windy <=0.50: 1 (2) \n",
            "|   |   Windy >0.50: 0 (1) \n",
            "\n"
          ],
          "name": "stdout"
        },
        {
          "output_type": "stream",
          "text": [
            "/usr/local/lib/python3.6/dist-packages/sklearn/utils/validation.py:760: DataConversionWarning: A column-vector y was passed when a 1d array was expected. Please change the shape of y to (n_samples, ), for example using ravel().\n",
            "  y = column_or_1d(y, warn=True)\n"
          ],
          "name": "stderr"
        }
      ]
    },
    {
      "cell_type": "code",
      "metadata": {
        "id": "47Bg4Eqy4gkY",
        "colab_type": "code",
        "colab": {}
      },
      "source": [
        "!dot -Tpdf tree.dot -o tree3.pdf\n",
        "!cp tree3.pdf \"drive/My Drive/Machine Learning/\""
      ],
      "execution_count": null,
      "outputs": []
    },
    {
      "cell_type": "markdown",
      "metadata": {
        "id": "DKnHRJrC4sLu",
        "colab_type": "text"
      },
      "source": [
        "![alt text](https://drive.google.com/uc?id=1PFCC49kM6VqtCLUqXD9yeBmBJ8dtmAh3)"
      ]
    },
    {
      "cell_type": "markdown",
      "metadata": {
        "id": "4GXMf6rd489G",
        "colab_type": "text"
      },
      "source": [
        "###Question 2 CART Tree: Gini Index"
      ]
    },
    {
      "cell_type": "code",
      "metadata": {
        "id": "jxJSafNR5DoP",
        "colab_type": "code",
        "colab": {
          "base_uri": "https://localhost:8080/",
          "height": 466
        },
        "outputId": "8078d68d-5572-430b-d5d2-d0f79f99cfa1"
      },
      "source": [
        "# Builds tree using SKLearn tree classifier which is based on CART\n",
        "clf = tree.DecisionTreeClassifier()\n",
        "clf = clf.fit(data, label)\n",
        "tree.plot_tree(clf)"
      ],
      "execution_count": null,
      "outputs": [
        {
          "output_type": "execute_result",
          "data": {
            "text/plain": [
              "[Text(148.8, 195.696, 'X[2] <= 0.5\\ngini = 0.459\\nsamples = 14\\nvalue = [5, 9]'),\n",
              " Text(74.4, 152.208, 'X[0] <= 0.5\\ngini = 0.49\\nsamples = 7\\nvalue = [4, 3]'),\n",
              " Text(37.2, 108.72, 'gini = 0.0\\nsamples = 3\\nvalue = [3, 0]'),\n",
              " Text(111.60000000000001, 108.72, 'X[0] <= 1.5\\ngini = 0.375\\nsamples = 4\\nvalue = [1, 3]'),\n",
              " Text(74.4, 65.232, 'gini = 0.0\\nsamples = 2\\nvalue = [0, 2]'),\n",
              " Text(148.8, 65.232, 'X[3] <= 0.5\\ngini = 0.5\\nsamples = 2\\nvalue = [1, 1]'),\n",
              " Text(111.60000000000001, 21.744, 'gini = 0.0\\nsamples = 1\\nvalue = [0, 1]'),\n",
              " Text(186.0, 21.744, 'gini = 0.0\\nsamples = 1\\nvalue = [1, 0]'),\n",
              " Text(223.20000000000002, 152.208, 'X[0] <= 1.5\\ngini = 0.245\\nsamples = 7\\nvalue = [1, 6]'),\n",
              " Text(186.0, 108.72, 'gini = 0.0\\nsamples = 4\\nvalue = [0, 4]'),\n",
              " Text(260.40000000000003, 108.72, 'X[3] <= 0.5\\ngini = 0.444\\nsamples = 3\\nvalue = [1, 2]'),\n",
              " Text(223.20000000000002, 65.232, 'gini = 0.0\\nsamples = 2\\nvalue = [0, 2]'),\n",
              " Text(297.6, 65.232, 'gini = 0.0\\nsamples = 1\\nvalue = [1, 0]')]"
            ]
          },
          "metadata": {
            "tags": []
          },
          "execution_count": 64
        },
        {
          "output_type": "display_data",
          "data": {
            "image/png": "[encoded data removed]",
            "text/plain": [
              "<Figure size 432x288 with 1 Axes>"
            ]
          },
          "metadata": {
            "tags": []
          }
        }
      ]
    },
    {
      "cell_type": "markdown",
      "metadata": {
        "id": "W9lHnQRs6BpG",
        "colab_type": "text"
      },
      "source": [
        "##Task 5: University Decision Tree Modeling"
      ]
    },
    {
      "cell_type": "markdown",
      "metadata": {
        "id": "bpQYE11h6DUs",
        "colab_type": "text"
      },
      "source": [
        "###Data\n"
      ]
    },
    {
      "cell_type": "code",
      "metadata": {
        "id": "6VUcCvck6dod",
        "colab_type": "code",
        "colab": {}
      },
      "source": [
        "featureNames = [\"Home/Away\", \"Opponent Top 25\", \"Media\"]\n",
        "\n",
        "traindata = np.array([[0, 0, 0],\n",
        "                 [1, 0, 3],\n",
        "                 [0, 1, 0],\n",
        "                 [0, 0, 0],\n",
        "                 [1, 1, 3],\n",
        "                 [0, 0, 0],\n",
        "                 [0, 1, 0],\n",
        "                 [1, 0, 3],\n",
        "                 [1, 0, 3],\n",
        "                 [0, 0, 0],\n",
        "                 [1, 0, 0],\n",
        "                 [1, 1, 2],\n",
        "                 [1, 0, 3],\n",
        "                 [0, 0, 0],\n",
        "                 [0, 0, 0],\n",
        "                 [0, 0, 0],\n",
        "                 [0, 0, 1],\n",
        "                 [1, 0, 3],\n",
        "                 [0, 1, 0],\n",
        "                 [0, 0, 0],\n",
        "                 [0, 0, 4],\n",
        "                 [0, 0, 0],\n",
        "                 [0, 1, 0],\n",
        "                 [1, 1, 3]])\n",
        "\n",
        "trainlabel = np.array([1, 1, 1, 1, 0, 1, 1, 1, 1,  1, 1, 0, 0, 1, 0, 0, 1, 0, 0, 1, 0, 1, 0, 0])\n",
        "\n",
        "\n",
        "testdata = np.array([[0, 0, 0],\n",
        "                 [0, 1, 0],\n",
        "                 [1, 0, 1],\n",
        "                 [1, 0, 2],\n",
        "                 [0, 0, 0],\n",
        "                 [1, 0, 3],\n",
        "                 [0, 1, 0],\n",
        "                 [0, 0, 0],\n",
        "                 [0, 0, 0],\n",
        "                 [1, 1, 3],\n",
        "                 [0, 0, 0],\n",
        "                 [1, 1, 3]])\n",
        "\n",
        "testlabel = np.array([1, 0, 1, 1, 1, 1, 1, 1, 1, 0, 1, 0])"
      ],
      "execution_count": null,
      "outputs": []
    },
    {
      "cell_type": "markdown",
      "metadata": {
        "id": "lCtLL1FWBbir",
        "colab_type": "text"
      },
      "source": [
        "###Question 1: ID3 Implementation"
      ]
    },
    {
      "cell_type": "code",
      "metadata": {
        "id": "nLVxSByjBbIt",
        "colab_type": "code",
        "colab": {
          "base_uri": "https://localhost:8080/",
          "height": 218
        },
        "outputId": "f412e89d-86f9-4e93-ff97-e2675fb82a4f"
      },
      "source": [
        "# Tells Id3 package to build tree\n",
        "clf = Id3Estimator()\n",
        "clf.fit(traindata, trainlabel, check_input=True)\n",
        "export_graphviz(clf.tree_, \"tree.dot\", featureNames)\n",
        "print(export_text(clf.tree_, featureNames))"
      ],
      "execution_count": null,
      "outputs": [
        {
          "output_type": "stream",
          "text": [
            "\n",
            "Media <=1.50\n",
            "|   Opponent Top 25 <=0.50\n",
            "|   |   Home/Away <=0.50: 1 (8/2) \n",
            "|   |   Home/Away >0.50: 1 (1) \n",
            "|   Opponent Top 25 >0.50: 0 (2/2) \n",
            "Media >1.50\n",
            "|   Opponent Top 25 <=0.50\n",
            "|   |   Home/Away <=0.50: 0 (1) \n",
            "|   |   Home/Away >0.50: 1 (3/2) \n",
            "|   Opponent Top 25 >0.50: 0 (3) \n",
            "\n"
          ],
          "name": "stdout"
        }
      ]
    },
    {
      "cell_type": "code",
      "metadata": {
        "id": "NJTGgejyBxpg",
        "colab_type": "code",
        "colab": {}
      },
      "source": [
        "!dot -Tpdf tree.dot -o ID3.pdf\n",
        "!cp ID3.pdf \"drive/My Drive/Machine Learning/\""
      ],
      "execution_count": null,
      "outputs": []
    },
    {
      "cell_type": "markdown",
      "metadata": {
        "id": "24zUp4OmFb7v",
        "colab_type": "text"
      },
      "source": [
        "![alt text](https://drive.google.com/uc?id=1AOYUt26fx0iro2_8aIuhb3GRCGNjdGsN)"
      ]
    },
    {
      "cell_type": "markdown",
      "metadata": {
        "id": "6KHG2wc1Fi9H",
        "colab_type": "text"
      },
      "source": [
        "####Predictions"
      ]
    },
    {
      "cell_type": "code",
      "metadata": {
        "id": "ZK4pU85iFfn_",
        "colab_type": "code",
        "colab": {
          "base_uri": "https://localhost:8080/",
          "height": 50
        },
        "outputId": "94d9d59b-0964-4746-a2ce-1cc1eb6b5722"
      },
      "source": [
        "y = clf.predict(testdata)\n",
        "print(\"Predictions \", y)\n",
        "print(\"Test Labels \", testlabel)"
      ],
      "execution_count": null,
      "outputs": [
        {
          "output_type": "stream",
          "text": [
            "Predictions  [1 0 1 1 1 1 0 1 1 0 1 0]\n",
            "Test Labels  [1 0 1 1 1 1 1 1 1 0 1 0]\n"
          ],
          "name": "stdout"
        }
      ]
    },
    {
      "cell_type": "markdown",
      "metadata": {
        "id": "UuXhSiTYIa3_",
        "colab_type": "text"
      },
      "source": [
        "####Performance\n"
      ]
    },
    {
      "cell_type": "code",
      "metadata": {
        "id": "b4JdEluPFx1u",
        "colab_type": "code",
        "colab": {
          "base_uri": "https://localhost:8080/",
          "height": 84
        },
        "outputId": "7ac5a9cd-a02c-4f08-eabf-7371377f90f4"
      },
      "source": [
        "Accuracy = 11/12\n",
        "Recall = 8 / (8 + 1)\n",
        "Precision = 8 / (8 + 0)\n",
        "F1 = 2 * (Precision * Recall) / (Precision + Recall)\n",
        "\n",
        "print(\"Accuracy: \", Accuracy)\n",
        "print(\"Recall: \", Recall)\n",
        "print(\"Precision: \", Precision)\n",
        "print(\"F1: \", F1)"
      ],
      "execution_count": null,
      "outputs": [
        {
          "output_type": "stream",
          "text": [
            "Accuracy:  0.9166666666666666\n",
            "Recall:  0.8888888888888888\n",
            "Precision:  1.0\n",
            "F1:  0.9411764705882353\n"
          ],
          "name": "stdout"
        }
      ]
    },
    {
      "cell_type": "markdown",
      "metadata": {
        "id": "2YhNjFZTQMlb",
        "colab_type": "text"
      },
      "source": [
        "###Question 2: C4.5 Implementation"
      ]
    },
    {
      "cell_type": "code",
      "metadata": {
        "id": "9oXB4r2AQXij",
        "colab_type": "code",
        "colab": {
          "base_uri": "https://localhost:8080/",
          "height": 185
        },
        "outputId": "a40cec9c-a9f0-4a50-9506-15fa1ebdfdcc"
      },
      "source": [
        "# Tells Id3 package to instead use gain ratio thus behaving like C4.5\n",
        "clf = Id3Estimator(gain_ratio=True)\n",
        "clf.fit(traindata, trainlabel, check_input=True)\n",
        "export_graphviz(clf.tree_, \"tree.dot\", featureNames)\n",
        "print(export_text(clf.tree_, featureNames))"
      ],
      "execution_count": null,
      "outputs": [
        {
          "output_type": "stream",
          "text": [
            "\n",
            "Opponent Top 25 <=0.50\n",
            "|   Media <=3.50\n",
            "|   |   Home/Away <=0.50: 1 (8/2) \n",
            "|   |   Home/Away >0.50: 1 (4/2) \n",
            "|   Media >3.50: 0 (1) \n",
            "Opponent Top 25 >0.50\n",
            "|   Home/Away <=0.50: 0 (2/2) \n",
            "|   Home/Away >0.50: 0 (3) \n",
            "\n"
          ],
          "name": "stdout"
        }
      ]
    },
    {
      "cell_type": "code",
      "metadata": {
        "id": "MuhHloRQQxbg",
        "colab_type": "code",
        "colab": {}
      },
      "source": [
        "!dot -Tpdf tree.dot -o C45.pdf\n",
        "!cp C45.pdf \"drive/My Drive/Machine Learning/\""
      ],
      "execution_count": null,
      "outputs": []
    },
    {
      "cell_type": "markdown",
      "metadata": {
        "id": "dsS6cJH0Q9hW",
        "colab_type": "text"
      },
      "source": [
        "![alt text](https://drive.google.com/uc?id=1uAN_ry1gvJDRLbpLfOyJez6KJxr6L4ha)"
      ]
    },
    {
      "cell_type": "markdown",
      "metadata": {
        "id": "1ej_Dym7QQVC",
        "colab_type": "text"
      },
      "source": [
        "####Predictions"
      ]
    },
    {
      "cell_type": "code",
      "metadata": {
        "id": "MFwNlM4YRku-",
        "colab_type": "code",
        "colab": {
          "base_uri": "https://localhost:8080/",
          "height": 50
        },
        "outputId": "d26e4472-0df2-463c-e1c8-e2c90503fe1e"
      },
      "source": [
        "y = clf.predict(testdata)\n",
        "print(\"Predictions \", y)\n",
        "print(\"Test Labels \", testlabel)"
      ],
      "execution_count": null,
      "outputs": [
        {
          "output_type": "stream",
          "text": [
            "Predictions  [1 0 1 1 1 1 0 1 1 0 1 0]\n",
            "Test Labels  [1 0 1 1 1 1 1 1 1 0 1 0]\n"
          ],
          "name": "stdout"
        }
      ]
    },
    {
      "cell_type": "markdown",
      "metadata": {
        "id": "Aff2l7eDQT4r",
        "colab_type": "text"
      },
      "source": [
        "####Performance"
      ]
    },
    {
      "cell_type": "code",
      "metadata": {
        "id": "k-hbayfeRrMm",
        "colab_type": "code",
        "colab": {
          "base_uri": "https://localhost:8080/",
          "height": 84
        },
        "outputId": "7a91647d-05dc-45da-c96a-f9d47fbb603c"
      },
      "source": [
        "Accuracy = 11/12\n",
        "Recall = 8 / (8 + 1)\n",
        "Precision = 8 / (8 + 0)\n",
        "F1 = 2 * (Precision * Recall) / (Precision + Recall)\n",
        "\n",
        "print(\"Accuracy: \", Accuracy)\n",
        "print(\"Recall: \", Recall)\n",
        "print(\"Precision: \", Precision)\n",
        "print(\"F1: \", F1)"
      ],
      "execution_count": null,
      "outputs": [
        {
          "output_type": "stream",
          "text": [
            "Accuracy:  0.9166666666666666\n",
            "Recall:  0.8888888888888888\n",
            "Precision:  1.0\n",
            "F1:  0.9411764705882353\n"
          ],
          "name": "stdout"
        }
      ]
    }
  ]
}
