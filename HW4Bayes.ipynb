{
  "nbformat": 4,
  "nbformat_minor": 0,
  "metadata": {
    "colab": {
      "name": "CAP5610HW4Bayes.ipynb",
      "provenance": [],
      "authorship_tag": "ABX9TyNdeGi5OSwelrWFFLMtoStp",
      "include_colab_link": true
    },
    "kernelspec": {
      "name": "python3",
      "display_name": "Python 3"
    }
  },
  "cells": [
    {
      "cell_type": "markdown",
      "metadata": {
        "id": "view-in-github",
        "colab_type": "text"
      },
      "source": [
        "<a href=\"https://colab.research.google.com/github/Jacob-Bendele/Python-Coursework/blob/master/HW4Bayes.ipynb\" target=\"_parent\"><img src=\"https://colab.research.google.com/assets/colab-badge.svg\" alt=\"Open In Colab\"/></a>"
      ]
    },
    {
      "cell_type": "markdown",
      "metadata": {
        "id": "DtY0n5tGaXZW",
        "colab_type": "text"
      },
      "source": [
        "Jacob Bendele<br>\n",
        "• Practice with Naive Bayesian Classifier"
      ]
    },
    {
      "cell_type": "markdown",
      "metadata": {
        "id": "_W65a0heaZge",
        "colab_type": "text"
      },
      "source": [
        "##Naive Bayes Model: For Football Game Classification"
      ]
    },
    {
      "cell_type": "markdown",
      "metadata": {
        "id": "5orLBememKog",
        "colab_type": "text"
      },
      "source": [
        "###Imports\n"
      ]
    },
    {
      "cell_type": "code",
      "metadata": {
        "id": "frQiIMsymPJy",
        "colab_type": "code",
        "colab": {}
      },
      "source": [
        "import pandas as pd\n",
        "from sklearn.naive_bayes import GaussianNB \n",
        "import numpy as np"
      ],
      "execution_count": null,
      "outputs": []
    },
    {
      "cell_type": "markdown",
      "metadata": {
        "id": "2t7E4t-lb8e8",
        "colab_type": "text"
      },
      "source": [
        "###Data Setup"
      ]
    },
    {
      "cell_type": "code",
      "metadata": {
        "id": "6QwoXV8JaRz5",
        "colab_type": "code",
        "colab": {}
      },
      "source": [
        "featureNames = [\"Home/Away\", \"Opponent Top 25\", \"Media\"]\n",
        "\n",
        "traindata = np.array([[0, 0, 0],\n",
        "                 [1, 0, 3],\n",
        "                 [0, 1, 0],\n",
        "                 [0, 0, 0],\n",
        "                 [1, 1, 3],\n",
        "                 [0, 0, 0],\n",
        "                 [0, 1, 0],\n",
        "                 [1, 0, 3],\n",
        "                 [1, 0, 3],\n",
        "                 [0, 0, 0],\n",
        "                 [1, 0, 0],\n",
        "                 [1, 1, 2],\n",
        "                 [1, 0, 3],\n",
        "                 [0, 0, 0],\n",
        "                 [0, 0, 0],\n",
        "                 [0, 0, 0],\n",
        "                 [0, 0, 1],\n",
        "                 [1, 0, 3],\n",
        "                 [0, 1, 0],\n",
        "                 [0, 0, 0],\n",
        "                 [0, 0, 4],\n",
        "                 [0, 0, 0],\n",
        "                 [0, 1, 0],\n",
        "                 [1, 1, 3]])\n",
        "\n",
        "trainlabel = np.array([1, 1, 1, 1, 0, 1, 1, 1, 1,  1, 1, 0, 0, 1, 0, 0, 1, 0, 0, 1, 0, 1, 0, 0])\n",
        "\n",
        "\n",
        "testdata = np.array([[0, 0, 0],\n",
        "                 [0, 1, 0],\n",
        "                 [1, 0, 1],\n",
        "                 [1, 0, 2],\n",
        "                 [0, 0, 0],\n",
        "                 [1, 0, 3],\n",
        "                 [0, 1, 0],\n",
        "                 [0, 0, 0],\n",
        "                 [0, 0, 0],\n",
        "                 [1, 1, 3],\n",
        "                 [0, 0, 0],\n",
        "                 [1, 1, 3]])\n",
        "\n",
        "testlabel = np.array([1, 0, 1, 1, 1, 1, 1, 1, 1, 0, 1, 0])"
      ],
      "execution_count": null,
      "outputs": []
    },
    {
      "cell_type": "markdown",
      "metadata": {
        "id": "tnzMB9dcc6VR",
        "colab_type": "text"
      },
      "source": [
        "###Create & Train Naive Bayes Classifier\n"
      ]
    },
    {
      "cell_type": "code",
      "metadata": {
        "id": "3j2MhWBZc6m7",
        "colab_type": "code",
        "colab": {
          "base_uri": "https://localhost:8080/",
          "height": 34
        },
        "outputId": "b301c9f3-07d3-4045-b1d0-06cf0870d36a"
      },
      "source": [
        "# Create a Naive Bayes Classifier (Gaussian) using the sklearn.naive_bayes package\n",
        "NBmodel = GaussianNB()\n",
        "\n",
        "# Train the Naive Bayes Classifier with the training football data\n",
        "NBmodel.fit(traindata, trainlabel)"
      ],
      "execution_count": null,
      "outputs": [
        {
          "output_type": "execute_result",
          "data": {
            "text/plain": [
              "GaussianNB(priors=None, var_smoothing=1e-09)"
            ]
          },
          "metadata": {
            "tags": []
          },
          "execution_count": 3
        }
      ]
    },
    {
      "cell_type": "markdown",
      "metadata": {
        "id": "HvhkdUVMnsRm",
        "colab_type": "text"
      },
      "source": [
        "###Predictions"
      ]
    },
    {
      "cell_type": "code",
      "metadata": {
        "id": "iejS1ZEMnvJK",
        "colab_type": "code",
        "colab": {
          "base_uri": "https://localhost:8080/",
          "height": 51
        },
        "outputId": "6d270fa1-cdee-4558-e1c1-cfed70d32b9f"
      },
      "source": [
        "# Use the trained model to predict labels for the \n",
        "y = NBmodel.predict(testdata)\n",
        "\n",
        "print(\"Predictions: \", y)\n",
        "print(\"Test Labels: \", testlabel)"
      ],
      "execution_count": null,
      "outputs": [
        {
          "output_type": "stream",
          "text": [
            "Predictions:  [1 0 1 1 1 0 0 1 1 0 1 0]\n",
            "Test Labels:  [1 0 1 1 1 1 1 1 1 0 1 0]\n"
          ],
          "name": "stdout"
        }
      ]
    },
    {
      "cell_type": "markdown",
      "metadata": {
        "id": "vtt46T3NoKgo",
        "colab_type": "text"
      },
      "source": [
        "###Evaluation"
      ]
    },
    {
      "cell_type": "code",
      "metadata": {
        "id": "EeXGSEDNoNeL",
        "colab_type": "code",
        "colab": {
          "base_uri": "https://localhost:8080/",
          "height": 85
        },
        "outputId": "f276735f-6584-40bd-cd99-d6f964429cde"
      },
      "source": [
        "# Correct Predictions / Total Predictions\n",
        "Accuracy = 10 / 12\n",
        "\n",
        "# True Positives / (False Negatives + True Positives)\n",
        "Recall = 7 / (2 + 7)\n",
        "\n",
        "# True Positives / (True Positives + False Positives)\n",
        "Precision = 7 / (7 + 0)\n",
        "\n",
        "F1 = 2 * (Precision * Recall) / (Precision + Recall)\n",
        "\n",
        "print(\"Accuracy: \", Accuracy)\n",
        "print(\"Recall: \", Recall)\n",
        "print(\"Precision: \", Precision)\n",
        "print(\"F1: \", F1)"
      ],
      "execution_count": null,
      "outputs": [
        {
          "output_type": "stream",
          "text": [
            "Accuracy:  0.8333333333333334\n",
            "Recall:  0.7777777777777778\n",
            "Precision:  1.0\n",
            "F1:  0.8750000000000001\n"
          ],
          "name": "stdout"
        }
      ]
    }
  ]
}