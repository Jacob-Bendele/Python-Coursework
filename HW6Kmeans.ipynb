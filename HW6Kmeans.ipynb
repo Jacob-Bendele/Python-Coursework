{
  "nbformat": 4,
  "nbformat_minor": 0,
  "metadata": {
    "colab": {
      "name": "CAP5610HW6Kmeans.ipynb",
      "provenance": [],
      "collapsed_sections": [
        "zQIxnKSAdw52",
        "zMq5gRrhjakk",
        "-OOzWrw0jfOA",
        "ZRESfcC0gQyb",
        "tbzzUDIuhtjh"
      ],
      "authorship_tag": "ABX9TyP2rtR91hXA1Mx1dvJpOPBd",
      "include_colab_link": true
    },
    "kernelspec": {
      "name": "python3",
      "display_name": "Python 3"
    }
  },
  "cells": [
    {
      "cell_type": "markdown",
      "metadata": {
        "id": "view-in-github",
        "colab_type": "text"
      },
      "source": [
        "<a href=\"https://colab.research.google.com/github/Jacob-Bendele/Python-Coursework/blob/master/HW6Kmeans.ipynb\" target=\"_parent\"><img src=\"https://colab.research.google.com/assets/colab-badge.svg\" alt=\"Open In Colab\"/></a>"
      ]
    },
    {
      "cell_type": "markdown",
      "metadata": {
        "id": "BwcmQXUMTC1H",
        "colab_type": "text"
      },
      "source": [
        "Jacob Bendele<br>\n",
        "• Practice with Kmeans and the Iris dataset\n",
        "\n"
      ]
    },
    {
      "cell_type": "markdown",
      "metadata": {
        "id": "UbYMHt_KXpiy",
        "colab_type": "text"
      },
      "source": [
        "##Imports"
      ]
    },
    {
      "cell_type": "code",
      "metadata": {
        "id": "7bzmRSLEWcm1",
        "colab_type": "code",
        "colab": {
          "base_uri": "https://localhost:8080/",
          "height": 70
        },
        "outputId": "0d71277e-dd14-42ae-d628-8abe9003f67e"
      },
      "source": [
        "!pip3 install scipy"
      ],
      "execution_count": null,
      "outputs": [
        {
          "output_type": "stream",
          "text": [
            "Requirement already satisfied: scipy in /usr/local/lib/python3.6/dist-packages (1.4.1)\n",
            "Requirement already satisfied: numpy>=1.13.3 in /usr/local/lib/python3.6/dist-packages (from scipy) (1.17.5)\n"
          ],
          "name": "stdout"
        }
      ]
    },
    {
      "cell_type": "code",
      "metadata": {
        "id": "IwyEOij9St65",
        "colab_type": "code",
        "colab": {
          "base_uri": "https://localhost:8080/",
          "height": 373
        },
        "outputId": "3e129ed8-c332-4ab5-fd3d-a0c89ff4ee6e"
      },
      "source": [
        "!pip3 install pyclustering"
      ],
      "execution_count": null,
      "outputs": [
        {
          "output_type": "stream",
          "text": [
            "Collecting pyclustering\n",
            "\u001b[?25l  Downloading https://files.pythonhosted.org/packages/af/0f/6ef1ce5607076132b7ca2727ace4a2b61d81aee7d132aef466cc0c68f548/pyclustering-0.9.3.1.tar.gz (2.6MB)\n",
            "\u001b[K     |████████████████████████████████| 2.6MB 2.8MB/s \n",
            "\u001b[?25hRequirement already satisfied: scipy in /usr/local/lib/python3.6/dist-packages (from pyclustering) (1.4.1)\n",
            "Requirement already satisfied: matplotlib in /usr/local/lib/python3.6/dist-packages (from pyclustering) (3.1.3)\n",
            "Requirement already satisfied: numpy in /usr/local/lib/python3.6/dist-packages (from pyclustering) (1.17.5)\n",
            "Requirement already satisfied: Pillow in /usr/local/lib/python3.6/dist-packages (from pyclustering) (6.2.2)\n",
            "Requirement already satisfied: kiwisolver>=1.0.1 in /usr/local/lib/python3.6/dist-packages (from matplotlib->pyclustering) (1.1.0)\n",
            "Requirement already satisfied: cycler>=0.10 in /usr/local/lib/python3.6/dist-packages (from matplotlib->pyclustering) (0.10.0)\n",
            "Requirement already satisfied: python-dateutil>=2.1 in /usr/local/lib/python3.6/dist-packages (from matplotlib->pyclustering) (2.6.1)\n",
            "Requirement already satisfied: pyparsing!=2.0.4,!=2.1.2,!=2.1.6,>=2.0.1 in /usr/local/lib/python3.6/dist-packages (from matplotlib->pyclustering) (2.4.6)\n",
            "Requirement already satisfied: setuptools in /usr/local/lib/python3.6/dist-packages (from kiwisolver>=1.0.1->matplotlib->pyclustering) (45.1.0)\n",
            "Requirement already satisfied: six in /usr/local/lib/python3.6/dist-packages (from cycler>=0.10->matplotlib->pyclustering) (1.12.0)\n",
            "Building wheels for collected packages: pyclustering\n",
            "  Building wheel for pyclustering (setup.py) ... \u001b[?25l\u001b[?25hdone\n",
            "  Created wheel for pyclustering: filename=pyclustering-0.9.3.1-cp36-none-any.whl size=2599356 sha256=240e009c6d381766ff339115e3ee0137fdbee2efb008527137505694e3917e91\n",
            "  Stored in directory: /root/.cache/pip/wheels/34/d6/ac/59746c226a35752edcd786d3ab96f9b547a2b70d0fbda92015\n",
            "Successfully built pyclustering\n",
            "Installing collected packages: pyclustering\n",
            "Successfully installed pyclustering-0.9.3.1\n"
          ],
          "name": "stdout"
        }
      ]
    },
    {
      "cell_type": "code",
      "metadata": {
        "id": "ZgD3jqFtS-n3",
        "colab_type": "code",
        "colab": {}
      },
      "source": [
        "import os\n",
        "import pandas as pd\n",
        "import numpy as np\n",
        "from math import *\n",
        "\n",
        "from sklearn.cluster import KMeans\n",
        "from sklearn.datasets import load_iris\n",
        "from sklearn.model_selection import train_test_split\n",
        "from sklearn.model_selection import cross_val_score\n",
        "\n",
        "from scipy.spatial import distance\n",
        "\n",
        "from pyclustering.cluster.kmeans import kmeans, kmeans_visualizer\n",
        "from pyclustering.cluster import cluster_visualizer_multidim\n",
        "from pyclustering.utils.metric import type_metric, distance_metric\n",
        "from pyclustering.cluster.center_initializer import kmeans_plusplus_initializer\n",
        "import matplotlib.pyplot as plt\n"
      ],
      "execution_count": null,
      "outputs": []
    },
    {
      "cell_type": "markdown",
      "metadata": {
        "id": "lJEM1XhJXmdY",
        "colab_type": "text"
      },
      "source": [
        "##Data Setup"
      ]
    },
    {
      "cell_type": "markdown",
      "metadata": {
        "id": "zQIxnKSAdw52",
        "colab_type": "text"
      },
      "source": [
        "###Setting Up Problem Dataset (Football)\n"
      ]
    },
    {
      "cell_type": "code",
      "metadata": {
        "id": "HbqTigWWd2zv",
        "colab_type": "code",
        "colab": {
          "base_uri": "https://localhost:8080/",
          "height": 202
        },
        "outputId": "40e09dbf-76f2-49ee-c851-53c5ba06ea14"
      },
      "source": [
        "footballData = {'Season16':[3, 3, 2, 2, 6, 6, 7, 7, 8, 7], 'Season17':[5, 4, 8, 3, 2, 4, 3, 4, 5, 6]} \n",
        "footballDF = pd.DataFrame(footballData)\n",
        "\n",
        "print(footballDF)"
      ],
      "execution_count": null,
      "outputs": [
        {
          "output_type": "stream",
          "text": [
            "   Season16  Season17\n",
            "0         3         5\n",
            "1         3         4\n",
            "2         2         8\n",
            "3         2         3\n",
            "4         6         2\n",
            "5         6         4\n",
            "6         7         3\n",
            "7         7         4\n",
            "8         8         5\n",
            "9         7         6\n"
          ],
          "name": "stdout"
        }
      ]
    },
    {
      "cell_type": "markdown",
      "metadata": {
        "id": "b0w2IyvAj3Ha",
        "colab_type": "text"
      },
      "source": [
        "###Using Sklearn Iris Dataset\n"
      ]
    },
    {
      "cell_type": "code",
      "metadata": {
        "colab_type": "code",
        "id": "wU99M964obpT",
        "colab": {
          "base_uri": "https://localhost:8080/",
          "height": 50
        },
        "outputId": "55e45d53-e163-4422-aeb4-8d9789393fc3"
      },
      "source": [
        "iris = load_iris()\n",
        "print(iris.feature_names)\n",
        "print(iris.target_names)"
      ],
      "execution_count": null,
      "outputs": [
        {
          "output_type": "stream",
          "text": [
            "['sepal length (cm)', 'sepal width (cm)', 'petal length (cm)', 'petal width (cm)']\n",
            "['setosa' 'versicolor' 'virginica']\n"
          ],
          "name": "stdout"
        }
      ]
    },
    {
      "cell_type": "code",
      "metadata": {
        "id": "a2CXf4idpcqW",
        "colab_type": "code",
        "colab": {
          "base_uri": "https://localhost:8080/",
          "height": 1000
        },
        "outputId": "1a6d1d57-0a39-43fb-c5a7-6273c375c85d"
      },
      "source": [
        "print(iris.target)\n",
        "print(iris.data)"
      ],
      "execution_count": null,
      "outputs": [
        {
          "output_type": "stream",
          "text": [
            "[0 0 0 0 0 0 0 0 0 0 0 0 0 0 0 0 0 0 0 0 0 0 0 0 0 0 0 0 0 0 0 0 0 0 0 0 0\n",
            " 0 0 0 0 0 0 0 0 0 0 0 0 0 1 1 1 1 1 1 1 1 1 1 1 1 1 1 1 1 1 1 1 1 1 1 1 1\n",
            " 1 1 1 1 1 1 1 1 1 1 1 1 1 1 1 1 1 1 1 1 1 1 1 1 1 1 2 2 2 2 2 2 2 2 2 2 2\n",
            " 2 2 2 2 2 2 2 2 2 2 2 2 2 2 2 2 2 2 2 2 2 2 2 2 2 2 2 2 2 2 2 2 2 2 2 2 2\n",
            " 2 2]\n",
            "[[5.1 3.5 1.4 0.2]\n",
            " [4.9 3.  1.4 0.2]\n",
            " [4.7 3.2 1.3 0.2]\n",
            " [4.6 3.1 1.5 0.2]\n",
            " [5.  3.6 1.4 0.2]\n",
            " [5.4 3.9 1.7 0.4]\n",
            " [4.6 3.4 1.4 0.3]\n",
            " [5.  3.4 1.5 0.2]\n",
            " [4.4 2.9 1.4 0.2]\n",
            " [4.9 3.1 1.5 0.1]\n",
            " [5.4 3.7 1.5 0.2]\n",
            " [4.8 3.4 1.6 0.2]\n",
            " [4.8 3.  1.4 0.1]\n",
            " [4.3 3.  1.1 0.1]\n",
            " [5.8 4.  1.2 0.2]\n",
            " [5.7 4.4 1.5 0.4]\n",
            " [5.4 3.9 1.3 0.4]\n",
            " [5.1 3.5 1.4 0.3]\n",
            " [5.7 3.8 1.7 0.3]\n",
            " [5.1 3.8 1.5 0.3]\n",
            " [5.4 3.4 1.7 0.2]\n",
            " [5.1 3.7 1.5 0.4]\n",
            " [4.6 3.6 1.  0.2]\n",
            " [5.1 3.3 1.7 0.5]\n",
            " [4.8 3.4 1.9 0.2]\n",
            " [5.  3.  1.6 0.2]\n",
            " [5.  3.4 1.6 0.4]\n",
            " [5.2 3.5 1.5 0.2]\n",
            " [5.2 3.4 1.4 0.2]\n",
            " [4.7 3.2 1.6 0.2]\n",
            " [4.8 3.1 1.6 0.2]\n",
            " [5.4 3.4 1.5 0.4]\n",
            " [5.2 4.1 1.5 0.1]\n",
            " [5.5 4.2 1.4 0.2]\n",
            " [4.9 3.1 1.5 0.2]\n",
            " [5.  3.2 1.2 0.2]\n",
            " [5.5 3.5 1.3 0.2]\n",
            " [4.9 3.6 1.4 0.1]\n",
            " [4.4 3.  1.3 0.2]\n",
            " [5.1 3.4 1.5 0.2]\n",
            " [5.  3.5 1.3 0.3]\n",
            " [4.5 2.3 1.3 0.3]\n",
            " [4.4 3.2 1.3 0.2]\n",
            " [5.  3.5 1.6 0.6]\n",
            " [5.1 3.8 1.9 0.4]\n",
            " [4.8 3.  1.4 0.3]\n",
            " [5.1 3.8 1.6 0.2]\n",
            " [4.6 3.2 1.4 0.2]\n",
            " [5.3 3.7 1.5 0.2]\n",
            " [5.  3.3 1.4 0.2]\n",
            " [7.  3.2 4.7 1.4]\n",
            " [6.4 3.2 4.5 1.5]\n",
            " [6.9 3.1 4.9 1.5]\n",
            " [5.5 2.3 4.  1.3]\n",
            " [6.5 2.8 4.6 1.5]\n",
            " [5.7 2.8 4.5 1.3]\n",
            " [6.3 3.3 4.7 1.6]\n",
            " [4.9 2.4 3.3 1. ]\n",
            " [6.6 2.9 4.6 1.3]\n",
            " [5.2 2.7 3.9 1.4]\n",
            " [5.  2.  3.5 1. ]\n",
            " [5.9 3.  4.2 1.5]\n",
            " [6.  2.2 4.  1. ]\n",
            " [6.1 2.9 4.7 1.4]\n",
            " [5.6 2.9 3.6 1.3]\n",
            " [6.7 3.1 4.4 1.4]\n",
            " [5.6 3.  4.5 1.5]\n",
            " [5.8 2.7 4.1 1. ]\n",
            " [6.2 2.2 4.5 1.5]\n",
            " [5.6 2.5 3.9 1.1]\n",
            " [5.9 3.2 4.8 1.8]\n",
            " [6.1 2.8 4.  1.3]\n",
            " [6.3 2.5 4.9 1.5]\n",
            " [6.1 2.8 4.7 1.2]\n",
            " [6.4 2.9 4.3 1.3]\n",
            " [6.6 3.  4.4 1.4]\n",
            " [6.8 2.8 4.8 1.4]\n",
            " [6.7 3.  5.  1.7]\n",
            " [6.  2.9 4.5 1.5]\n",
            " [5.7 2.6 3.5 1. ]\n",
            " [5.5 2.4 3.8 1.1]\n",
            " [5.5 2.4 3.7 1. ]\n",
            " [5.8 2.7 3.9 1.2]\n",
            " [6.  2.7 5.1 1.6]\n",
            " [5.4 3.  4.5 1.5]\n",
            " [6.  3.4 4.5 1.6]\n",
            " [6.7 3.1 4.7 1.5]\n",
            " [6.3 2.3 4.4 1.3]\n",
            " [5.6 3.  4.1 1.3]\n",
            " [5.5 2.5 4.  1.3]\n",
            " [5.5 2.6 4.4 1.2]\n",
            " [6.1 3.  4.6 1.4]\n",
            " [5.8 2.6 4.  1.2]\n",
            " [5.  2.3 3.3 1. ]\n",
            " [5.6 2.7 4.2 1.3]\n",
            " [5.7 3.  4.2 1.2]\n",
            " [5.7 2.9 4.2 1.3]\n",
            " [6.2 2.9 4.3 1.3]\n",
            " [5.1 2.5 3.  1.1]\n",
            " [5.7 2.8 4.1 1.3]\n",
            " [6.3 3.3 6.  2.5]\n",
            " [5.8 2.7 5.1 1.9]\n",
            " [7.1 3.  5.9 2.1]\n",
            " [6.3 2.9 5.6 1.8]\n",
            " [6.5 3.  5.8 2.2]\n",
            " [7.6 3.  6.6 2.1]\n",
            " [4.9 2.5 4.5 1.7]\n",
            " [7.3 2.9 6.3 1.8]\n",
            " [6.7 2.5 5.8 1.8]\n",
            " [7.2 3.6 6.1 2.5]\n",
            " [6.5 3.2 5.1 2. ]\n",
            " [6.4 2.7 5.3 1.9]\n",
            " [6.8 3.  5.5 2.1]\n",
            " [5.7 2.5 5.  2. ]\n",
            " [5.8 2.8 5.1 2.4]\n",
            " [6.4 3.2 5.3 2.3]\n",
            " [6.5 3.  5.5 1.8]\n",
            " [7.7 3.8 6.7 2.2]\n",
            " [7.7 2.6 6.9 2.3]\n",
            " [6.  2.2 5.  1.5]\n",
            " [6.9 3.2 5.7 2.3]\n",
            " [5.6 2.8 4.9 2. ]\n",
            " [7.7 2.8 6.7 2. ]\n",
            " [6.3 2.7 4.9 1.8]\n",
            " [6.7 3.3 5.7 2.1]\n",
            " [7.2 3.2 6.  1.8]\n",
            " [6.2 2.8 4.8 1.8]\n",
            " [6.1 3.  4.9 1.8]\n",
            " [6.4 2.8 5.6 2.1]\n",
            " [7.2 3.  5.8 1.6]\n",
            " [7.4 2.8 6.1 1.9]\n",
            " [7.9 3.8 6.4 2. ]\n",
            " [6.4 2.8 5.6 2.2]\n",
            " [6.3 2.8 5.1 1.5]\n",
            " [6.1 2.6 5.6 1.4]\n",
            " [7.7 3.  6.1 2.3]\n",
            " [6.3 3.4 5.6 2.4]\n",
            " [6.4 3.1 5.5 1.8]\n",
            " [6.  3.  4.8 1.8]\n",
            " [6.9 3.1 5.4 2.1]\n",
            " [6.7 3.1 5.6 2.4]\n",
            " [6.9 3.1 5.1 2.3]\n",
            " [5.8 2.7 5.1 1.9]\n",
            " [6.8 3.2 5.9 2.3]\n",
            " [6.7 3.3 5.7 2.5]\n",
            " [6.7 3.  5.2 2.3]\n",
            " [6.3 2.5 5.  1.9]\n",
            " [6.5 3.  5.2 2. ]\n",
            " [6.2 3.4 5.4 2.3]\n",
            " [5.9 3.  5.1 1.8]]\n"
          ],
          "name": "stdout"
        }
      ]
    },
    {
      "cell_type": "code",
      "metadata": {
        "id": "gnElG0Nyo2sF",
        "colab_type": "code",
        "colab": {}
      },
      "source": [
        "train, test, trainLabels, testLabels = train_test_split(iris.data, iris.target, test_size=0.2, random_state=1, stratify=iris.target)"
      ],
      "execution_count": null,
      "outputs": []
    },
    {
      "cell_type": "code",
      "metadata": {
        "id": "AFUB-RZu2_xy",
        "colab_type": "code",
        "colab": {
          "base_uri": "https://localhost:8080/",
          "height": 50
        },
        "outputId": "ffb6bcb7-04f8-47c0-bdce-f767ce4841ed"
      },
      "source": [
        "print(train.shape + test.shape)\n",
        "print(iris.data.shape)"
      ],
      "execution_count": null,
      "outputs": [
        {
          "output_type": "stream",
          "text": [
            "(120, 4, 30, 4)\n",
            "(150, 4)\n"
          ],
          "name": "stdout"
        }
      ]
    },
    {
      "cell_type": "markdown",
      "metadata": {
        "id": "cAwyErh4YCqV",
        "colab_type": "text"
      },
      "source": [
        "##Distance Measurement Functions"
      ]
    },
    {
      "cell_type": "code",
      "metadata": {
        "id": "uB8kR58eVjyZ",
        "colab_type": "code",
        "colab": {}
      },
      "source": [
        "counter = 0\n",
        "sum = 0\n",
        "\n",
        "def manhattan(p1, p2):\n",
        "  return sum(abs(x - y) for x,y in zip(p1, p2))\n",
        "\n",
        "def average():\n",
        "  global sum, counter\n",
        "  avg = sum / counter\n",
        "  sum = counter = 0\n",
        "  return avg\n",
        "\n",
        "def cosine(p1, p2):\n",
        "  if p1.size != 4 or p2.size != 4:\n",
        "    return average()\n",
        "  global sum, counter\n",
        "  sum = sum + distance.cosine(p1,p2)\n",
        "  counter = counter + 1\n",
        "  return distance.cosine(p1, p2)\n",
        "\n",
        "def jaccard(p1, p2):\n",
        "  if p1.size != 4 or p2.size != 4:\n",
        "    return average()\n",
        "  global sum, counter\n",
        "  sum = sum + distance.jaccard(p1,p2)\n",
        "  counter = counter + 1\n",
        "  return distance.jaccard(p1, p2)\n"
      ],
      "execution_count": null,
      "outputs": []
    },
    {
      "cell_type": "markdown",
      "metadata": {
        "id": "jm34aCvHXhrs",
        "colab_type": "text"
      },
      "source": [
        "##K-Means Clustering w/ Provided Football Dataset"
      ]
    },
    {
      "cell_type": "markdown",
      "metadata": {
        "id": "zMq5gRrhjakk",
        "colab_type": "text"
      },
      "source": [
        "###Manhattan Distance (4, 6) & (5, 4)"
      ]
    },
    {
      "cell_type": "code",
      "metadata": {
        "id": "A_7MdqsYOIiW",
        "colab_type": "code",
        "colab": {}
      },
      "source": [
        "metric = distance_metric(type_metric.USER_DEFINED, func=manhattan)\n",
        "\n",
        "centers = np.array([[4, 6],\n",
        "                    [5, 4]])"
      ],
      "execution_count": null,
      "outputs": []
    },
    {
      "cell_type": "code",
      "metadata": {
        "id": "ldOpe_bgYXS-",
        "colab_type": "code",
        "colab": {
          "base_uri": "https://localhost:8080/",
          "height": 34
        },
        "outputId": "c9b8e747-e069-4904-b17b-454c63f5d1df"
      },
      "source": [
        "km = kmeans(footballDF, centers, metric=metric)\n",
        "km.process()"
      ],
      "execution_count": null,
      "outputs": [
        {
          "output_type": "execute_result",
          "data": {
            "text/plain": [
              "<pyclustering.cluster.kmeans.kmeans at 0x7f93668b2080>"
            ]
          },
          "metadata": {
            "tags": []
          },
          "execution_count": 58
        }
      ]
    },
    {
      "cell_type": "code",
      "metadata": {
        "id": "zNU8C2pXZNkB",
        "colab_type": "code",
        "colab": {
          "base_uri": "https://localhost:8080/",
          "height": 34
        },
        "outputId": "8a304bde-469f-49e4-da5a-19d8ec5e3fd5"
      },
      "source": [
        "km.get_centers()"
      ],
      "execution_count": null,
      "outputs": [
        {
          "output_type": "execute_result",
          "data": {
            "text/plain": [
              "[[4.0, 6.333333333333333], [5.571428571428571, 3.5714285714285716]]"
            ]
          },
          "metadata": {
            "tags": []
          },
          "execution_count": 59
        }
      ]
    },
    {
      "cell_type": "code",
      "metadata": {
        "id": "_81nCALqYtMx",
        "colab_type": "code",
        "colab": {
          "base_uri": "https://localhost:8080/",
          "height": 34
        },
        "outputId": "fbf05be2-a518-4947-d4f7-6de7b57bd9d8"
      },
      "source": [
        "clusters = km.get_clusters()\n",
        "print(clusters)"
      ],
      "execution_count": null,
      "outputs": [
        {
          "output_type": "stream",
          "text": [
            "[[0, 2, 9], [1, 3, 4, 5, 6, 7, 8]]\n"
          ],
          "name": "stdout"
        }
      ]
    },
    {
      "cell_type": "code",
      "metadata": {
        "id": "j0kSOLW_cAIq",
        "colab_type": "code",
        "colab": {
          "base_uri": "https://localhost:8080/",
          "height": 34
        },
        "outputId": "8fed3d3b-c17c-4737-8a31-dfb33f0135d1"
      },
      "source": [
        "pointlabels = np.zeros(int(footballDF.size / footballDF.ndim))\n",
        "\n",
        "for i in range(len(clusters)):\n",
        "  for j in range(len(clusters[i])):\n",
        "    pointlabels[clusters[i][j]] = int(i)\n",
        "\n",
        "print(pointlabels)\n"
      ],
      "execution_count": null,
      "outputs": [
        {
          "output_type": "stream",
          "text": [
            "[0. 1. 0. 1. 1. 1. 1. 1. 1. 0.]\n"
          ],
          "name": "stdout"
        }
      ]
    },
    {
      "cell_type": "code",
      "metadata": {
        "id": "KaUpwf2KZcYN",
        "colab_type": "code",
        "colab": {
          "base_uri": "https://localhost:8080/",
          "height": 282
        },
        "outputId": "840a688c-096b-4b57-ae78-826a3b2b10a5"
      },
      "source": [
        "plt.scatter(footballDF.loc[:,\"Season16\"], footballDF.loc[:,\"Season17\"], c=pointlabels, cmap=\"rainbow\")"
      ],
      "execution_count": null,
      "outputs": [
        {
          "output_type": "execute_result",
          "data": {
            "text/plain": [
              "<matplotlib.collections.PathCollection at 0x7f9363f61ef0>"
            ]
          },
          "metadata": {
            "tags": []
          },
          "execution_count": 62
        },
        {
          "output_type": "display_data",
          "data": {
            "image/png": "[encoded data removed]",
            "text/plain": [
              "<Figure size 432x288 with 1 Axes>"
            ]
          },
          "metadata": {
            "tags": []
          }
        }
      ]
    },
    {
      "cell_type": "markdown",
      "metadata": {
        "id": "-OOzWrw0jfOA",
        "colab_type": "text"
      },
      "source": [
        "###Euclidean Distance (4, 6) & (5, 4)"
      ]
    },
    {
      "cell_type": "code",
      "metadata": {
        "id": "4Hgz-0Q8jiPz",
        "colab_type": "code",
        "colab": {}
      },
      "source": [
        "centers = np.array([[4, 6],\n",
        "                    [5, 4]])\n",
        "\n",
        "km = KMeans(n_clusters=2, init=centers)"
      ],
      "execution_count": null,
      "outputs": []
    },
    {
      "cell_type": "code",
      "metadata": {
        "id": "ExdMVpjTvbbs",
        "colab_type": "code",
        "colab": {
          "base_uri": "https://localhost:8080/",
          "height": 138
        },
        "outputId": "6951a7cd-9e42-4105-91f1-dc61d6821ef7"
      },
      "source": [
        "km.fit(footballDF)"
      ],
      "execution_count": null,
      "outputs": [
        {
          "output_type": "stream",
          "text": [
            "/usr/local/lib/python3.6/dist-packages/ipykernel_launcher.py:1: RuntimeWarning: Explicit initial center position passed: performing only one init in k-means instead of n_init=10\n",
            "  \"\"\"Entry point for launching an IPython kernel.\n"
          ],
          "name": "stderr"
        },
        {
          "output_type": "execute_result",
          "data": {
            "text/plain": [
              "KMeans(algorithm='auto', copy_x=True, init=array([[4, 6],\n",
              "       [5, 4]]),\n",
              "       max_iter=300, n_clusters=2, n_init=10, n_jobs=None,\n",
              "       precompute_distances='auto', random_state=None, tol=0.0001, verbose=0)"
            ]
          },
          "metadata": {
            "tags": []
          },
          "execution_count": 64
        }
      ]
    },
    {
      "cell_type": "code",
      "metadata": {
        "id": "akYOR22Cv-gD",
        "colab_type": "code",
        "colab": {
          "base_uri": "https://localhost:8080/",
          "height": 50
        },
        "outputId": "a9adec0c-5b91-4c99-8eb1-b1288d830c0d"
      },
      "source": [
        "print(km.cluster_centers_)"
      ],
      "execution_count": null,
      "outputs": [
        {
          "output_type": "stream",
          "text": [
            "[[2.5        5.        ]\n",
            " [6.83333333 4.        ]]\n"
          ],
          "name": "stdout"
        }
      ]
    },
    {
      "cell_type": "code",
      "metadata": {
        "id": "xruj03EbwLbI",
        "colab_type": "code",
        "colab": {
          "base_uri": "https://localhost:8080/",
          "height": 34
        },
        "outputId": "e4855306-ef2f-4d71-84bd-d54cadb62b7b"
      },
      "source": [
        "print(km.labels_)"
      ],
      "execution_count": null,
      "outputs": [
        {
          "output_type": "stream",
          "text": [
            "[0 0 0 0 1 1 1 1 1 1]\n"
          ],
          "name": "stdout"
        }
      ]
    },
    {
      "cell_type": "code",
      "metadata": {
        "id": "WOKeg8mPwQ-e",
        "colab_type": "code",
        "colab": {
          "base_uri": "https://localhost:8080/",
          "height": 282
        },
        "outputId": "dc2e715e-0a41-4050-c8db-699ac7e425fd"
      },
      "source": [
        "plt.scatter(footballDF.loc[:,\"Season16\"], footballDF.loc[:,\"Season17\"], c=km.labels_, cmap=\"rainbow\")"
      ],
      "execution_count": null,
      "outputs": [
        {
          "output_type": "execute_result",
          "data": {
            "text/plain": [
              "<matplotlib.collections.PathCollection at 0x7f9363f4e710>"
            ]
          },
          "metadata": {
            "tags": []
          },
          "execution_count": 67
        },
        {
          "output_type": "display_data",
          "data": {
            "image/png": "[encoded data removed]",
            "text/plain": [
              "<Figure size 432x288 with 1 Axes>"
            ]
          },
          "metadata": {
            "tags": []
          }
        }
      ]
    },
    {
      "cell_type": "markdown",
      "metadata": {
        "id": "ZRESfcC0gQyb",
        "colab_type": "text"
      },
      "source": [
        "###Manhattan Distance (3, 3) & (8, 3)"
      ]
    },
    {
      "cell_type": "code",
      "metadata": {
        "id": "jVowVKN1geLY",
        "colab_type": "code",
        "colab": {}
      },
      "source": [
        "metric = distance_metric(type_metric.USER_DEFINED, func=manhattan)\n",
        "\n",
        "centers = np.array([[3, 3],\n",
        "                    [8, 3]])"
      ],
      "execution_count": null,
      "outputs": []
    },
    {
      "cell_type": "code",
      "metadata": {
        "id": "Y6ZCIg6Jg5K2",
        "colab_type": "code",
        "colab": {
          "base_uri": "https://localhost:8080/",
          "height": 34
        },
        "outputId": "a9be9d44-31db-4b99-e095-e354c966f5c5"
      },
      "source": [
        "km = kmeans(footballDF, centers, metric=metric)\n",
        "km.process()"
      ],
      "execution_count": null,
      "outputs": [
        {
          "output_type": "execute_result",
          "data": {
            "text/plain": [
              "<pyclustering.cluster.kmeans.kmeans at 0x7f9363f21dd8>"
            ]
          },
          "metadata": {
            "tags": []
          },
          "execution_count": 69
        }
      ]
    },
    {
      "cell_type": "code",
      "metadata": {
        "id": "C_8-HPoDg9AA",
        "colab_type": "code",
        "colab": {
          "base_uri": "https://localhost:8080/",
          "height": 34
        },
        "outputId": "cbf29b2a-74fe-4ebe-a13b-ef9e3df7d46c"
      },
      "source": [
        "km.get_centers()"
      ],
      "execution_count": null,
      "outputs": [
        {
          "output_type": "execute_result",
          "data": {
            "text/plain": [
              "[[2.5, 5.0], [6.833333333333333, 4.0]]"
            ]
          },
          "metadata": {
            "tags": []
          },
          "execution_count": 70
        }
      ]
    },
    {
      "cell_type": "code",
      "metadata": {
        "id": "287fY255g9o7",
        "colab_type": "code",
        "colab": {
          "base_uri": "https://localhost:8080/",
          "height": 34
        },
        "outputId": "ed175081-281e-4ed0-b8fa-dca01df29fa1"
      },
      "source": [
        "clusters = km.get_clusters()\n",
        "print(clusters)"
      ],
      "execution_count": null,
      "outputs": [
        {
          "output_type": "stream",
          "text": [
            "[[0, 1, 2, 3], [4, 5, 6, 7, 8, 9]]\n"
          ],
          "name": "stdout"
        }
      ]
    },
    {
      "cell_type": "code",
      "metadata": {
        "id": "KuCXjgeshALi",
        "colab_type": "code",
        "colab": {
          "base_uri": "https://localhost:8080/",
          "height": 34
        },
        "outputId": "39efcd66-58b1-428b-d219-c4349968a1c4"
      },
      "source": [
        "pointlabels = np.zeros(int(footballDF.size / footballDF.ndim))\n",
        "\n",
        "for i in range(len(clusters)):\n",
        "  for j in range(len(clusters[i])):\n",
        "    pointlabels[clusters[i][j]] = int(i)\n",
        "\n",
        "print(pointlabels)\n"
      ],
      "execution_count": null,
      "outputs": [
        {
          "output_type": "stream",
          "text": [
            "[0. 0. 0. 0. 1. 1. 1. 1. 1. 1.]\n"
          ],
          "name": "stdout"
        }
      ]
    },
    {
      "cell_type": "code",
      "metadata": {
        "id": "e6VcRgeDhH4Y",
        "colab_type": "code",
        "colab": {
          "base_uri": "https://localhost:8080/",
          "height": 282
        },
        "outputId": "2e0b22df-5a09-4fdf-f8c4-8e432029c65d"
      },
      "source": [
        "plt.scatter(footballDF.loc[:,\"Season16\"], footballDF.loc[:,\"Season17\"], c=pointlabels, cmap=\"rainbow\")"
      ],
      "execution_count": null,
      "outputs": [
        {
          "output_type": "execute_result",
          "data": {
            "text/plain": [
              "<matplotlib.collections.PathCollection at 0x7f9363eb5208>"
            ]
          },
          "metadata": {
            "tags": []
          },
          "execution_count": 73
        },
        {
          "output_type": "display_data",
          "data": {
            "image/png": "[encoded data removed]",
            "text/plain": [
              "<Figure size 432x288 with 1 Axes>"
            ]
          },
          "metadata": {
            "tags": []
          }
        }
      ]
    },
    {
      "cell_type": "markdown",
      "metadata": {
        "id": "tbzzUDIuhtjh",
        "colab_type": "text"
      },
      "source": [
        "###Manhattan Distance (3, 2) & (4, 8)"
      ]
    },
    {
      "cell_type": "code",
      "metadata": {
        "id": "6QTIr_xdhziv",
        "colab_type": "code",
        "colab": {}
      },
      "source": [
        "metric = distance_metric(type_metric.USER_DEFINED, func=manhattan)\n",
        "\n",
        "centers = np.array([[3, 2],\n",
        "                    [4, 8]])"
      ],
      "execution_count": null,
      "outputs": []
    },
    {
      "cell_type": "code",
      "metadata": {
        "id": "VNh3ntF4hzaZ",
        "colab_type": "code",
        "colab": {
          "base_uri": "https://localhost:8080/",
          "height": 34
        },
        "outputId": "51f6b4eb-93d6-4e8b-d72d-bc139e8d4506"
      },
      "source": [
        "km = kmeans(footballDF, centers, metric=metric)\n",
        "km.process()"
      ],
      "execution_count": null,
      "outputs": [
        {
          "output_type": "execute_result",
          "data": {
            "text/plain": [
              "<pyclustering.cluster.kmeans.kmeans at 0x7f9363e667b8>"
            ]
          },
          "metadata": {
            "tags": []
          },
          "execution_count": 75
        }
      ]
    },
    {
      "cell_type": "code",
      "metadata": {
        "id": "EUz1jH1ohzSi",
        "colab_type": "code",
        "colab": {
          "base_uri": "https://localhost:8080/",
          "height": 50
        },
        "outputId": "54e26e95-03a3-4a95-9d27-d8b37d438435"
      },
      "source": [
        "km.get_centers()"
      ],
      "execution_count": null,
      "outputs": [
        {
          "output_type": "execute_result",
          "data": {
            "text/plain": [
              "[[4.857142857142857, 3.5714285714285716],\n",
              " [5.666666666666667, 6.333333333333333]]"
            ]
          },
          "metadata": {
            "tags": []
          },
          "execution_count": 76
        }
      ]
    },
    {
      "cell_type": "code",
      "metadata": {
        "id": "S5gAZXUIhzHz",
        "colab_type": "code",
        "colab": {
          "base_uri": "https://localhost:8080/",
          "height": 34
        },
        "outputId": "5748d957-0138-4d48-8a49-c284eb8e25dd"
      },
      "source": [
        "clusters = km.get_clusters()\n",
        "print(clusters)"
      ],
      "execution_count": null,
      "outputs": [
        {
          "output_type": "stream",
          "text": [
            "[[0, 1, 3, 4, 5, 6, 7], [2, 8, 9]]\n"
          ],
          "name": "stdout"
        }
      ]
    },
    {
      "cell_type": "code",
      "metadata": {
        "id": "kct_6xo8hyyn",
        "colab_type": "code",
        "colab": {
          "base_uri": "https://localhost:8080/",
          "height": 34
        },
        "outputId": "abc1e28b-9514-42b1-c208-88f7f6bdb326"
      },
      "source": [
        "pointlabels = np.zeros(int(footballDF.size / footballDF.ndim))\n",
        "\n",
        "for i in range(len(clusters)):\n",
        "  for j in range(len(clusters[i])):\n",
        "    pointlabels[clusters[i][j]] = int(i)\n",
        "\n",
        "print(pointlabels)\n"
      ],
      "execution_count": null,
      "outputs": [
        {
          "output_type": "stream",
          "text": [
            "[0. 0. 1. 0. 0. 0. 0. 0. 1. 1.]\n"
          ],
          "name": "stdout"
        }
      ]
    },
    {
      "cell_type": "code",
      "metadata": {
        "id": "KQVyn2TWh7Zc",
        "colab_type": "code",
        "colab": {
          "base_uri": "https://localhost:8080/",
          "height": 282
        },
        "outputId": "e87f8fde-23d6-421d-a3ce-e961915aae29"
      },
      "source": [
        "plt.scatter(footballDF.loc[:,\"Season16\"], footballDF.loc[:,\"Season17\"], c=pointlabels, cmap=\"rainbow\")"
      ],
      "execution_count": null,
      "outputs": [
        {
          "output_type": "execute_result",
          "data": {
            "text/plain": [
              "<matplotlib.collections.PathCollection at 0x7f9363e90d30>"
            ]
          },
          "metadata": {
            "tags": []
          },
          "execution_count": 79
        },
        {
          "output_type": "display_data",
          "data": {
            "image/png": "[encoded data removed]",
            "text/plain": [
              "<Figure size 432x288 with 1 Axes>"
            ]
          },
          "metadata": {
            "tags": []
          }
        }
      ]
    },
    {
      "cell_type": "markdown",
      "metadata": {
        "id": "TxFd6t5diPHT",
        "colab_type": "text"
      },
      "source": [
        "##K-Means Clustering w/ Real World IRIS Dataset"
      ]
    },
    {
      "cell_type": "markdown",
      "metadata": {
        "id": "b6pgkHjYrmrj",
        "colab_type": "text"
      },
      "source": [
        "###Euclidean K-means"
      ]
    },
    {
      "cell_type": "code",
      "metadata": {
        "id": "9RyrVZBZruKx",
        "colab_type": "code",
        "colab": {
          "base_uri": "https://localhost:8080/",
          "height": 54
        },
        "outputId": "797ce3d2-0e21-4644-9cff-52b69cd44f5d"
      },
      "source": [
        "metric = distance_metric(type_metric.EUCLIDEAN)\n",
        "\n",
        "centers = kmeans_plusplus_initializer(iris.data, 3,kmeans_plusplus_initializer.FARTHEST_CENTER_CANDIDATE).initialize()\n",
        "print(centers)"
      ],
      "execution_count": null,
      "outputs": [
        {
          "output_type": "stream",
          "text": [
            "[array([6. , 2.2, 5. , 1.5]), array([4.6, 3.6, 1. , 0.2]), array([7.7, 3.8, 6.7, 2.2])]\n"
          ],
          "name": "stdout"
        }
      ]
    },
    {
      "cell_type": "code",
      "metadata": {
        "id": "DQ6SHjfEBiYp",
        "colab_type": "code",
        "colab": {
          "base_uri": "https://localhost:8080/",
          "height": 34
        },
        "outputId": "98aa4cd7-8e1c-4748-c0a9-6ee3b5f50ace"
      },
      "source": [
        "km = kmeans(iris.data, centers, metric=metric)\n",
        "km.process()"
      ],
      "execution_count": null,
      "outputs": [
        {
          "output_type": "execute_result",
          "data": {
            "text/plain": [
              "<pyclustering.cluster.kmeans.kmeans at 0x7f03ce5c6ba8>"
            ]
          },
          "metadata": {
            "tags": []
          },
          "execution_count": 19
        }
      ]
    },
    {
      "cell_type": "code",
      "metadata": {
        "id": "zZG4WiEjvYOz",
        "colab_type": "code",
        "colab": {
          "base_uri": "https://localhost:8080/",
          "height": 168
        },
        "outputId": "db819b4f-4ab2-46e4-cef6-8b45bcb65fff"
      },
      "source": [
        "km.get_centers()"
      ],
      "execution_count": null,
      "outputs": [
        {
          "output_type": "execute_result",
          "data": {
            "text/plain": [
              "[[5.901612903225807, 2.748387096774194, 4.393548387096775, 1.4338709677419357],\n",
              " [5.005999999999999,\n",
              "  3.428000000000001,\n",
              "  1.4620000000000002,\n",
              "  0.2459999999999999],\n",
              " [6.8500000000000005,\n",
              "  3.073684210526315,\n",
              "  5.742105263157893,\n",
              "  2.0710526315789473]]"
            ]
          },
          "metadata": {
            "tags": []
          },
          "execution_count": 20
        }
      ]
    },
    {
      "cell_type": "code",
      "metadata": {
        "id": "vhGcJjIzFn_h",
        "colab_type": "code",
        "colab": {
          "base_uri": "https://localhost:8080/",
          "height": 54
        },
        "outputId": "e21d87a3-016a-4a9c-89ec-8906dcd5479d"
      },
      "source": [
        "clusters = km.get_clusters()\n",
        "print(clusters)"
      ],
      "execution_count": null,
      "outputs": [
        {
          "output_type": "stream",
          "text": [
            "[[50, 51, 53, 54, 55, 56, 57, 58, 59, 60, 61, 62, 63, 64, 65, 66, 67, 68, 69, 70, 71, 72, 73, 74, 75, 76, 78, 79, 80, 81, 82, 83, 84, 85, 86, 87, 88, 89, 90, 91, 92, 93, 94, 95, 96, 97, 98, 99, 101, 106, 113, 114, 119, 121, 123, 126, 127, 133, 138, 142, 146, 149], [0, 1, 2, 3, 4, 5, 6, 7, 8, 9, 10, 11, 12, 13, 14, 15, 16, 17, 18, 19, 20, 21, 22, 23, 24, 25, 26, 27, 28, 29, 30, 31, 32, 33, 34, 35, 36, 37, 38, 39, 40, 41, 42, 43, 44, 45, 46, 47, 48, 49], [52, 77, 100, 102, 103, 104, 105, 107, 108, 109, 110, 111, 112, 115, 116, 117, 118, 120, 122, 124, 125, 128, 129, 130, 131, 132, 134, 135, 136, 137, 139, 140, 141, 143, 144, 145, 147, 148]]\n"
          ],
          "name": "stdout"
        }
      ]
    },
    {
      "cell_type": "code",
      "metadata": {
        "id": "FPr5LLkIFoyO",
        "colab_type": "code",
        "colab": {
          "base_uri": "https://localhost:8080/",
          "height": 269
        },
        "outputId": "373dbb12-804b-4c22-c35c-b7d45afc94c9"
      },
      "source": [
        "visualizer = cluster_visualizer_multidim()\n",
        "visualizer.append_clusters(clusters, iris.data.tolist())\n",
        "visualizer.show(max_row_size=3)"
      ],
      "execution_count": null,
      "outputs": [
        {
          "output_type": "display_data",
          "data": {
            "image/png": "[encoded data removed]",
            "text/plain": [
              "<Figure size 432x288 with 6 Axes>"
            ]
          },
          "metadata": {
            "tags": []
          }
        }
      ]
    },
    {
      "cell_type": "code",
      "metadata": {
        "id": "TGbVqx2JMZL2",
        "colab_type": "code",
        "colab": {
          "base_uri": "https://localhost:8080/",
          "height": 34
        },
        "outputId": "f5db8c52-941a-44d8-cbac-852dd1e04053"
      },
      "source": [
        "km.get_total_wce()"
      ],
      "execution_count": null,
      "outputs": [
        {
          "output_type": "execute_result",
          "data": {
            "text/plain": [
              "97.20457357401648"
            ]
          },
          "metadata": {
            "tags": []
          },
          "execution_count": 23
        }
      ]
    },
    {
      "cell_type": "code",
      "metadata": {
        "id": "Ow1GataTmzl3",
        "colab_type": "code",
        "colab": {
          "base_uri": "https://localhost:8080/",
          "height": 84
        },
        "outputId": "f0ad84e5-c9dd-4e86-f331-d949714dbd18"
      },
      "source": [
        "#Accuracy\n",
        "hist = np.zeros(3)\n",
        "output = np.zeros(3)\n",
        "irisCount = np.zeros(3)\n",
        "counter = 0\n",
        "\n",
        "for i in range(len(clusters)):\n",
        "  for j in range(len(clusters[i])):\n",
        "    hist[iris.target[clusters[i][j]]] += 1\n",
        "\n",
        "    if j == (len(clusters[i]) - 1):\n",
        "      if hist[0] >= hist[1] and hist[0] >= hist[2]:\n",
        "        output[i] = hist[0]\n",
        "      elif hist[1] >= hist[0] and hist[1] >= hist[2]:\n",
        "        output[i] = hist[1]\n",
        "      else:\n",
        "        output[i] = hist[2]\n",
        "      \n",
        "      hist[0] = 0\n",
        "      hist[1] = 0\n",
        "      hist[2] = 0\n",
        "\n",
        "for i in range(len(iris.target)):\n",
        "  if iris.target[i] == 0:\n",
        "    irisCount[0] += 1\n",
        "  if iris.target[i] == 1:\n",
        "    irisCount[1] += 1\n",
        "  if iris.target[i] == 2:\n",
        "    irisCount[2] += 1  \n",
        "\n",
        "\n",
        "print(\"Accuracy Cluster 0: \", output[0]/irisCount[0])\n",
        "print(\"Accuracy Cluster 1: \", output[1]/irisCount[1])\n",
        "print(\"Accuracy Cluster 2: \", output[2]/irisCount[2])\n",
        "print(\"Total Accuracy: \", (output[0]/irisCount[0] + output[1]/irisCount[1] + output[2]/irisCount[2]) / 3)"
      ],
      "execution_count": null,
      "outputs": [
        {
          "output_type": "stream",
          "text": [
            "Accuracy Cluster 0:  0.96\n",
            "Accuracy Cluster 1:  1.0\n",
            "Accuracy Cluster 2:  0.72\n",
            "Total Accuracy:  0.8933333333333332\n"
          ],
          "name": "stdout"
        }
      ]
    },
    {
      "cell_type": "markdown",
      "metadata": {
        "id": "j6XNskYGXhg2",
        "colab_type": "text"
      },
      "source": [
        "###Cosine K-means\n"
      ]
    },
    {
      "cell_type": "code",
      "metadata": {
        "id": "lhbN0RurOYzq",
        "colab_type": "code",
        "colab": {
          "base_uri": "https://localhost:8080/",
          "height": 54
        },
        "outputId": "19ed695a-bb36-47b6-9785-525465ce071a"
      },
      "source": [
        "metric = distance_metric(type_metric.USER_DEFINED, func=cosine)\n",
        "\n",
        "centers = kmeans_plusplus_initializer(iris.data, 3, kmeans_plusplus_initializer.FARTHEST_CENTER_CANDIDATE).initialize()\n",
        "print(centers)"
      ],
      "execution_count": null,
      "outputs": [
        {
          "output_type": "stream",
          "text": [
            "[array([6.7, 2.5, 5.8, 1.8]), array([4.6, 3.6, 1. , 0.2]), array([5. , 2. , 3.5, 1. ])]\n"
          ],
          "name": "stdout"
        }
      ]
    },
    {
      "cell_type": "code",
      "metadata": {
        "id": "CXrqzG_J4hLm",
        "colab_type": "code",
        "colab": {
          "base_uri": "https://localhost:8080/",
          "height": 34
        },
        "outputId": "6ac84b17-013f-408f-985b-c4120ae9a319"
      },
      "source": [
        "km = kmeans(iris.data, centers, metric=metric)\n",
        "km.process()"
      ],
      "execution_count": null,
      "outputs": [
        {
          "output_type": "execute_result",
          "data": {
            "text/plain": [
              "<pyclustering.cluster.kmeans.kmeans at 0x7f03cc9cd630>"
            ]
          },
          "metadata": {
            "tags": []
          },
          "execution_count": 26
        }
      ]
    },
    {
      "cell_type": "code",
      "metadata": {
        "id": "CeDyK7HU7AIT",
        "colab_type": "code",
        "colab": {
          "base_uri": "https://localhost:8080/",
          "height": 218
        },
        "outputId": "97b938fe-e353-4947-becf-50863c10caa6"
      },
      "source": [
        "km.get_centers()"
      ],
      "execution_count": null,
      "outputs": [
        {
          "output_type": "execute_result",
          "data": {
            "text/plain": [
              "[[6.5370370370370345,\n",
              "  2.9648148148148143,\n",
              "  5.498148148148147,\n",
              "  1.9944444444444442],\n",
              " [5.005999999999999,\n",
              "  3.428000000000001,\n",
              "  1.4620000000000002,\n",
              "  0.2459999999999999],\n",
              " [5.939130434782609,\n",
              "  2.7630434782608697,\n",
              "  4.210869565217391,\n",
              "  1.3021739130434782]]"
            ]
          },
          "metadata": {
            "tags": []
          },
          "execution_count": 27
        }
      ]
    },
    {
      "cell_type": "code",
      "metadata": {
        "id": "EQVABGy4RnH_",
        "colab_type": "code",
        "colab": {
          "base_uri": "https://localhost:8080/",
          "height": 54
        },
        "outputId": "e4126638-281b-48c2-e880-415d475c14e7"
      },
      "source": [
        "clusters = km.get_clusters()\n",
        "print(clusters)"
      ],
      "execution_count": null,
      "outputs": [
        {
          "output_type": "stream",
          "text": [
            "[[70, 72, 83, 84, 100, 101, 102, 103, 104, 105, 106, 107, 108, 109, 110, 111, 112, 113, 114, 115, 116, 117, 118, 119, 120, 121, 122, 123, 124, 125, 126, 127, 128, 129, 130, 131, 132, 133, 134, 135, 136, 137, 138, 139, 140, 141, 142, 143, 144, 145, 146, 147, 148, 149], [0, 1, 2, 3, 4, 5, 6, 7, 8, 9, 10, 11, 12, 13, 14, 15, 16, 17, 18, 19, 20, 21, 22, 23, 24, 25, 26, 27, 28, 29, 30, 31, 32, 33, 34, 35, 36, 37, 38, 39, 40, 41, 42, 43, 44, 45, 46, 47, 48, 49], [50, 51, 52, 53, 54, 55, 56, 57, 58, 59, 60, 61, 62, 63, 64, 65, 66, 67, 68, 69, 71, 73, 74, 75, 76, 77, 78, 79, 80, 81, 82, 85, 86, 87, 88, 89, 90, 91, 92, 93, 94, 95, 96, 97, 98, 99]]\n"
          ],
          "name": "stdout"
        }
      ]
    },
    {
      "cell_type": "code",
      "metadata": {
        "id": "2rGoReKDS1G3",
        "colab_type": "code",
        "colab": {
          "base_uri": "https://localhost:8080/",
          "height": 269
        },
        "outputId": "4fc49291-3dc8-48fa-eb55-3cf34aaf516f"
      },
      "source": [
        "visualizer = cluster_visualizer_multidim()\n",
        "visualizer.append_clusters(clusters, iris.data.tolist())\n",
        "visualizer.show(max_row_size=3)"
      ],
      "execution_count": null,
      "outputs": [
        {
          "output_type": "display_data",
          "data": {
            "image/png": "[encoded data removed]",
            "text/plain": [
              "<Figure size 432x288 with 6 Axes>"
            ]
          },
          "metadata": {
            "tags": []
          }
        }
      ]
    },
    {
      "cell_type": "code",
      "metadata": {
        "id": "qcFmorloS481",
        "colab_type": "code",
        "colab": {
          "base_uri": "https://localhost:8080/",
          "height": 34
        },
        "outputId": "59c20246-f0a4-4029-c789-7aaa067eedde"
      },
      "source": [
        "km.get_total_wce()"
      ],
      "execution_count": null,
      "outputs": [
        {
          "output_type": "execute_result",
          "data": {
            "text/plain": [
              "0.16165368136016434"
            ]
          },
          "metadata": {
            "tags": []
          },
          "execution_count": 30
        }
      ]
    },
    {
      "cell_type": "code",
      "metadata": {
        "id": "SwFWjDG-iMQ4",
        "colab_type": "code",
        "colab": {
          "base_uri": "https://localhost:8080/",
          "height": 84
        },
        "outputId": "8cc68cf1-8888-460a-bb10-882777cee3a3"
      },
      "source": [
        "#Accuracy\n",
        "hist = np.zeros(3)\n",
        "output = np.zeros(3)\n",
        "irisCount = np.zeros(3)\n",
        "counter = 0\n",
        "\n",
        "for i in range(len(clusters)):\n",
        "  for j in range(len(clusters[i])):\n",
        "    hist[iris.target[clusters[i][j]]] += 1\n",
        "\n",
        "    if j == (len(clusters[i]) - 1):\n",
        "      if hist[0] >= hist[1] and hist[0] >= hist[2]:\n",
        "        output[i] = hist[0]\n",
        "      elif hist[1] >= hist[0] and hist[1] >= hist[2]:\n",
        "        output[i] = hist[1]\n",
        "      else:\n",
        "        output[i] = hist[2]\n",
        "      \n",
        "      hist[0] = 0\n",
        "      hist[1] = 0\n",
        "      hist[2] = 0\n",
        "\n",
        "for i in range(len(iris.target)):\n",
        "  if iris.target[i] == 0:\n",
        "    irisCount[0] += 1\n",
        "  if iris.target[i] == 1:\n",
        "    irisCount[1] += 1\n",
        "  if iris.target[i] == 2:\n",
        "    irisCount[2] += 1  \n",
        "\n",
        "\n",
        "print(\"Accuracy Cluster 0: \", output[0]/irisCount[0])\n",
        "print(\"Accuracy Cluster 1: \", output[1]/irisCount[1])\n",
        "print(\"Accuracy Cluster 2: \", output[2]/irisCount[2])\n",
        "print(\"Total Accuracy: \", (output[0]/irisCount[0] + output[1]/irisCount[1] + output[2]/irisCount[2]) / 3)"
      ],
      "execution_count": null,
      "outputs": [
        {
          "output_type": "stream",
          "text": [
            "Accuracy Cluster 0:  1.0\n",
            "Accuracy Cluster 1:  1.0\n",
            "Accuracy Cluster 2:  0.92\n",
            "Total Accuracy:  0.9733333333333333\n"
          ],
          "name": "stdout"
        }
      ]
    },
    {
      "cell_type": "markdown",
      "metadata": {
        "id": "G4F4SFtmVvXr",
        "colab_type": "text"
      },
      "source": [
        "###Jacard K-means\n"
      ]
    },
    {
      "cell_type": "code",
      "metadata": {
        "id": "WkwJ0Ri1VuVb",
        "colab_type": "code",
        "colab": {
          "base_uri": "https://localhost:8080/",
          "height": 54
        },
        "outputId": "b0a03d6e-06c4-4de6-aa40-0c45df504fb1"
      },
      "source": [
        "metric = distance_metric(type_metric.USER_DEFINED, func=jaccard)\n",
        "\n",
        "centers = kmeans_plusplus_initializer(iris.data, 3).initialize()\n",
        "print(centers)"
      ],
      "execution_count": null,
      "outputs": [
        {
          "output_type": "stream",
          "text": [
            "[array([5.9, 3. , 5.1, 1.8]), array([4.6, 3.1, 1.5, 0.2]), array([7.4, 2.8, 6.1, 1.9])]\n"
          ],
          "name": "stdout"
        }
      ]
    },
    {
      "cell_type": "code",
      "metadata": {
        "id": "pWRgoJuaW4mM",
        "colab_type": "code",
        "colab": {
          "base_uri": "https://localhost:8080/",
          "height": 34
        },
        "outputId": "a998068b-0c4e-4cb5-a47c-5b12f31c7a5a"
      },
      "source": [
        "km = kmeans(iris.data, centers, metric=metric)\n",
        "km.process()"
      ],
      "execution_count": null,
      "outputs": [
        {
          "output_type": "execute_result",
          "data": {
            "text/plain": [
              "<pyclustering.cluster.kmeans.kmeans at 0x7f03cd06b0b8>"
            ]
          },
          "metadata": {
            "tags": []
          },
          "execution_count": 33
        }
      ]
    },
    {
      "cell_type": "code",
      "metadata": {
        "id": "-_LOzAc5W7A_",
        "colab_type": "code",
        "colab": {
          "base_uri": "https://localhost:8080/",
          "height": 34
        },
        "outputId": "779d490b-fea1-4e22-9744-1a88fe4b2dd9"
      },
      "source": [
        "km.get_centers()"
      ],
      "execution_count": null,
      "outputs": [
        {
          "output_type": "execute_result",
          "data": {
            "text/plain": [
              "[[5.843333333333335, 3.057333333333334, 3.7580000000000027, 1.199333333333334]]"
            ]
          },
          "metadata": {
            "tags": []
          },
          "execution_count": 34
        }
      ]
    },
    {
      "cell_type": "code",
      "metadata": {
        "id": "9xivHMDiW-GU",
        "colab_type": "code",
        "colab": {
          "base_uri": "https://localhost:8080/",
          "height": 70
        },
        "outputId": "e407eed9-6936-48df-c9bf-f623c5a7d659"
      },
      "source": [
        "clusters = km.get_clusters()\n",
        "print(clusters)\n",
        "print(len(clusters[0]))"
      ],
      "execution_count": null,
      "outputs": [
        {
          "output_type": "stream",
          "text": [
            "[[0, 1, 2, 3, 4, 5, 6, 7, 8, 9, 10, 11, 12, 13, 14, 15, 16, 17, 18, 19, 20, 21, 22, 23, 24, 25, 26, 27, 28, 29, 30, 31, 32, 33, 34, 35, 36, 37, 38, 39, 40, 41, 42, 43, 44, 45, 46, 47, 48, 49, 50, 51, 52, 53, 54, 55, 56, 57, 58, 59, 60, 61, 62, 63, 64, 65, 66, 67, 68, 69, 70, 71, 72, 73, 74, 75, 76, 77, 78, 79, 80, 81, 82, 83, 84, 85, 86, 87, 88, 89, 90, 91, 92, 93, 94, 95, 96, 97, 98, 99, 100, 101, 102, 103, 104, 105, 106, 107, 108, 109, 110, 111, 112, 113, 114, 115, 116, 117, 118, 119, 120, 121, 122, 123, 124, 125, 126, 127, 128, 129, 130, 131, 132, 133, 134, 135, 136, 137, 138, 139, 140, 141, 142, 143, 144, 145, 146, 147, 148, 149]]\n",
            "150\n"
          ],
          "name": "stdout"
        }
      ]
    },
    {
      "cell_type": "code",
      "metadata": {
        "id": "XDULXmSnXBgX",
        "colab_type": "code",
        "colab": {
          "base_uri": "https://localhost:8080/",
          "height": 269
        },
        "outputId": "82f1aa74-5bc7-440f-ffa1-9b07ba0b0742"
      },
      "source": [
        "visualizer = cluster_visualizer_multidim()\n",
        "visualizer.append_clusters(clusters, iris.data.tolist())\n",
        "visualizer.show(max_row_size=3)"
      ],
      "execution_count": null,
      "outputs": [
        {
          "output_type": "display_data",
          "data": {
            "image/png": "[encoded data removed]",
            "text/plain": [
              "<Figure size 432x288 with 6 Axes>"
            ]
          },
          "metadata": {
            "tags": []
          }
        }
      ]
    },
    {
      "cell_type": "code",
      "metadata": {
        "id": "FmrnaKAufjIy",
        "colab_type": "code",
        "colab": {
          "base_uri": "https://localhost:8080/",
          "height": 34
        },
        "outputId": "245105cf-9133-42af-a8df-0b202f3614d2"
      },
      "source": [
        "km.get_total_wce()"
      ],
      "execution_count": null,
      "outputs": [
        {
          "output_type": "execute_result",
          "data": {
            "text/plain": [
              "150.0"
            ]
          },
          "metadata": {
            "tags": []
          },
          "execution_count": 37
        }
      ]
    },
    {
      "cell_type": "code",
      "metadata": {
        "id": "Ja2JjDUumv_O",
        "colab_type": "code",
        "colab": {
          "base_uri": "https://localhost:8080/",
          "height": 84
        },
        "outputId": "570b317d-9de2-4e79-c901-9a99cb5153dc"
      },
      "source": [
        "#Accuracy\n",
        "hist = np.zeros(3)\n",
        "output = np.zeros(3)\n",
        "irisCount = np.zeros(3)\n",
        "counter = 0\n",
        "\n",
        "for i in range(len(clusters)):\n",
        "  for j in range(len(clusters[i])):\n",
        "    hist[iris.target[clusters[i][j]]] += 1\n",
        "\n",
        "    if j == (len(clusters[i]) - 1):\n",
        "      if hist[0] >= hist[1] and hist[0] >= hist[2]:\n",
        "        output[i] = hist[0]\n",
        "      elif hist[1] >= hist[0] and hist[1] >= hist[2]:\n",
        "        output[i] = hist[1]\n",
        "      else:\n",
        "        output[i] = hist[2]\n",
        "      \n",
        "      hist[0] = 0\n",
        "      hist[1] = 0\n",
        "      hist[2] = 0\n",
        "\n",
        "for i in range(len(iris.target)):\n",
        "  if iris.target[i] == 0:\n",
        "    irisCount[0] += 1\n",
        "  if iris.target[i] == 1:\n",
        "    irisCount[1] += 1\n",
        "  if iris.target[i] == 2:\n",
        "    irisCount[2] += 1  \n",
        "\n",
        "\n",
        "print(\"Accuracy Cluster 0: \", output[0]/irisCount[0])\n",
        "print(\"Accuracy Cluster 1: \", output[1]/irisCount[1])\n",
        "print(\"Accuracy Cluster 2: \", output[2]/irisCount[2])\n",
        "print(\"Total Accuracy: \", (output[0]/irisCount[0] + output[1]/irisCount[1] + output[2]/irisCount[2]) / 3)"
      ],
      "execution_count": null,
      "outputs": [
        {
          "output_type": "stream",
          "text": [
            "Accuracy Cluster 0:  1.0\n",
            "Accuracy Cluster 1:  0.0\n",
            "Accuracy Cluster 2:  0.0\n",
            "Total Accuracy:  0.3333333333333333\n"
          ],
          "name": "stdout"
        }
      ]
    }
  ]
}