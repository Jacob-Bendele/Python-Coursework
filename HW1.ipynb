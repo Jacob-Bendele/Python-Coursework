{
  "nbformat": 4,
  "nbformat_minor": 0,
  "metadata": {
    "colab": {
      "name": "HW1.ipynb",
      "provenance": [],
      "authorship_tag": "ABX9TyOraDgEbMcnJfZx54fUBXsd",
      "include_colab_link": true
    },
    "kernelspec": {
      "name": "python3",
      "display_name": "Python 3"
    },
    "accelerator": "GPU"
  },
  "cells": [
    {
      "cell_type": "markdown",
      "metadata": {
        "id": "view-in-github",
        "colab_type": "text"
      },
      "source": [
        "<a href=\"https://colab.research.google.com/github/Jacob-Bendele/Python-Coursework/blob/master/HW1.ipynb\" target=\"_parent\"><img src=\"https://colab.research.google.com/assets/colab-badge.svg\" alt=\"Open In Colab\"/></a>"
      ]
    },
    {
      "cell_type": "markdown",
      "metadata": {
        "id": "VF7CZVIb1yRE",
        "colab_type": "text"
      },
      "source": [
        "Jacob Bendele <br>\n",
        "• Analyzing the Titanic passengers data set"
      ]
    },
    {
      "cell_type": "markdown",
      "metadata": {
        "id": "8iYBaJnRgxzj",
        "colab_type": "text"
      },
      "source": [
        "#Setup"
      ]
    },
    {
      "cell_type": "code",
      "metadata": {
        "id": "dD3IKGW-CvpT",
        "colab_type": "code",
        "colab": {}
      },
      "source": [
        "import numpy as np\n",
        "import pandas as pd\n",
        "import os"
      ],
      "execution_count": null,
      "outputs": []
    },
    {
      "cell_type": "code",
      "metadata": {
        "id": "B7HZsv6zC1zF",
        "colab_type": "code",
        "colab": {
          "base_uri": "https://localhost:8080/",
          "height": 121
        },
        "outputId": "45f8ea55-ea31-493d-9857-8196abbcbdc3"
      },
      "source": [
        "from google.colab import drive\n",
        "drive.mount('/content/drive')"
      ],
      "execution_count": null,
      "outputs": [
        {
          "output_type": "stream",
          "text": [
            "Go to this URL in a browser: https://accounts.google.com/o/oauth2/auth?client_id=947318989803-6bn6qk8qdgf4n4g3pfee6491hc0brc4i.apps.googleusercontent.com&redirect_uri=urn%3aietf%3awg%3aoauth%3a2.0%3aoob&response_type=code&scope=email%20https%3a%2f%2fwww.googleapis.com%2fauth%2fdocs.test%20https%3a%2f%2fwww.googleapis.com%2fauth%2fdrive%20https%3a%2f%2fwww.googleapis.com%2fauth%2fdrive.photos.readonly%20https%3a%2f%2fwww.googleapis.com%2fauth%2fpeopleapi.readonly\n",
            "\n",
            "Enter your authorization code:\n",
            "··········\n",
            "Mounted at /content/drive\n"
          ],
          "name": "stdout"
        }
      ]
    },
    {
      "cell_type": "code",
      "metadata": {
        "id": "zFvatSKzHU9s",
        "colab_type": "code",
        "colab": {}
      },
      "source": [
        "!ls drive/'My Drive'/'Machine Learning'/"
      ],
      "execution_count": null,
      "outputs": []
    },
    {
      "cell_type": "code",
      "metadata": {
        "id": "Ywp1tFDdIIo7",
        "colab_type": "code",
        "colab": {}
      },
      "source": [
        "os.chdir('drive/My Drive/Machine Learning/')  #change dir\n",
        "!mkdir train  #create a directory named train/\n",
        "!mkdir test  #create a directory named test/\n",
        "!unzip -q titanic.zip\n",
        "!mv test.csv test\n",
        "!mv train.csv train"
      ],
      "execution_count": null,
      "outputs": []
    },
    {
      "cell_type": "code",
      "metadata": {
        "id": "b-ysc-yXJHmU",
        "colab_type": "code",
        "colab": {}
      },
      "source": [
        "pd.option_context('display.max_rows', None, 'dipslay.max_columns', None)\n",
        "train_df = pd.read_csv(\"train/train.csv\")\n",
        "test_df = pd.read_csv(\"test/test.csv\")\n",
        "combine = [train_df, test_df]"
      ],
      "execution_count": null,
      "outputs": []
    },
    {
      "cell_type": "markdown",
      "metadata": {
        "id": "uilFBH0Ug1xb",
        "colab_type": "text"
      },
      "source": [
        "#Data Analysis"
      ]
    },
    {
      "cell_type": "code",
      "metadata": {
        "id": "oZ_JQliUMGNI",
        "colab_type": "code",
        "colab": {
          "base_uri": "https://localhost:8080/",
          "height": 877
        },
        "outputId": "e5064fa1-f097-4855-bad1-f72a77c29260"
      },
      "source": [
        "print(list(train_df))\n",
        "print(\"\\n\\nExample of Data Frame Entry:\\n\")\n",
        "print(train_df.loc[200,:])\n",
        "print(\"\\nWhich of the Features has Missing data:\\n\")\n",
        "print(train_df.isnull().any())\n",
        "print(\"\\nWhat data types do the features consist of:\\n\")\n",
        "print(train_df.dtypes)"
      ],
      "execution_count": null,
      "outputs": [
        {
          "output_type": "stream",
          "text": [
            "['PassengerId', 'Survived', 'Pclass', 'Name', 'Sex', 'Age', 'SibSp', 'Parch', 'Ticket', 'Fare', 'Cabin', 'Embarked']\n",
            "\n",
            "\n",
            "Example of Data Frame Entry:\n",
            "\n",
            "PassengerId                               201\n",
            "Survived                                    0\n",
            "Pclass                                      3\n",
            "Name           Vande Walle, Mr. Nestor Cyriel\n",
            "Sex                                      male\n",
            "Age                                        28\n",
            "SibSp                                       0\n",
            "Parch                                       0\n",
            "Ticket                                 345770\n",
            "Fare                                      9.5\n",
            "Cabin                                     NaN\n",
            "Embarked                                    S\n",
            "Name: 200, dtype: object\n",
            "\n",
            "Which of the Features has Missing data:\n",
            "\n",
            "PassengerId    False\n",
            "Survived       False\n",
            "Pclass         False\n",
            "Name           False\n",
            "Sex            False\n",
            "Age             True\n",
            "SibSp          False\n",
            "Parch          False\n",
            "Ticket         False\n",
            "Fare           False\n",
            "Cabin           True\n",
            "Embarked        True\n",
            "dtype: bool\n",
            "\n",
            "What data types do the features consist of:\n",
            "\n",
            "PassengerId      int64\n",
            "Survived         int64\n",
            "Pclass           int64\n",
            "Name            object\n",
            "Sex             object\n",
            "Age            float64\n",
            "SibSp            int64\n",
            "Parch            int64\n",
            "Ticket          object\n",
            "Fare           float64\n",
            "Cabin           object\n",
            "Embarked        object\n",
            "dtype: object\n"
          ],
          "name": "stdout"
        }
      ]
    },
    {
      "cell_type": "markdown",
      "metadata": {
        "id": "74pf4GIjgr5Z",
        "colab_type": "text"
      },
      "source": [
        "#Numerical Features Data"
      ]
    },
    {
      "cell_type": "code",
      "metadata": {
        "id": "IVjGDu6sgnKx",
        "colab_type": "code",
        "colab": {
          "base_uri": "https://localhost:8080/",
          "height": 958
        },
        "outputId": "381cd5ab-c5cf-4696-fa61-c1ffc8715091"
      },
      "source": [
        "print(\"The distribution of numerical features using pandas methods.\\n\")\n",
        "print(\"COUNT:\\n\")\n",
        "print(\"Age:\", combine[0].loc[:,\"Age\"].count())\n",
        "print(\"SibSP:\", combine[0].loc[:,\"SibSp\"].count())\n",
        "print(\"Parch:\", combine[0].loc[:,\"Parch\"].count())\n",
        "print(\"Fare:\", combine[0].loc[:,\"Fare\"].count())\n",
        "print(\"\\nMEAN:\\n\")\n",
        "print(\"Age:\", combine[0].loc[:,\"Age\"].mean())\n",
        "print(\"SibSP:\", combine[0].loc[:,\"SibSp\"].mean())\n",
        "print(\"Parch:\", combine[0].loc[:,\"Parch\"].mean())\n",
        "print(\"Fare:\", combine[0].loc[:,\"Fare\"].mean())\n",
        "print(\"\\nSTD:\\n\")\n",
        "print(\"Age:\", combine[0].loc[:,\"Age\"].std())\n",
        "print(\"SibSP:\", combine[0].loc[:,\"SibSp\"].std())\n",
        "print(\"Parch:\", combine[0].loc[:,\"Parch\"].std())\n",
        "print(\"Fare:\", combine[0].loc[:,\"Fare\"].std())\n",
        "print(\"\\nMIN:\\n\")\n",
        "print(\"Age:\", combine[0].loc[:,\"Age\"].min())\n",
        "print(\"SibSP:\", combine[0].loc[:,\"SibSp\"].min())\n",
        "print(\"Parch:\", combine[0].loc[:,\"Parch\"].min())\n",
        "print(\"Fare:\", combine[0].loc[:,\"Fare\"].min())\n",
        "print(\"\\nQUANTILE:\\n\")\n",
        "print(\"25th Percentile\")\n",
        "print(\"Age:\", combine[0].loc[:,\"Age\"].quantile(q = 0.25))\n",
        "print(\"SibSP:\", combine[0].loc[:,\"SibSp\"].quantile(q = 0.25))\n",
        "print(\"Parch:\", combine[0].loc[:,\"Parch\"].quantile(q = 0.25))\n",
        "print(\"Fare:\", combine[0].loc[:,\"Fare\"].quantile(q = 0.25))\n",
        "print(\"\\n50th Percentile\")\n",
        "print(\"Age:\", combine[0].loc[:,\"Age\"].quantile(q = 0.50))\n",
        "print(\"SibSP:\", combine[0].loc[:,\"SibSp\"].quantile(q = 0.50))\n",
        "print(\"Parch:\", combine[0].loc[:,\"Parch\"].quantile(q = 0.50))\n",
        "print(\"Fare:\", combine[0].loc[:,\"Fare\"].quantile(q = 0.50))\n",
        "print(\"\\n75th Percentile\")\n",
        "print(\"Age:\", combine[0].loc[:,\"Age\"].quantile(q = 0.75))\n",
        "print(\"SibSP:\", combine[0].loc[:,\"SibSp\"].quantile(q = 0.75))\n",
        "print(\"Parch:\", combine[0].loc[:,\"Parch\"].quantile(q = 0.75))\n",
        "print(\"Fare:\", combine[0].loc[:,\"Fare\"].quantile(q = 0.75))\n",
        "print(\"\\nMAX:\\n\")\n",
        "print(\"Age:\", combine[0].loc[:,\"Age\"].max())\n",
        "print(\"SibSP:\", combine[0].loc[:,\"SibSp\"].max())\n",
        "print(\"Parch:\", combine[0].loc[:,\"Parch\"].max())\n",
        "print(\"Fare:\", combine[0].loc[:,\"Fare\"].max())"
      ],
      "execution_count": null,
      "outputs": [
        {
          "output_type": "stream",
          "text": [
            "The distribution of numerical features using pandas methods.\n",
            "\n",
            "COUNT:\n",
            "\n",
            "Age: 714\n",
            "SibSP: 891\n",
            "Parch: 891\n",
            "Fare: 891\n",
            "\n",
            "MEAN:\n",
            "\n",
            "Age: 29.69911764705882\n",
            "SibSP: 0.5230078563411896\n",
            "Parch: 0.38159371492704824\n",
            "Fare: 32.2042079685746\n",
            "\n",
            "STD:\n",
            "\n",
            "Age: 14.526497332334044\n",
            "SibSP: 1.1027434322934275\n",
            "Parch: 0.8060572211299559\n",
            "Fare: 49.693428597180905\n",
            "\n",
            "MIN:\n",
            "\n",
            "Age: 0.42\n",
            "SibSP: 0\n",
            "Parch: 0\n",
            "Fare: 0.0\n",
            "\n",
            "QUANTILE:\n",
            "\n",
            "25th Percentile\n",
            "Age: 20.125\n",
            "SibSP: 0.0\n",
            "Parch: 0.0\n",
            "Fare: 7.9104\n",
            "\n",
            "50th Percentile\n",
            "Age: 28.0\n",
            "SibSP: 0.0\n",
            "Parch: 0.0\n",
            "Fare: 14.4542\n",
            "\n",
            "75th Percentile\n",
            "Age: 38.0\n",
            "SibSP: 1.0\n",
            "Parch: 0.0\n",
            "Fare: 31.0\n",
            "\n",
            "MAX:\n",
            "\n",
            "Age: 80.0\n",
            "SibSP: 8\n",
            "Parch: 6\n",
            "Fare: 512.3292\n"
          ],
          "name": "stdout"
        }
      ]
    },
    {
      "cell_type": "markdown",
      "metadata": {
        "id": "P6pYU_dZtOxE",
        "colab_type": "text"
      },
      "source": [
        "#Categorical Features Data"
      ]
    },
    {
      "cell_type": "code",
      "metadata": {
        "id": "rSRklB4LtRbk",
        "colab_type": "code",
        "colab": {
          "base_uri": "https://localhost:8080/",
          "height": 773
        },
        "outputId": "47840438-c5d1-4cd7-f8fb-f20767e4ea3f"
      },
      "source": [
        "print(\"The distribution of Categorical features using pandas methods.\\n\")\n",
        "print(\"COUNT:\\n\")\n",
        "print(\"PassengerId:\", combine[0].loc[:,\"PassengerId\"].count())\n",
        "print(\"Survived:\", combine[0].loc[:,\"Survived\"].count())\n",
        "print(\"Pclass:\", combine[0].loc[:,\"Pclass\"].count())\n",
        "print(\"Name:\", combine[0].loc[:,\"Name\"].count())\n",
        "print(\"Sex:\", combine[0].loc[:,\"Sex\"].count())\n",
        "print(\"Ticket:\", combine[0].loc[:,\"Ticket\"].count())\n",
        "print(\"Cabin:\", combine[0].loc[:,\"Cabin\"].count())\n",
        "print(\"Embarked:\", combine[0].loc[:,\"Embarked\"].count())\n",
        "print(\"\\nUNIQUE CATEGORICAL VALUES:\\n\")\n",
        "print(\"PassengerId:\", len(combine[0].loc[:,\"PassengerId\"].value_counts()))\n",
        "print(\"Survived:\", len(combine[0].loc[:,\"Survived\"].value_counts()))\n",
        "print(\"Pclass:\", len(combine[0].loc[:,\"Pclass\"].value_counts()))\n",
        "print(\"Name:\", len(combine[0].loc[:,\"Name\"].value_counts()))\n",
        "print(\"Sex:\", len(combine[0].loc[:,\"Sex\"].value_counts()))\n",
        "print(\"Ticket:\", len(combine[0].loc[:,\"Ticket\"].value_counts()))\n",
        "print(\"Cabin:\", len(combine[0].loc[:,\"Cabin\"].value_counts()))\n",
        "print(\"Embarked:\", len(combine[0].loc[:,\"Embarked\"].value_counts()))\n",
        "print(\"\\nTOP FREQUENT VALUE:\\n\")\n",
        "print(\"PassengerId:\", combine[0].loc[:,\"PassengerId\"].value_counts().idxmax())\n",
        "print(\"Survived:\", combine[0].loc[:,\"Survived\"].value_counts().idxmax())\n",
        "print(\"Pclass:\", combine[0].loc[:,\"Pclass\"].value_counts().idxmax())\n",
        "print(\"Name:\", combine[0].loc[:,\"Name\"].value_counts().idxmax())\n",
        "print(\"Sex:\", combine[0].loc[:,\"Sex\"].value_counts().idxmax())\n",
        "print(\"Ticket:\", combine[0].loc[:,\"Ticket\"].value_counts().idxmax())\n",
        "print(\"Cabin:\", combine[0].loc[:,\"Cabin\"].value_counts().idxmax())\n",
        "print(\"Embarked:\", combine[0].loc[:,\"Embarked\"].value_counts().idxmax())\n",
        "print(\"\\nFREQUENCY OF TOP VALUE:\\n\")\n",
        "print(\"PassengerId:\", combine[0].loc[:,\"PassengerId\"].value_counts().max())\n",
        "print(\"Survived:\", combine[0].loc[:,\"Survived\"].value_counts().max())\n",
        "print(\"Pclass:\", combine[0].loc[:,\"Pclass\"].value_counts().max())\n",
        "print(\"Name:\", combine[0].loc[:,\"Name\"].value_counts().max())\n",
        "print(\"Sex:\", combine[0].loc[:,\"Sex\"].value_counts().max())\n",
        "print(\"Ticket:\", combine[0].loc[:,\"Ticket\"].value_counts().max())\n",
        "print(\"Cabin:\", combine[0].loc[:,\"Cabin\"].value_counts().max())\n",
        "print(\"Embarked:\", combine[0].loc[:,\"Embarked\"].value_counts().max())\n"
      ],
      "execution_count": null,
      "outputs": [
        {
          "output_type": "stream",
          "text": [
            "The distribution of Categorical features using pandas methods.\n",
            "\n",
            "COUNT:\n",
            "\n",
            "PassengerId: 891\n",
            "Survived: 891\n",
            "Pclass: 891\n",
            "Name: 891\n",
            "Sex: 891\n",
            "Ticket: 891\n",
            "Cabin: 204\n",
            "Embarked: 889\n",
            "\n",
            "UNIQUE CATEGORICAL VALUES:\n",
            "\n",
            "PassengerId: 891\n",
            "Survived: 2\n",
            "Pclass: 3\n",
            "Name: 891\n",
            "Sex: 2\n",
            "Ticket: 681\n",
            "Cabin: 147\n",
            "Embarked: 3\n",
            "\n",
            "TOP FREQUENT VALUE:\n",
            "\n",
            "PassengerId: 891\n",
            "Survived: 0\n",
            "Pclass: 3\n",
            "Name: Stewart, Mr. Albert A\n",
            "Sex: male\n",
            "Ticket: 347082\n",
            "Cabin: B96 B98\n",
            "Embarked: S\n",
            "\n",
            "FREQUENCY OF TOP VALUE:\n",
            "\n",
            "PassengerId: 1\n",
            "Survived: 549\n",
            "Pclass: 491\n",
            "Name: 1\n",
            "Sex: 577\n",
            "Ticket: 7\n",
            "Cabin: 4\n",
            "Embarked: 644\n"
          ],
          "name": "stdout"
        }
      ]
    }
  ]
}